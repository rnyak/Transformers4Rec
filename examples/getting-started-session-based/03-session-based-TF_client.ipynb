{
 "cells": [
  {
   "cell_type": "code",
   "execution_count": 1,
   "id": "a80e3429",
   "metadata": {},
   "outputs": [],
   "source": [
    "# Copyright 2021 NVIDIA Corporation. All Rights Reserved.\n",
    "#\n",
    "# Licensed under the Apache License, Version 2.0 (the \"License\");\n",
    "# you may not use this file except in compliance with the License.\n",
    "# You may obtain a copy of the License at\n",
    "#\n",
    "#     http://www.apache.org/licenses/LICENSE-2.0\n",
    "#\n",
    "# Unless required by applicable law or agreed to in writing, software\n",
    "# distributed under the License is distributed on an \"AS IS\" BASIS,\n",
    "# WITHOUT WARRANTIES OR CONDITIONS OF ANY KIND, either express or implied.\n",
    "# See the License for the specific language governing permissions and\n",
    "# limitations under the License.\n",
    "# =============================================================================="
   ]
  },
  {
   "cell_type": "markdown",
   "id": "18c67dfd",
   "metadata": {},
   "source": [
    "# Session-based Recommendation with XLNET"
   ]
  },
  {
   "cell_type": "markdown",
   "id": "c41a881b",
   "metadata": {},
   "source": [
    "In this notebook we introduce the [Transformers4Rec](https://github.com/NVIDIA-Merlin/Transformers4Rec) library for sequential and session-based recommendation. This notebook uses the PyTorch API, but a TensorFlow API is also available. Transformers4Rec integrates with the popular [HuggingFace’s Transformers](https://github.com/huggingface/transformers) and make it possible to experiment with cutting-edge implementation of the latest NLP Transformer architectures.  \n",
    "\n",
    "We demonstrate how to build a session-based recommendation model with the [XLNET](https://arxiv.org/abs/1906.08237) Transformer architecture. The XLNet architecture was designed to leverage the best of both auto-regressive language modeling and auto-encoding with its Permutation Language Modeling training method. In this example we will use XLNET with masked language modeling (MLM) training method, which showed very promising results in the experiments conducted in our [ACM RecSys'21 paper](https://github.com/NVIDIA-Merlin/publications/blob/main/2021_acm_recsys_transformers4rec/recsys21_transformers4rec_paper.pdf)."
   ]
  },
  {
   "cell_type": "markdown",
   "id": "bd8bae87",
   "metadata": {},
   "source": [
    "In the previous notebook we went through our ETL pipeline with NVTabular library, and created sequential features to be used in training a session-based recommendation model. In this notebook we will learn:\n",
    "\n",
    "- Accelerating data loading of parquet files with multiple features on PyTorch using NVTabular library\n",
    "- Training and evaluating a Transformer-based (XLNET-MLM) session-based recommendation model with multiple features"
   ]
  },
  {
   "cell_type": "markdown",
   "id": "6873cf6c",
   "metadata": {},
   "source": [
    "## Build a DL model with Transformers4Rec library  "
   ]
  },
  {
   "cell_type": "markdown",
   "id": "355c7ca8",
   "metadata": {},
   "source": [
    "Transformers4Rec supports multiple input features and provides configurable building blocks that can be easily combined for custom architectures:\n",
    "\n",
    "- [TabularSequenceFeatures](https://nvidia-merlin.github.io/Transformers4Rec/main/api/transformers4rec.tf.html#transformers4rec.torch.TabularSequenceFeatures) class that reads from schema and creates an input block. This input module combines different types of features (continuous, categorical & text) to a sequence.\n",
    "-  [MaskSequence](https://github.com/NVIDIA-Merlin/Transformers4Rec/blob/main/transformers4rec/tf/masking.py) to define masking schema and prepare the masked inputs and labels for the selected LM task.\n",
    "-  [TransformerBlock](https://nvidia-merlin.github.io/Transformers4Rec/main/api/transformers4rec.tf.html#transformers4rec.torch.TransformerBlock) class that supports HuggingFace Transformers for session-based and sequential-based recommendation models.\n",
    "-  [SequentialBlock](https://nvidia-merlin.github.io/Transformers4Rec/main/api/transformers4rec.tf.html#transformers4rec.torch.SequentialBlock) creates the body by mimicking [tf.keras.Sequential](https://www.tensorflow.org/api_docs/python/tf/keras/Sequential) class. It is designed to define our model as a sequence of layers.\n",
    "-  [Head](https://nvidia-merlin.github.io/Transformers4Rec/main/api/transformers4rec.tf.html#transformers4rec.tf.Head) where we define the prediction task of the model.\n",
    "-  [NextItemPredictionTask](https://nvidia-merlin.github.io/Transformers4Rec/main/api/transformers4rec.tf.html#transformers4rec.tf.NextItemPredictionTask) is the class to support next item prediction task.\n",
    "\n",
    "You can check the [full documentation](https://nvidia-merlin.github.io/Transformers4Rec/main/index.html) of Transformers4Rec if needed."
   ]
  },
  {
   "cell_type": "markdown",
   "id": "e7e3dfbf",
   "metadata": {},
   "source": [
    "Figure 1 illustrates Transformers4Rec meta-architecture and how each module/block interacts with each other."
   ]
  },
  {
   "cell_type": "markdown",
   "id": "11bc87a0",
   "metadata": {},
   "source": [
    "![tf4rec_meta](images/tf4rec_meta2.png)"
   ]
  },
  {
   "cell_type": "markdown",
   "id": "7f09e6a7",
   "metadata": {},
   "source": [
    "### Imports required libraries"
   ]
  },
  {
   "cell_type": "code",
   "execution_count": 2,
   "id": "902140cb",
   "metadata": {},
   "outputs": [],
   "source": [
    "import os\n",
    "import os\n",
    "os.environ['TF_CPP_MIN_LOG_LEVEL'] = '3' \n",
    "import glob\n",
    "\n",
    "from nvtabular.loader.tensorflow import KerasSequenceLoader\n",
    "\n",
    "from transformers4rec import tf as tr\n",
    "from transformers4rec.tf.ranking_metric import NDCGAt, AvgPrecisionAt, RecallAt"
   ]
  },
  {
   "cell_type": "code",
   "execution_count": 3,
   "id": "f86c99a0",
   "metadata": {},
   "outputs": [],
   "source": [
    "import cudf\n",
    "import dask_cudf\n",
    "from cudf.io.parquet import ParquetWriter as pwriter_cudf\n",
    "from dask_cudf.io.parquet import CudfEngine"
   ]
  },
  {
   "cell_type": "markdown",
   "id": "19af0ad1",
   "metadata": {},
   "source": [
    "Transformers4Rec library relies on a schema object to automatically build all necessary layers to represent, normalize and aggregate input features. As you can see below, `schema.pb` is a protobuf file that contains metadata including statistics about features such as cardinality, min and max values and also tags features based on their characteristics and dtypes (e.g., categorical, continuous, list, integer)."
   ]
  },
  {
   "cell_type": "markdown",
   "id": "dbdc3754",
   "metadata": {},
   "source": [
    "### Manually set the schema "
   ]
  },
  {
   "cell_type": "code",
   "execution_count": 4,
   "id": "65879e8c",
   "metadata": {},
   "outputs": [],
   "source": [
    "from merlin_standard_lib import Schema\n",
    "SCHEMA_PATH = \"schema.pb\"\n",
    "schema = Schema().from_proto_text(SCHEMA_PATH)\n",
    "# !cat $SCHEMA_PATH"
   ]
  },
  {
   "cell_type": "code",
   "execution_count": 5,
   "id": "9247f42f",
   "metadata": {},
   "outputs": [],
   "source": [
    "# You can select a subset of features for training\n",
    "schema = schema.select_by_name(['item_id-list_trim', \n",
    "                                'category-list_trim'])\n",
    "\n",
    "# 'timestamp/weekday/sin-list_trim', 'timestamp/age_days-list_trim'"
   ]
  },
  {
   "cell_type": "code",
   "execution_count": 6,
   "id": "3f321f1f",
   "metadata": {},
   "outputs": [],
   "source": [
    "import nvtabular as nvt\n",
    "workflow = nvt.Workflow.load('workflow_etl')"
   ]
  },
  {
   "cell_type": "code",
   "execution_count": 7,
   "id": "4ac791aa",
   "metadata": {},
   "outputs": [
    {
     "data": {
      "text/plain": [
       "{'item_id-count': dtype('int32'),\n",
       " 'day-first': dtype('int64'),\n",
       " 'session_id': dtype('int64'),\n",
       " 'category-list_trim': ListDtype(int64),\n",
       " 'item_id-list_trim': ListDtype(int64),\n",
       " 'timestamp/age_days-list_trim': ListDtype(float64),\n",
       " 'timestamp/weekday/sin-list_trim': ListDtype(float64)}"
      ]
     },
     "execution_count": 7,
     "metadata": {},
     "output_type": "execute_result"
    }
   ],
   "source": [
    "workflow.output_dtypes"
   ]
  },
  {
   "cell_type": "markdown",
   "id": "b4f6b360",
   "metadata": {},
   "source": [
    "### Define the sequential input module"
   ]
  },
  {
   "cell_type": "markdown",
   "id": "edf4e415",
   "metadata": {},
   "source": [
    "Below we define our `input` block using the `TabularSequenceFeatures` [class](https://github.com/NVIDIA-Merlin/Transformers4Rec/blob/main/transformers4rec/tf/features/sequence.py#L121). The `from_schema()` method processes the schema and creates the necessary layers to represent features and aggregate them. It keeps only features tagged as `categorical` and `continuous` and supports data aggregation methods like `concat` and `elementwise-sum` techniques. It also support data augmentation techniques like stochastic swap noise. It outputs an interaction representation after combining all features and also the input mask according to the training task (more on this later).\n"
   ]
  },
  {
   "cell_type": "markdown",
   "id": "4b9d58bc",
   "metadata": {},
   "source": [
    "The `max_sequence_length` argument defines the maximum sequence length of our sequential input, and if `continuous_projection` argument is set, all numerical features are concatenated and projected by an MLP block so that continuous features are represented by a vector of size defined by user, which is `64` in this example."
   ]
  },
  {
   "cell_type": "code",
   "execution_count": 8,
   "id": "f8cf9579",
   "metadata": {},
   "outputs": [],
   "source": [
    "inputs = tr.TabularSequenceFeatures.from_schema(\n",
    "        schema,\n",
    "        max_sequence_length=20,\n",
    "        d_output=100,\n",
    "        masking=\"mlm\",\n",
    ")"
   ]
  },
  {
   "cell_type": "markdown",
   "id": "86619ce9",
   "metadata": {},
   "source": [
    "The output of the `TabularSequenceFeatures` module is the sequence of interactions embeddings vectors defined in the following steps:\n",
    "- 1. Create sequence inputs: If the schema contains non sequential features, expand each feature to a sequence by repeating the value as many as the `max_sequence_length` value.  \n",
    "- 2. Get a representation vector of categorical features: Project each sequential categorical feature using the related embedding table. The resulting tensor is of shape (bs, max_sequence_length, embed_dim).\n",
    "- 3. Project scalar values if `continuous_projection` is set : Apply an MLP layer with hidden size equal to `continuous_projection` vector size value. The resulting tensor is of shape (batch_size, max_sequence_length, continuous_projection).\n",
    "- 4. Aggregate the list of features vectors to represent each interaction in the sequence with one vector: For example, `concat` will concat all vectors based on the last dimension `-1` and the resulting tensor will be of shape (batch_size, max_sequence_length, D) where D is the sum over all embedding dimensions and the value of continuous_projection. \n",
    "- 5. If masking schema is set (needed only for the NextItemPredictionTask training), the masked labels are derived from the sequence of raw item-ids and the sequence of interactions embeddings are processed to mask information about the masked positions."
   ]
  },
  {
   "cell_type": "markdown",
   "id": "4b34bdeb",
   "metadata": {},
   "source": [
    "### Define the Transformer Block"
   ]
  },
  {
   "cell_type": "markdown",
   "id": "58112e79",
   "metadata": {},
   "source": [
    "In the next cell, the whole model is build with a few lines of code. \n",
    "Here is a brief explanation of the main classes:  \n",
    "- [XLNetConfig](https://github.com/NVIDIA-Merlin/Transformers4Rec/blob/main/transformers4rec/config/transformer.py#L261) - We have injected in the HF transformers config classes like `XLNetConfig` the `build()` method, that provides default configuration to Transformer architectures for session-based recommendation. Here we use it to instantiate and configure an XLNET architecture.  \n",
    "- [TransformerBlock](https://github.com/NVIDIA-Merlin/Transformers4Rec/blob/main/transformers4rec/tf/block/transformer.py#L42) class integrates with HF Transformers, which are made available as a sequence processing module for session-based and sequential-based recommendation models.  \n",
    "- [NextItemPredictionTask](https://github.com/NVIDIA-Merlin/Transformers4Rec/blob/405e3142f1274b1b0d642f4834ac437f2549cd33/transformers4rec/tf/model/prediction_task.py#82) supports the next-item prediction task. We also support other predictions [tasks](https://github.com/NVIDIA-Merlin/Transformers4Rec/blob/main/transformers4rec/tf/model/prediction_task.py), like classification and regression for the whole sequence. "
   ]
  },
  {
   "cell_type": "code",
   "execution_count": 9,
   "id": "42079e28",
   "metadata": {},
   "outputs": [],
   "source": [
    "# Define XLNetConfig class and set default parameters for HF XLNet config  \n",
    "transformer_config = tr.XLNetConfig.build(\n",
    "    d_model=64, n_head=4, n_layer=2, total_seq_length=20\n",
    ")\n",
    "# Define the model block including: inputs, masking, projection and transformer block.\n",
    "body = tr.SequentialBlock(\n",
    "    [inputs, tr.MLPBlock([64]), tr.TransformerBlock(transformer_config, masking=inputs.masking)]\n",
    ")\n",
    "\n",
    "# Defines the evaluation top-N metrics and the cut-offs\n",
    "metrics = (\n",
    "    NDCGAt(top_ks=[1, 5, 20, 40], labels_onehot=True),  \n",
    "    RecallAt(top_ks=[1, 5, 20, 40], labels_onehot=True)\n",
    "          )\n",
    "\n",
    "# link task to body and generate the end-to-end keras model\n",
    "task = tr.NextItemPredictionTask(weight_tying=True, metrics=metrics)\n",
    " \n",
    "model = task.to_model(body=body)"
   ]
  },
  {
   "cell_type": "markdown",
   "id": "dae222f7",
   "metadata": {},
   "source": [
    "### Train the model "
   ]
  },
  {
   "cell_type": "markdown",
   "id": "19e009dd",
   "metadata": {},
   "source": [
    "We use the NVTabular `KerasSequenceLoader` Dataloader for optimized loading of multiple features from input parquet files. You can learn more about this data loader [here](https://nvidia-merlin.github.io/NVTabular/main/training/tensorflow.html)."
   ]
  },
  {
   "cell_type": "markdown",
   "id": "4dfc0d92",
   "metadata": {},
   "source": [
    "### **Set DataLoader**"
   ]
  },
  {
   "cell_type": "code",
   "execution_count": 10,
   "id": "812cd817",
   "metadata": {},
   "outputs": [],
   "source": [
    "x_cat_names, x_cont_names = ['category-list_trim', 'item_id-list_trim'], ['timestamp/age_days-list_trim', 'timestamp/weekday/sin-list_trim']\n",
    "\n",
    "# dictionary representing max sequence length for column\n",
    "sparse_features_max = {\n",
    "    fname: 20\n",
    "    for fname in x_cat_names + x_cont_names\n",
    "}\n",
    "\n",
    "def get_dataloader(paths_or_dataset, batch_size=64):\n",
    "    dataloader = KerasSequenceLoader(\n",
    "        paths_or_dataset,\n",
    "        batch_size=batch_size,\n",
    "        label_names=None,\n",
    "        cat_names=x_cat_names,\n",
    "        cont_names=x_cont_names,\n",
    "        sparse_names=list(sparse_features_max.keys()),\n",
    "        sparse_max=sparse_features_max,\n",
    "        sparse_as_dense=True,\n",
    "    )\n",
    "    return dataloader.map(lambda X, y: (X, []))"
   ]
  },
  {
   "cell_type": "markdown",
   "id": "8fcc57eb",
   "metadata": {},
   "source": [
    "## Set training params"
   ]
  },
  {
   "cell_type": "code",
   "execution_count": 11,
   "id": "e78fc3c1",
   "metadata": {},
   "outputs": [],
   "source": [
    "import tensorflow as tf\n",
    "lr_schedule = tf.keras.optimizers.schedules.CosineDecay(\n",
    "    initial_learning_rate=0.0005,\n",
    "    decay_steps=1.5)\n",
    "optimizer = tf.keras.optimizers.Adam(learning_rate=lr_schedule)\n",
    "model.compile(optimizer=\"adam\", run_eagerly=True)"
   ]
  },
  {
   "cell_type": "markdown",
   "id": "9220e0a9",
   "metadata": {},
   "source": [
    "## Daily Fine-Tuning: Training over a time window"
   ]
  },
  {
   "cell_type": "markdown",
   "id": "68bc9452",
   "metadata": {},
   "source": [
    "Here we do daily fine-tuning meaning that we use the first day to train and second day to evaluate, then we use the second day data to train the model by resuming from the first step, and evaluate on the third day, so on so forth."
   ]
  },
  {
   "cell_type": "markdown",
   "id": "edb8ddc0",
   "metadata": {},
   "source": [
    "- Define the output folder of the processed parquet files"
   ]
  },
  {
   "cell_type": "code",
   "execution_count": 12,
   "id": "012f5088",
   "metadata": {},
   "outputs": [],
   "source": [
    "OUTPUT_DIR = os.environ.get(\"OUTPUT_DIR\", \"./sessions_by_day\")"
   ]
  },
  {
   "cell_type": "code",
   "execution_count": 13,
   "id": "5ad394d7",
   "metadata": {},
   "outputs": [],
   "source": [
    "import warnings\n",
    "warnings.filterwarnings('ignore')"
   ]
  },
  {
   "cell_type": "code",
   "execution_count": 14,
   "id": "fb7d5241",
   "metadata": {},
   "outputs": [
    {
     "name": "stdout",
     "output_type": "stream",
     "text": [
      "['./sessions_by_day/1/train.parquet']\n",
      "********************\n",
      "Launch training for day 1 are:\n",
      "********************\n",
      "\n",
      "WARNING:tensorflow:Gradients do not exist for variables ['transformer_block/transformer/mask_emb:0', 'transformer_block/transformer/layer_._0/rel_attn/r_s_bias:0', 'transformer_block/transformer/layer_._0/rel_attn/seg_embed:0', 'transformer_block/transformer/layer_._1/rel_attn/r_s_bias:0', 'transformer_block/transformer/layer_._1/rel_attn/seg_embed:0'] when minimizing the loss.\n",
      "WARNING:tensorflow:Gradients do not exist for variables ['transformer_block/transformer/mask_emb:0', 'transformer_block/transformer/layer_._0/rel_attn/r_s_bias:0', 'transformer_block/transformer/layer_._0/rel_attn/seg_embed:0', 'transformer_block/transformer/layer_._1/rel_attn/r_s_bias:0', 'transformer_block/transformer/layer_._1/rel_attn/seg_embed:0'] when minimizing the loss.\n",
      "WARNING:tensorflow:Gradients do not exist for variables ['transformer_block/transformer/mask_emb:0', 'transformer_block/transformer/layer_._0/rel_attn/r_s_bias:0', 'transformer_block/transformer/layer_._0/rel_attn/seg_embed:0', 'transformer_block/transformer/layer_._1/rel_attn/r_s_bias:0', 'transformer_block/transformer/layer_._1/rel_attn/seg_embed:0'] when minimizing the loss.\n",
      "WARNING:tensorflow:Gradients do not exist for variables ['transformer_block/transformer/mask_emb:0', 'transformer_block/transformer/layer_._0/rel_attn/r_s_bias:0', 'transformer_block/transformer/layer_._0/rel_attn/seg_embed:0', 'transformer_block/transformer/layer_._1/rel_attn/r_s_bias:0', 'transformer_block/transformer/layer_._1/rel_attn/seg_embed:0'] when minimizing the loss.\n",
      "WARNING:tensorflow:Gradients do not exist for variables ['transformer_block/transformer/mask_emb:0', 'transformer_block/transformer/layer_._0/rel_attn/r_s_bias:0', 'transformer_block/transformer/layer_._0/rel_attn/seg_embed:0', 'transformer_block/transformer/layer_._1/rel_attn/r_s_bias:0', 'transformer_block/transformer/layer_._1/rel_attn/seg_embed:0'] when minimizing the loss.\n",
      "WARNING:tensorflow:Gradients do not exist for variables ['transformer_block/transformer/mask_emb:0', 'transformer_block/transformer/layer_._0/rel_attn/r_s_bias:0', 'transformer_block/transformer/layer_._0/rel_attn/seg_embed:0', 'transformer_block/transformer/layer_._1/rel_attn/r_s_bias:0', 'transformer_block/transformer/layer_._1/rel_attn/seg_embed:0'] when minimizing the loss.\n",
      "WARNING:tensorflow:Gradients do not exist for variables ['transformer_block/transformer/mask_emb:0', 'transformer_block/transformer/layer_._0/rel_attn/r_s_bias:0', 'transformer_block/transformer/layer_._0/rel_attn/seg_embed:0', 'transformer_block/transformer/layer_._1/rel_attn/r_s_bias:0', 'transformer_block/transformer/layer_._1/rel_attn/seg_embed:0'] when minimizing the loss.\n",
      "WARNING:tensorflow:Gradients do not exist for variables ['transformer_block/transformer/mask_emb:0', 'transformer_block/transformer/layer_._0/rel_attn/r_s_bias:0', 'transformer_block/transformer/layer_._0/rel_attn/seg_embed:0', 'transformer_block/transformer/layer_._1/rel_attn/r_s_bias:0', 'transformer_block/transformer/layer_._1/rel_attn/seg_embed:0'] when minimizing the loss.\n",
      "WARNING:tensorflow:Gradients do not exist for variables ['transformer_block/transformer/mask_emb:0', 'transformer_block/transformer/layer_._0/rel_attn/r_s_bias:0', 'transformer_block/transformer/layer_._0/rel_attn/seg_embed:0', 'transformer_block/transformer/layer_._1/rel_attn/r_s_bias:0', 'transformer_block/transformer/layer_._1/rel_attn/seg_embed:0'] when minimizing the loss.\n",
      "WARNING:tensorflow:Gradients do not exist for variables ['transformer_block/transformer/mask_emb:0', 'transformer_block/transformer/layer_._0/rel_attn/r_s_bias:0', 'transformer_block/transformer/layer_._0/rel_attn/seg_embed:0', 'transformer_block/transformer/layer_._1/rel_attn/r_s_bias:0', 'transformer_block/transformer/layer_._1/rel_attn/seg_embed:0'] when minimizing the loss.\n",
      "WARNING:tensorflow:Gradients do not exist for variables ['transformer_block/transformer/mask_emb:0', 'transformer_block/transformer/layer_._0/rel_attn/r_s_bias:0', 'transformer_block/transformer/layer_._0/rel_attn/seg_embed:0', 'transformer_block/transformer/layer_._1/rel_attn/r_s_bias:0', 'transformer_block/transformer/layer_._1/rel_attn/seg_embed:0'] when minimizing the loss.\n",
      "WARNING:tensorflow:Gradients do not exist for variables ['transformer_block/transformer/mask_emb:0', 'transformer_block/transformer/layer_._0/rel_attn/r_s_bias:0', 'transformer_block/transformer/layer_._0/rel_attn/seg_embed:0', 'transformer_block/transformer/layer_._1/rel_attn/r_s_bias:0', 'transformer_block/transformer/layer_._1/rel_attn/seg_embed:0'] when minimizing the loss.\n",
      "WARNING:tensorflow:Gradients do not exist for variables ['transformer_block/transformer/mask_emb:0', 'transformer_block/transformer/layer_._0/rel_attn/r_s_bias:0', 'transformer_block/transformer/layer_._0/rel_attn/seg_embed:0', 'transformer_block/transformer/layer_._1/rel_attn/r_s_bias:0', 'transformer_block/transformer/layer_._1/rel_attn/seg_embed:0'] when minimizing the loss.\n",
      "WARNING:tensorflow:Gradients do not exist for variables ['transformer_block/transformer/mask_emb:0', 'transformer_block/transformer/layer_._0/rel_attn/r_s_bias:0', 'transformer_block/transformer/layer_._0/rel_attn/seg_embed:0', 'transformer_block/transformer/layer_._1/rel_attn/r_s_bias:0', 'transformer_block/transformer/layer_._1/rel_attn/seg_embed:0'] when minimizing the loss.\n",
      "finished\n",
      "2/2 [==============================] - 1s 347ms/step - eval_ndcg_at_11: 0.6044 - eval_ndcg_at_15: 0.6044 - eval_ndcg_at_120: 0.6044 - eval_ndcg_at_140: 0.6044 - eval_recall_at_11: 0.4370 - eval_recall_at_15: 0.5622 - eval_recall_at_120: 0.5890 - eval_recall_at_140: 0.6044 - loss: 8.0890 - regularization_loss: 0.0000e+00 - total_loss: 8.0890\n",
      "********************\n",
      "Eval results for day 2 are:\t\n",
      "\n",
      "********************\n",
      "\n",
      " eval_ndcg_at_11 = 0.5714285969734192\n",
      " eval_ndcg_at_120 = 0.5714285969734192\n",
      " eval_ndcg_at_140 = 0.5714285969734192\n",
      " eval_ndcg_at_15 = 0.5714285969734192\n",
      " eval_recall_at_11 = 0.4196428656578064\n",
      " eval_recall_at_120 = 0.5625\n",
      " eval_recall_at_140 = 0.5714285969734192\n",
      " eval_recall_at_15 = 0.5535714030265808\n",
      " loss = 8.135071754455566\n",
      " regularization_loss = 0\n",
      " total_loss = 8.135071754455566\n"
     ]
    }
   ],
   "source": [
    "start_time_window_index = 1\n",
    "final_time_window_index = 2\n",
    "#Iterating over days of one week\n",
    "for time_index in range(start_time_window_index, final_time_window_index):\n",
    "    # Set data \n",
    "    time_index_train = time_index\n",
    "    time_index_eval = time_index + 1\n",
    "    train_paths = glob.glob(os.path.join(OUTPUT_DIR, f\"{time_index_train}/train.parquet\"))\n",
    "    eval_paths = glob.glob(os.path.join(OUTPUT_DIR, f\"{time_index_eval}/valid.parquet\"))\n",
    "    print(train_paths)\n",
    "\n",
    "    # Train on day related to time_index \n",
    "    print('*'*20)\n",
    "    print(\"Launch training for day %s are:\" %time_index)\n",
    "    print('*'*20 + '\\n')\n",
    "    train_loader = get_dataloader(train_paths) \n",
    "    losses = model.fit(train_loader, epochs=1, verbose=0, )\n",
    "    model.reset_metrics()\n",
    "    print('finished')\n",
    "    # Evaluate on the following day\n",
    "    eval_loader = get_dataloader(eval_paths) \n",
    "    eval_metrics = model.evaluate(eval_loader, return_dict=True)\n",
    "    print('*'*20)\n",
    "    print(\"Eval results for day %s are:\\t\" %time_index_eval)\n",
    "    print('\\n' + '*'*20 + '\\n')\n",
    "    for key in sorted(eval_metrics.keys()):\n",
    "        print(\" %s = %s\" % (key, str(eval_metrics[key]))) "
   ]
  },
  {
   "cell_type": "code",
   "execution_count": 15,
   "id": "336685bd",
   "metadata": {},
   "outputs": [
    {
     "name": "stdout",
     "output_type": "stream",
     "text": [
      "2/2 [==============================] - 1s 331ms/step - eval_ndcg_at_11: 0.6557 - eval_ndcg_at_15: 0.6557 - eval_ndcg_at_120: 0.6557 - eval_ndcg_at_140: 0.6557 - eval_recall_at_11: 0.4719 - eval_recall_at_15: 0.5599 - eval_recall_at_120: 0.6056 - eval_recall_at_140: 0.6557 - loss: 8.0334 - regularization_loss: 0.0000e+00 - total_loss: 8.0334\n"
     ]
    }
   ],
   "source": [
    "# Evaluate on the following day\n",
    "time_index_eval = 5\n",
    "eval_paths = glob.glob(os.path.join(OUTPUT_DIR, f\"{time_index_eval}/valid.parquet\"))\n",
    "eval_loader = get_dataloader(eval_paths) \n",
    "eval_metrics = model.evaluate(eval_loader, return_dict=True, )"
   ]
  },
  {
   "cell_type": "code",
   "execution_count": 16,
   "id": "6a4dec71",
   "metadata": {},
   "outputs": [
    {
     "data": {
      "text/plain": [
       "{'eval_ndcg_at_11': 0.6571428775787354,\n",
       " 'eval_ndcg_at_15': 0.6571428775787354,\n",
       " 'eval_ndcg_at_120': 0.6571428775787354,\n",
       " 'eval_ndcg_at_140': 0.6571428775787354,\n",
       " 'eval_recall_at_11': 0.4952380955219269,\n",
       " 'eval_recall_at_15': 0.5523809790611267,\n",
       " 'eval_recall_at_120': 0.6000000238418579,\n",
       " 'eval_recall_at_140': 0.6571428775787354,\n",
       " 'loss': 8.021478652954102,\n",
       " 'regularization_loss': 0,\n",
       " 'total_loss': 8.021478652954102}"
      ]
     },
     "execution_count": 16,
     "metadata": {},
     "output_type": "execute_result"
    }
   ],
   "source": [
    "eval_metrics"
   ]
  },
  {
   "cell_type": "code",
   "execution_count": 17,
   "id": "050e6016",
   "metadata": {},
   "outputs": [
    {
     "name": "stdout",
     "output_type": "stream",
     "text": [
      "********************\n",
      "Eval results for day 5 are:\t\n",
      "\n",
      "********************\n",
      "\n",
      " eval_ndcg_at_11 = 0.6571428775787354\n",
      " eval_ndcg_at_120 = 0.6571428775787354\n",
      " eval_ndcg_at_140 = 0.6571428775787354\n",
      " eval_ndcg_at_15 = 0.6571428775787354\n",
      " eval_recall_at_11 = 0.4952380955219269\n",
      " eval_recall_at_120 = 0.6000000238418579\n",
      " eval_recall_at_140 = 0.6571428775787354\n",
      " eval_recall_at_15 = 0.5523809790611267\n",
      " loss = 8.021478652954102\n",
      " regularization_loss = 0\n",
      " total_loss = 8.021478652954102\n"
     ]
    }
   ],
   "source": [
    "print('*'*20)\n",
    "print(\"Eval results for day %s are:\\t\" %time_index_eval)\n",
    "print('\\n' + '*'*20 + '\\n')\n",
    "for key in sorted(eval_metrics.keys()):\n",
    "    print(\" %s = %s\" % (key, str(eval_metrics[key]))) "
   ]
  },
  {
   "cell_type": "markdown",
   "id": "fc0fdd7d",
   "metadata": {},
   "source": [
    "### Saves the model"
   ]
  },
  {
   "cell_type": "code",
   "execution_count": 18,
   "id": "060d45b8",
   "metadata": {},
   "outputs": [
    {
     "name": "stdout",
     "output_type": "stream",
     "text": [
      "WARNING:tensorflow:Skipping full serialization of Keras layer TFSharedEmbeddings(), because it is not built.\n",
      "WARNING:tensorflow:Skipping full serialization of Keras layer Dropout(), because it is not built.\n",
      "WARNING:tensorflow:Skipping full serialization of Keras layer Dropout(), because it is not built.\n",
      "WARNING:tensorflow:Skipping full serialization of Keras layer TFSequenceSummary(), because it is not built.\n"
     ]
    },
    {
     "name": "stderr",
     "output_type": "stream",
     "text": [
      "WARNING:absl:Function `_wrapped_model` contains input name(s) category-list_trim, item_id-list_trim, timestamp/age_days-list_trim, timestamp/weekday/sin-list_trim with unsupported characters which will be renamed to category_list_trim, item_id_list_trim, timestamp_age_days_list_trim, timestamp_weekday_sin_list_trim in the SavedModel.\n",
      "WARNING:absl:Found untraced functions such as sequential_block_layer_call_and_return_conditional_losses, sequential_block_layer_call_fn, next_item_prediction_task_layer_call_and_return_conditional_losses, next_item_prediction_task_layer_call_fn, sequential_block_layer_call_fn while saving (showing 5 of 175). These functions will not be directly callable after loading.\n"
     ]
    },
    {
     "name": "stdout",
     "output_type": "stream",
     "text": [
      "INFO:tensorflow:Assets written to: ./tmp/tensorflow/assets\n"
     ]
    },
    {
     "name": "stderr",
     "output_type": "stream",
     "text": [
      "INFO:tensorflow:Assets written to: ./tmp/tensorflow/assets\n"
     ]
    }
   ],
   "source": [
    "model.save('./tmp/tensorflow')"
   ]
  },
  {
   "cell_type": "markdown",
   "id": "d9c3afba",
   "metadata": {},
   "source": [
    "### Reloads the model"
   ]
  },
  {
   "cell_type": "code",
   "execution_count": 19,
   "id": "f01693bd",
   "metadata": {},
   "outputs": [],
   "source": [
    "custom_objects = dict([(e.__class__.__name__, e) for e in task.metrics])\n",
    "custom_objects.update({\"Model\": tr.model.base.Model})\n",
    "model = tf.keras.models.load_model('./tmp/tensorflow', custom_objects=custom_objects)"
   ]
  },
  {
   "cell_type": "code",
   "execution_count": 20,
   "id": "ff3fb2ec",
   "metadata": {},
   "outputs": [],
   "source": [
    "batch = next(iter(eval_loader))"
   ]
  },
  {
   "cell_type": "code",
   "execution_count": 24,
   "id": "d9a6e643",
   "metadata": {},
   "outputs": [
    {
     "data": {
      "text/plain": [
       "TensorShape([64, 20])"
      ]
     },
     "execution_count": 24,
     "metadata": {},
     "output_type": "execute_result"
    }
   ],
   "source": [
    "batch[0]['category-list_trim'].shape"
   ]
  },
  {
   "cell_type": "code",
   "execution_count": 22,
   "id": "50c38782",
   "metadata": {},
   "outputs": [
    {
     "data": {
      "text/plain": [
       "<tf.Tensor: shape=(64, 50006), dtype=float32, numpy=\n",
       "array([[-11.441303 , -11.963867 , -10.763562 , ..., -10.943857 ,\n",
       "        -11.11692  , -10.279627 ],\n",
       "       [-10.86855  , -11.575258 , -10.653306 , ..., -10.151318 ,\n",
       "        -10.895669 , -11.588299 ],\n",
       "       [-11.242266 , -11.753831 ,  -9.920208 , ..., -10.659088 ,\n",
       "        -11.2164345, -13.153706 ],\n",
       "       ...,\n",
       "       [-10.279788 , -11.126778 , -11.503899 , ..., -10.39446  ,\n",
       "        -12.894978 , -11.764042 ],\n",
       "       [-11.198521 , -10.784124 ,  -9.615355 , ..., -11.636454 ,\n",
       "        -11.982885 ,  -9.753237 ],\n",
       "       [-11.469727 , -11.97579  , -10.524342 , ..., -11.250589 ,\n",
       "        -11.533768 , -10.358003 ]], dtype=float32)>"
      ]
     },
     "execution_count": 22,
     "metadata": {},
     "output_type": "execute_result"
    }
   ],
   "source": [
    "model(batch[0])"
   ]
  },
  {
   "cell_type": "code",
   "execution_count": null,
   "id": "456a9d8f",
   "metadata": {},
   "outputs": [],
   "source": []
  },
  {
   "cell_type": "markdown",
   "id": "f0c35431",
   "metadata": {},
   "source": [
    "## TRITON"
   ]
  },
  {
   "cell_type": "code",
   "execution_count": 1,
   "id": "4be959b9",
   "metadata": {},
   "outputs": [],
   "source": [
    "import nvtabular as nvt"
   ]
  },
  {
   "cell_type": "code",
   "execution_count": 2,
   "id": "44afbb49",
   "metadata": {},
   "outputs": [],
   "source": [
    "workflow= nvt.Workflow.load('workflow_etl')"
   ]
  },
  {
   "cell_type": "code",
   "execution_count": 3,
   "id": "224dd15c",
   "metadata": {},
   "outputs": [
    {
     "data": {
      "text/plain": [
       "{'item_id_count': dtype('int32'),\n",
       " 'day_first': dtype('int64'),\n",
       " 'session_id': dtype('int64'),\n",
       " 'category_list_trim': ListDtype(int64),\n",
       " 'item_id_list_trim': ListDtype(int64),\n",
       " 'timestamp/age_days_list_trim': ListDtype(float32),\n",
       " 'timestamp/weekday/sin_list_trim': ListDtype(float32)}"
      ]
     },
     "execution_count": 3,
     "metadata": {},
     "output_type": "execute_result"
    }
   ],
   "source": [
    "workflow.output_dtypes"
   ]
  },
  {
   "cell_type": "code",
   "execution_count": 4,
   "id": "c30ec2c8",
   "metadata": {},
   "outputs": [
    {
     "name": "stdout",
     "output_type": "stream",
     "text": [
      "client created.\n",
      "GET /v2/health/live, headers None\n",
      "<HTTPSocketPoolResponse status=200 headers={'content-length': '0', 'content-type': 'text/plain'}>\n"
     ]
    },
    {
     "name": "stderr",
     "output_type": "stream",
     "text": [
      "/usr/local/lib/python3.8/dist-packages/tritonhttpclient/__init__.py:31: DeprecationWarning: The package `tritonhttpclient` is deprecated and will be removed in a future version. Please use instead `tritonclient.http`\n",
      "  warnings.warn(\n"
     ]
    },
    {
     "data": {
      "text/plain": [
       "True"
      ]
     },
     "execution_count": 4,
     "metadata": {},
     "output_type": "execute_result"
    }
   ],
   "source": [
    "import tritonhttpclient\n",
    "try:\n",
    "    triton_client = tritonhttpclient.InferenceServerClient(url=\"192.168.0.4:8000\", verbose=True)\n",
    "    print(\"client created.\")\n",
    "except Exception as e:\n",
    "    print(\"channel creation failed: \" + str(e))\n",
    "triton_client.is_server_live()"
   ]
  },
  {
   "cell_type": "code",
   "execution_count": 5,
   "id": "dbb89b2a",
   "metadata": {},
   "outputs": [
    {
     "name": "stdout",
     "output_type": "stream",
     "text": [
      "GET /v2/health/live, headers None\n",
      "<HTTPSocketPoolResponse status=200 headers={'content-length': '0', 'content-type': 'text/plain'}>\n",
      "True\n",
      "GET /v2/health/ready, headers None\n",
      "<HTTPSocketPoolResponse status=200 headers={'content-length': '0', 'content-type': 'text/plain'}>\n",
      "True\n",
      "GET /v2/models/tf4rec_tf/versions/1/ready, headers None\n",
      "<HTTPSocketPoolResponse status=200 headers={'content-length': '0', 'content-type': 'text/plain'}>\n",
      "True\n"
     ]
    }
   ],
   "source": [
    "modelName = \"tf4rec_tf\"\n",
    "print(triton_client.is_server_live())\n",
    "print(triton_client.is_server_ready())\n",
    "print(triton_client.is_model_ready(modelName,\"1\"))"
   ]
  },
  {
   "cell_type": "code",
   "execution_count": 6,
   "id": "19eb0426",
   "metadata": {},
   "outputs": [
    {
     "name": "stdout",
     "output_type": "stream",
     "text": [
      "POST /v2/repository/index, headers None\n",
      "\n",
      "<HTTPSocketPoolResponse status=200 headers={'content-type': 'application/json', 'content-length': '52'}>\n",
      "bytearray(b'[{\"name\":\"tf4rec_tf\",\"version\":\"1\",\"state\":\"READY\"}]')\n"
     ]
    },
    {
     "data": {
      "text/plain": [
       "[{'name': 'tf4rec_tf', 'version': '1', 'state': 'READY'}]"
      ]
     },
     "execution_count": 6,
     "metadata": {},
     "output_type": "execute_result"
    }
   ],
   "source": [
    "triton_client.get_model_repository_index()"
   ]
  },
  {
   "cell_type": "code",
   "execution_count": null,
   "id": "8c706dc3",
   "metadata": {},
   "outputs": [],
   "source": [
    "# triton_client.unload_model(model_name=\"movielens\")\n",
    "# triton_client.unload_model(model_name=\"movielens_nvt\")\n",
    "# triton_client.unload_model(model_name=\"movielens_tf\")"
   ]
  },
  {
   "cell_type": "code",
   "execution_count": 7,
   "id": "07584a1a",
   "metadata": {},
   "outputs": [
    {
     "name": "stdout",
     "output_type": "stream",
     "text": [
      "GET /v2/models/tf4rec_tf, headers None\n",
      "<HTTPSocketPoolResponse status=200 headers={'content-type': 'application/json', 'content-length': '430'}>\n",
      "bytearray(b'{\"name\":\"tf4rec_tf\",\"versions\":[\"1\"],\"platform\":\"tensorflow_savedmodel\",\"inputs\":[{\"name\":\"category_list_trim\",\"datatype\":\"INT64\",\"shape\":[-1,20]},{\"name\":\"item_id_list_trim\",\"datatype\":\"INT64\",\"shape\":[-1,20]},{\"name\":\"timestamp/age_days_list_trim\",\"datatype\":\"FP32\",\"shape\":[-1,20]},{\"name\":\"timestamp/weekday/sin_list_trim\",\"datatype\":\"FP32\",\"shape\":[-1,20]}],\"outputs\":[{\"name\":\"output_1\",\"datatype\":\"FP32\",\"shape\":[-1,506]}]}')\n"
     ]
    },
    {
     "data": {
      "text/plain": [
       "{'name': 'tf4rec_tf',\n",
       " 'versions': ['1'],\n",
       " 'platform': 'tensorflow_savedmodel',\n",
       " 'inputs': [{'name': 'category_list_trim',\n",
       "   'datatype': 'INT64',\n",
       "   'shape': [-1, 20]},\n",
       "  {'name': 'item_id_list_trim', 'datatype': 'INT64', 'shape': [-1, 20]},\n",
       "  {'name': 'timestamp/age_days_list_trim',\n",
       "   'datatype': 'FP32',\n",
       "   'shape': [-1, 20]},\n",
       "  {'name': 'timestamp/weekday/sin_list_trim',\n",
       "   'datatype': 'FP32',\n",
       "   'shape': [-1, 20]}],\n",
       " 'outputs': [{'name': 'output_1', 'datatype': 'FP32', 'shape': [-1, 506]}]}"
      ]
     },
     "execution_count": 7,
     "metadata": {},
     "output_type": "execute_result"
    }
   ],
   "source": [
    "triton_client.get_model_metadata(modelName)"
   ]
  },
  {
   "cell_type": "code",
   "execution_count": 8,
   "id": "c4bef1c0",
   "metadata": {},
   "outputs": [
    {
     "data": {
      "text/html": [
       "<div>\n",
       "<style scoped>\n",
       "    .dataframe tbody tr th:only-of-type {\n",
       "        vertical-align: middle;\n",
       "    }\n",
       "\n",
       "    .dataframe tbody tr th {\n",
       "        vertical-align: top;\n",
       "    }\n",
       "\n",
       "    .dataframe thead th {\n",
       "        text-align: right;\n",
       "    }\n",
       "</style>\n",
       "<table border=\"1\" class=\"dataframe\">\n",
       "  <thead>\n",
       "    <tr style=\"text-align: right;\">\n",
       "      <th></th>\n",
       "      <th>category_list_trim</th>\n",
       "      <th>item_id_list_trim</th>\n",
       "      <th>timestamp/age_days_list_trim</th>\n",
       "      <th>timestamp/weekday/sin_list_trim</th>\n",
       "    </tr>\n",
       "  </thead>\n",
       "  <tbody>\n",
       "    <tr>\n",
       "      <th>0</th>\n",
       "      <td>[21, 6, 2, 11, 39, 30, 22, 8, 2, 4, 4, 10, 9, ...</td>\n",
       "      <td>[61, 34, 13, 27, 121, 87, 71, 20, 16, 5, 4, 33...</td>\n",
       "      <td>[0.1853242, 0.36186182, 0.4854968, 0.13430548,...</td>\n",
       "      <td>[0.62441665, 0.5125444, 0.37621656, 0.8952086,...</td>\n",
       "    </tr>\n",
       "    <tr>\n",
       "      <th>1</th>\n",
       "      <td>[4, 4, 2, 4, 4, 26, 7, 6, 2, 7, 5, 6, 10, 10, ...</td>\n",
       "      <td>[7, 4, 12, 4, 4, 78, 18, 8, 13, 19, 10, 21, 31...</td>\n",
       "      <td>[0.32196924, 0.9394915, 0.40144306, 0.4010484,...</td>\n",
       "      <td>[0.06354862, 0.757689, 0.8743491, 0.47241625, ...</td>\n",
       "    </tr>\n",
       "    <tr>\n",
       "      <th>2</th>\n",
       "      <td>[11, 3, 7, 65, 12, 3, 71, 8, 19, 4, 3, 8, 3, 1...</td>\n",
       "      <td>[27, 3, 19, 203, 35, 6, 206, 22, 58, 5, 3, 20,...</td>\n",
       "      <td>[0.14342074, 0.9007808, 0.7347703, 0.04563174,...</td>\n",
       "      <td>[0.6583806, 0.9247837, 0.61639905, 0.8016512, ...</td>\n",
       "    </tr>\n",
       "    <tr>\n",
       "      <th>4</th>\n",
       "      <td>[4, 3, 2, 8, 14, 4, 8, 2, 6, 3, 11, 13, 4, 2, ...</td>\n",
       "      <td>[7, 2, 15, 22, 46, 4, 22, 13, 8, 2, 27, 38, 4,...</td>\n",
       "      <td>[0.33066002, 0.46732098, 0.67253935, 0.9536914...</td>\n",
       "      <td>[0.5335744, 0.8635724, 0.7746976, 0.14082146, ...</td>\n",
       "    </tr>\n",
       "    <tr>\n",
       "      <th>5</th>\n",
       "      <td>[3, 21, 4, 28, 2, 12, 10, 8, 2, 30, 3, 9, 16, ...</td>\n",
       "      <td>[6, 61, 7, 88, 13, 37, 31, 23, 15, 91, 3, 24, ...</td>\n",
       "      <td>[0.12875848, 0.97819775, 0.1008913, 0.50742507...</td>\n",
       "      <td>[0.03943971, 0.12544261, 0.41058296, 0.2909649...</td>\n",
       "    </tr>\n",
       "  </tbody>\n",
       "</table>\n",
       "</div>"
      ],
      "text/plain": [
       "                                  category_list_trim  \\\n",
       "0  [21, 6, 2, 11, 39, 30, 22, 8, 2, 4, 4, 10, 9, ...   \n",
       "1  [4, 4, 2, 4, 4, 26, 7, 6, 2, 7, 5, 6, 10, 10, ...   \n",
       "2  [11, 3, 7, 65, 12, 3, 71, 8, 19, 4, 3, 8, 3, 1...   \n",
       "4  [4, 3, 2, 8, 14, 4, 8, 2, 6, 3, 11, 13, 4, 2, ...   \n",
       "5  [3, 21, 4, 28, 2, 12, 10, 8, 2, 30, 3, 9, 16, ...   \n",
       "\n",
       "                                   item_id_list_trim  \\\n",
       "0  [61, 34, 13, 27, 121, 87, 71, 20, 16, 5, 4, 33...   \n",
       "1  [7, 4, 12, 4, 4, 78, 18, 8, 13, 19, 10, 21, 31...   \n",
       "2  [27, 3, 19, 203, 35, 6, 206, 22, 58, 5, 3, 20,...   \n",
       "4  [7, 2, 15, 22, 46, 4, 22, 13, 8, 2, 27, 38, 4,...   \n",
       "5  [6, 61, 7, 88, 13, 37, 31, 23, 15, 91, 3, 24, ...   \n",
       "\n",
       "                        timestamp/age_days_list_trim  \\\n",
       "0  [0.1853242, 0.36186182, 0.4854968, 0.13430548,...   \n",
       "1  [0.32196924, 0.9394915, 0.40144306, 0.4010484,...   \n",
       "2  [0.14342074, 0.9007808, 0.7347703, 0.04563174,...   \n",
       "4  [0.33066002, 0.46732098, 0.67253935, 0.9536914...   \n",
       "5  [0.12875848, 0.97819775, 0.1008913, 0.50742507...   \n",
       "\n",
       "                     timestamp/weekday/sin_list_trim  \n",
       "0  [0.62441665, 0.5125444, 0.37621656, 0.8952086,...  \n",
       "1  [0.06354862, 0.757689, 0.8743491, 0.47241625, ...  \n",
       "2  [0.6583806, 0.9247837, 0.61639905, 0.8016512, ...  \n",
       "4  [0.5335744, 0.8635724, 0.7746976, 0.14082146, ...  \n",
       "5  [0.03943971, 0.12544261, 0.41058296, 0.2909649...  "
      ]
     },
     "execution_count": 8,
     "metadata": {},
     "output_type": "execute_result"
    }
   ],
   "source": [
    "import pandas as pd\n",
    "import cudf\n",
    "interactions_merged_df=cudf.read_parquet('./sessions_by_day/1/train.parquet')\n",
    "batch = interactions_merged_df[:20][['category_list_trim', 'item_id_list_trim', 'timestamp/age_days_list_trim', 'timestamp/weekday/sin_list_trim']]\n",
    "batch.head()"
   ]
  },
  {
   "cell_type": "code",
   "execution_count": 9,
   "id": "47b4d7d0",
   "metadata": {},
   "outputs": [
    {
     "data": {
      "text/plain": [
       "(20, 4)"
      ]
     },
     "execution_count": 9,
     "metadata": {},
     "output_type": "execute_result"
    }
   ],
   "source": [
    "batch.shape"
   ]
  },
  {
   "cell_type": "code",
   "execution_count": 10,
   "id": "9c10523f",
   "metadata": {},
   "outputs": [
    {
     "data": {
      "text/plain": [
       "category_list_trim                 list\n",
       "item_id_list_trim                  list\n",
       "timestamp/age_days_list_trim       list\n",
       "timestamp/weekday/sin_list_trim    list\n",
       "dtype: object"
      ]
     },
     "execution_count": 10,
     "metadata": {},
     "output_type": "execute_result"
    }
   ],
   "source": [
    "batch.dtypes"
   ]
  },
  {
   "cell_type": "code",
   "execution_count": 15,
   "id": "0f75d276",
   "metadata": {},
   "outputs": [
    {
     "data": {
      "text/plain": [
       "array([[1., 2., 3.],\n",
       "       [4., 5., 6.]])"
      ]
     },
     "execution_count": 15,
     "metadata": {},
     "output_type": "execute_result"
    }
   ],
   "source": [
    "df = cudf.DataFrame({\"x\": [[1.,2,3], [4,5,6], [7,8,9]], })\n",
    "\n",
    "\n",
    "df.x.list.leaves[0: 6].values_host.reshape(2, 3)"
   ]
  },
  {
   "cell_type": "code",
   "execution_count": 16,
   "id": "28f41c0e",
   "metadata": {},
   "outputs": [
    {
     "data": {
      "text/plain": [
       "array([[1., 2., 3.],\n",
       "       [4., 5., 6.]])"
      ]
     },
     "execution_count": 16,
     "metadata": {},
     "output_type": "execute_result"
    }
   ],
   "source": [
    "df.x.list.leaves[0: 6].values_host.reshape(2, 3)"
   ]
  },
  {
   "cell_type": "code",
   "execution_count": 12,
   "id": "5188e57a",
   "metadata": {},
   "outputs": [
    {
     "data": {
      "text/plain": [
       "array([[21,  6,  2, 11, 39, 30, 22,  8,  2,  4,  4, 10,  9,  6, 12,  5,\n",
       "         6,  6,  5,  7],\n",
       "       [ 4,  4,  2,  4,  4, 26,  7,  6,  2,  7,  5,  6, 10, 10,  3, 18,\n",
       "        11, 12, 49,  5],\n",
       "       [11,  3,  7, 65, 12,  3, 71,  8, 19,  4,  3,  8,  3, 16,  5, 34,\n",
       "        10,  4,  5,  4],\n",
       "       [ 4,  3,  2,  8, 14,  4,  8,  2,  6,  3, 11, 13,  4,  2, 34,  8,\n",
       "         8,  8,  9,  3],\n",
       "       [21,  4, 28,  2, 12, 10,  8,  2, 30,  3,  9, 16, 39, 17,  7,  3,\n",
       "        29,  6, 16,  4],\n",
       "       [ 8,  9,  6,  6, 27,  3,  2, 11,  8,  8,  7, 29,  2,  7, 13,  4,\n",
       "        16,  3, 13,  3],\n",
       "       [31, 18,  8,  5, 10, 12,  6,  5,  5, 33,  5, 14,  2, 12, 37,  8,\n",
       "         7,  4, 15, 13],\n",
       "       [ 3, 12, 39, 13,  8,  6,  4, 15,  5,  2, 11,  2,  2,  3,  8, 41,\n",
       "         4,  4,  2,  3],\n",
       "       [ 5,  4,  2, 30,  3, 11,  7,  6, 10, 38,  8, 10, 42,  4,  8,  7,\n",
       "        16,  4, 29, 11],\n",
       "       [ 3,  6, 10, 11, 49,  3, 11,  4,  5,  2,  7,  4,  6,  7,  5,  6,\n",
       "        17,  4,  7,  9]])"
      ]
     },
     "execution_count": 12,
     "metadata": {},
     "output_type": "execute_result"
    }
   ],
   "source": [
    "batch['category_list_trim'].list.leaves[:200].values_host.reshape(10, 20)"
   ]
  },
  {
   "cell_type": "code",
   "execution_count": 13,
   "id": "b11ea1eb",
   "metadata": {},
   "outputs": [],
   "source": [
    "import nvtabular.inference.triton as nvt_triton\n",
    "import tritonclient.grpc as grpcclient\n",
    "\n",
    "# inputs = nvt_triton.convert_df_to_triton_input(batch.columns, batch, grpcclient.InferInput)"
   ]
  },
  {
   "cell_type": "code",
   "execution_count": 14,
   "id": "ae6745f5",
   "metadata": {},
   "outputs": [
    {
     "data": {
      "text/plain": [
       "cudf.core.dataframe.DataFrame"
      ]
     },
     "execution_count": 14,
     "metadata": {},
     "output_type": "execute_result"
    }
   ],
   "source": [
    "type(batch)"
   ]
  },
  {
   "cell_type": "code",
   "execution_count": 15,
   "id": "d4e3cd0d",
   "metadata": {},
   "outputs": [],
   "source": [
    "categ_ids = batch['category_list_trim'].list.leaves[:200].values_host.reshape(10, 20)\n",
    "item_ids = batch['item_id_list_trim'].list.leaves[:200].values_host.reshape(10, 20)\n",
    "age_days = batch['timestamp/age_days_list_trim'].list.leaves[:200].values_host.reshape(10, 20)\n",
    "week_days = batch['timestamp/weekday/sin_list_trim'].list.leaves[:200].values_host.reshape(10, 20)"
   ]
  },
  {
   "cell_type": "code",
   "execution_count": 16,
   "id": "ba38f965",
   "metadata": {},
   "outputs": [
    {
     "data": {
      "text/plain": [
       "((10, 20), (10, 20))"
      ]
     },
     "execution_count": 16,
     "metadata": {},
     "output_type": "execute_result"
    }
   ],
   "source": [
    "categ_ids.shape, item_ids.shape"
   ]
  },
  {
   "cell_type": "code",
   "execution_count": 17,
   "id": "7f164f3d",
   "metadata": {},
   "outputs": [
    {
     "data": {
      "text/plain": [
       "((10, 20), (10, 20))"
      ]
     },
     "execution_count": 17,
     "metadata": {},
     "output_type": "execute_result"
    }
   ],
   "source": [
    "categ_ids.shape, week_days.shape"
   ]
  },
  {
   "cell_type": "code",
   "execution_count": 34,
   "id": "388b6cc9",
   "metadata": {},
   "outputs": [],
   "source": [
    "# import numpy as np\n",
    "# dtype = np.int64\n",
    "# categ_ids = np.array(batch['inputs/category-list_trim'][0:10], dtype=dtype)[None,...] # make bs=1\n",
    "# item_ids = np.array(batch['inputs/item_id-list_trim'][0:10], dtype=dtype)[None,...] # make bs=1"
   ]
  },
  {
   "cell_type": "code",
   "execution_count": 20,
   "id": "44ba6555",
   "metadata": {},
   "outputs": [],
   "source": [
    "inputs = []\n",
    "inputs.append(tritonhttpclient.InferInput('category_list_trim', categ_ids.shape, \"INT64\"))\n",
    "inputs.append(tritonhttpclient.InferInput('item_id_list_trim', item_ids.shape, \"INT64\"))\n",
    "inputs.append(tritonhttpclient.InferInput('timestamp/age_days_list_trim', age_days.shape, \"FP32\"))\n",
    "inputs.append(tritonhttpclient.InferInput('timestamp/weekday/sin_list_trim', week_days.shape, \"FP32\"))"
   ]
  },
  {
   "cell_type": "code",
   "execution_count": 21,
   "id": "ed432f35",
   "metadata": {},
   "outputs": [],
   "source": [
    "inputs[0].set_data_from_numpy(categ_ids, binary_data=False)\n",
    "inputs[1].set_data_from_numpy(item_ids, binary_data=False)\n",
    "inputs[2].set_data_from_numpy(age_days, binary_data=False)\n",
    "inputs[3].set_data_from_numpy(week_days, binary_data=False)"
   ]
  },
  {
   "cell_type": "code",
   "execution_count": 22,
   "id": "73541297",
   "metadata": {},
   "outputs": [
    {
     "data": {
      "text/plain": [
       "{'name': 'timestamp/age_days_list_trim',\n",
       " 'shape': (10, 20),\n",
       " 'datatype': 'FP32',\n",
       " 'data': [0.18532420694828033,\n",
       "  0.36186182498931885,\n",
       "  0.48549678921699524,\n",
       "  0.13430547714233398,\n",
       "  0.8259202241897583,\n",
       "  0.7516406178474426,\n",
       "  0.5529733300209045,\n",
       "  0.5101205110549927,\n",
       "  0.7000038623809814,\n",
       "  0.011482291854918003,\n",
       "  0.4896935224533081,\n",
       "  0.19191522896289825,\n",
       "  0.773910403251648,\n",
       "  0.6394434571266174,\n",
       "  0.8883877992630005,\n",
       "  0.29751238226890564,\n",
       "  0.47845229506492615,\n",
       "  0.016086123883724213,\n",
       "  0.3428962826728821,\n",
       "  0.7435528635978699,\n",
       "  0.32196924090385437,\n",
       "  0.9394915103912354,\n",
       "  0.4014430642127991,\n",
       "  0.4010483920574188,\n",
       "  0.9949255585670471,\n",
       "  0.8156757354736328,\n",
       "  0.4450187087059021,\n",
       "  0.0044811926782131195,\n",
       "  0.2978813648223877,\n",
       "  0.5207319855690002,\n",
       "  0.7596309185028076,\n",
       "  0.17658932507038116,\n",
       "  0.6271448135375977,\n",
       "  0.198658749461174,\n",
       "  0.7599001526832581,\n",
       "  0.30431076884269714,\n",
       "  0.35886406898498535,\n",
       "  0.557636559009552,\n",
       "  0.8161512613296509,\n",
       "  0.9738840460777283,\n",
       "  0.1434207409620285,\n",
       "  0.9007807970046997,\n",
       "  0.7347702980041504,\n",
       "  0.04563174024224281,\n",
       "  0.5558290481567383,\n",
       "  0.128507599234581,\n",
       "  0.5653855800628662,\n",
       "  0.8351585268974304,\n",
       "  0.21442396938800812,\n",
       "  0.4964846074581146,\n",
       "  0.8711425065994263,\n",
       "  0.3049938976764679,\n",
       "  0.07047718018293381,\n",
       "  0.6433537602424622,\n",
       "  0.9402651786804199,\n",
       "  0.313453733921051,\n",
       "  0.6445397734642029,\n",
       "  0.5717169642448425,\n",
       "  0.8257215023040771,\n",
       "  0.6268959045410156,\n",
       "  0.33066001534461975,\n",
       "  0.46732097864151,\n",
       "  0.6725393533706665,\n",
       "  0.9536914229393005,\n",
       "  0.7967373728752136,\n",
       "  0.845241367816925,\n",
       "  0.8961549401283264,\n",
       "  0.9570425152778625,\n",
       "  0.8446966409683228,\n",
       "  0.012559663504362106,\n",
       "  0.6449646949768066,\n",
       "  0.17627014219760895,\n",
       "  0.7890598773956299,\n",
       "  0.07686614990234375,\n",
       "  0.553231418132782,\n",
       "  0.0792737677693367,\n",
       "  0.4572117328643799,\n",
       "  0.20851628482341766,\n",
       "  0.5530561208724976,\n",
       "  0.1287584751844406,\n",
       "  0.9781977534294128,\n",
       "  0.10089129954576492,\n",
       "  0.50742506980896,\n",
       "  0.8757252097129822,\n",
       "  0.08312568068504333,\n",
       "  0.7882569432258606,\n",
       "  0.01247443351894617,\n",
       "  0.3950733244419098,\n",
       "  0.11874385178089142,\n",
       "  0.4178866446018219,\n",
       "  0.8956704139709473,\n",
       "  0.47485506534576416,\n",
       "  0.6266322731971741,\n",
       "  0.04850376397371292,\n",
       "  0.8742022514343262,\n",
       "  0.7787827849388123,\n",
       "  0.9893829822540283,\n",
       "  0.004292760509997606,\n",
       "  0.25082552433013916,\n",
       "  0.1715068519115448,\n",
       "  0.9539384841918945,\n",
       "  0.9898977875709534,\n",
       "  0.7464398145675659,\n",
       "  0.4780755937099457,\n",
       "  0.9916333556175232,\n",
       "  0.9085968732833862,\n",
       "  0.6212546825408936,\n",
       "  0.6732833981513977,\n",
       "  0.39942270517349243,\n",
       "  0.5397453308105469,\n",
       "  0.8618204593658447,\n",
       "  0.21873123943805695,\n",
       "  0.6938158869743347,\n",
       "  0.1429877132177353,\n",
       "  0.2835336923599243,\n",
       "  0.606106162071228,\n",
       "  0.3423982262611389,\n",
       "  0.5412497520446777,\n",
       "  0.4547690153121948,\n",
       "  0.44444936513900757,\n",
       "  0.2601281404495239,\n",
       "  0.379117488861084,\n",
       "  0.2263621985912323,\n",
       "  0.8694412708282471,\n",
       "  0.1146152913570404,\n",
       "  0.0798192247748375,\n",
       "  0.5310149788856506,\n",
       "  0.578372597694397,\n",
       "  0.5604696273803711,\n",
       "  0.31262779235839844,\n",
       "  0.2565690875053406,\n",
       "  0.9108563661575317,\n",
       "  0.6502894163131714,\n",
       "  0.9502283930778503,\n",
       "  0.6689860224723816,\n",
       "  0.06422024965286255,\n",
       "  0.3059772253036499,\n",
       "  0.8546854853630066,\n",
       "  0.5183473825454712,\n",
       "  0.06778162717819214,\n",
       "  0.9270969033241272,\n",
       "  0.39075803756713867,\n",
       "  0.06227653846144676,\n",
       "  0.30012306571006775,\n",
       "  0.8568114042282104,\n",
       "  0.8973416686058044,\n",
       "  0.23164002597332,\n",
       "  0.3473910093307495,\n",
       "  0.7428212761878967,\n",
       "  0.1099044606089592,\n",
       "  0.6063141226768494,\n",
       "  0.6185388565063477,\n",
       "  0.5887333154678345,\n",
       "  0.38879233598709106,\n",
       "  0.04991042613983154,\n",
       "  0.06886669993400574,\n",
       "  0.48994842171669006,\n",
       "  0.6001085638999939,\n",
       "  0.3496972620487213,\n",
       "  0.6861311197280884,\n",
       "  0.4806860685348511,\n",
       "  0.628329873085022,\n",
       "  0.7514786720275879,\n",
       "  0.06831831485033035,\n",
       "  0.23028472065925598,\n",
       "  0.33050277829170227,\n",
       "  0.5605593323707581,\n",
       "  0.2586814761161804,\n",
       "  0.35846468806266785,\n",
       "  0.8079406023025513,\n",
       "  0.511958122253418,\n",
       "  0.3540954291820526,\n",
       "  0.6128107905387878,\n",
       "  0.16180412471294403,\n",
       "  0.22509728372097015,\n",
       "  0.30122336745262146,\n",
       "  0.6399756073951721,\n",
       "  0.7349879741668701,\n",
       "  0.7585083246231079,\n",
       "  0.03946470096707344,\n",
       "  0.7963162064552307,\n",
       "  0.3606651723384857,\n",
       "  0.4233818054199219,\n",
       "  0.40575510263442993,\n",
       "  0.364168643951416,\n",
       "  0.7832924127578735,\n",
       "  0.03254008665680885,\n",
       "  0.02433634363114834,\n",
       "  0.3589992821216583,\n",
       "  0.4579504728317261,\n",
       "  0.135215625166893,\n",
       "  0.24405519664287567,\n",
       "  0.024490799754858017,\n",
       "  0.10834219306707382,\n",
       "  0.43978965282440186,\n",
       "  0.17937040328979492,\n",
       "  0.8450270891189575,\n",
       "  0.526348888874054,\n",
       "  0.7619038224220276,\n",
       "  0.31989356875419617]}"
      ]
     },
     "execution_count": 22,
     "metadata": {},
     "output_type": "execute_result"
    }
   ],
   "source": [
    "inputs[2]._get_tensor()"
   ]
  },
  {
   "cell_type": "code",
   "execution_count": 23,
   "id": "aa8274a4",
   "metadata": {},
   "outputs": [],
   "source": [
    "outputs = []\n",
    "outputs.append(\n",
    "        tritonhttpclient.InferRequestedOutput('output_1', binary_data=False))"
   ]
  },
  {
   "cell_type": "code",
   "execution_count": 24,
   "id": "e69e7414",
   "metadata": {},
   "outputs": [
    {
     "name": "stdout",
     "output_type": "stream",
     "text": [
      "POST /v2/models/tf4rec_tf/infer, headers None\n",
      "{\"inputs\":[{\"name\":\"category_list_trim\",\"shape\":[10,20],\"datatype\":\"INT64\",\"data\":[21,6,2,11,39,30,22,8,2,4,4,10,9,6,12,5,6,6,5,7,4,4,2,4,4,26,7,6,2,7,5,6,10,10,3,18,11,12,49,5,11,3,7,65,12,3,71,8,19,4,3,8,3,16,5,34,10,4,5,4,4,3,2,8,14,4,8,2,6,3,11,13,4,2,34,8,8,8,9,3,21,4,28,2,12,10,8,2,30,3,9,16,39,17,7,3,29,6,16,4,8,9,6,6,27,3,2,11,8,8,7,29,2,7,13,4,16,3,13,3,31,18,8,5,10,12,6,5,5,33,5,14,2,12,37,8,7,4,15,13,3,12,39,13,8,6,4,15,5,2,11,2,2,3,8,41,4,4,2,3,5,4,2,30,3,11,7,6,10,38,8,10,42,4,8,7,16,4,29,11,3,6,10,11,49,3,11,4,5,2,7,4,6,7,5,6,17,4,7,9]},{\"name\":\"item_id_list_trim\",\"shape\":[10,20],\"datatype\":\"INT64\",\"data\":[61,34,13,27,121,87,71,20,16,5,4,33,25,8,37,11,14,34,10,19,7,4,12,4,4,78,18,8,13,19,10,21,31,33,6,54,28,35,162,10,27,3,19,203,35,6,206,22,58,5,3,20,3,47,11,107,30,5,9,7,7,2,15,22,46,4,22,13,8,2,27,38,4,12,104,20,20,23,24,6,61,7,88,13,37,31,23,15,91,3,24,45,112,51,18,6,100,21,45,7,20,25,14,8,92,6,13,29,22,22,19,100,13,18,38,5,45,3,38,6,89,56,23,9,32,36,8,10,9,96,11,48,16,37,114,22,17,5,41,40,2,37,121,40,20,34,4,41,11,13,27,16,16,2,20,130,4,5,15,6,11,4,15,94,6,28,18,14,30,122,22,32,128,4,20,19,45,5,100,29,3,21,32,29,162,6,27,7,10,12,19,5,21,19,9,14,53,4,19,26]},{\"name\":\"timestamp/age_days_list_trim\",\"shape\":[10,20],\"datatype\":\"FP32\",\"data\":[0.18532420694828033,0.36186182498931885,0.48549678921699524,0.13430547714233398,0.8259202241897583,0.7516406178474426,0.5529733300209045,0.5101205110549927,0.7000038623809814,0.011482291854918003,0.4896935224533081,0.19191522896289825,0.773910403251648,0.6394434571266174,0.8883877992630005,0.29751238226890564,0.47845229506492615,0.016086123883724213,0.3428962826728821,0.7435528635978699,0.32196924090385437,0.9394915103912354,0.4014430642127991,0.4010483920574188,0.9949255585670471,0.8156757354736328,0.4450187087059021,0.0044811926782131195,0.2978813648223877,0.5207319855690002,0.7596309185028076,0.17658932507038116,0.6271448135375977,0.198658749461174,0.7599001526832581,0.30431076884269714,0.35886406898498535,0.557636559009552,0.8161512613296509,0.9738840460777283,0.1434207409620285,0.9007807970046997,0.7347702980041504,0.04563174024224281,0.5558290481567383,0.128507599234581,0.5653855800628662,0.8351585268974304,0.21442396938800812,0.4964846074581146,0.8711425065994263,0.3049938976764679,0.07047718018293381,0.6433537602424622,0.9402651786804199,0.313453733921051,0.6445397734642029,0.5717169642448425,0.8257215023040771,0.6268959045410156,0.33066001534461975,0.46732097864151,0.6725393533706665,0.9536914229393005,0.7967373728752136,0.845241367816925,0.8961549401283264,0.9570425152778625,0.8446966409683228,0.012559663504362106,0.6449646949768066,0.17627014219760895,0.7890598773956299,0.07686614990234375,0.553231418132782,0.0792737677693367,0.4572117328643799,0.20851628482341766,0.5530561208724976,0.1287584751844406,0.9781977534294128,0.10089129954576492,0.50742506980896,0.8757252097129822,0.08312568068504333,0.7882569432258606,0.01247443351894617,0.3950733244419098,0.11874385178089142,0.4178866446018219,0.8956704139709473,0.47485506534576416,0.6266322731971741,0.04850376397371292,0.8742022514343262,0.7787827849388123,0.9893829822540283,0.004292760509997606,0.25082552433013916,0.1715068519115448,0.9539384841918945,0.9898977875709534,0.7464398145675659,0.4780755937099457,0.9916333556175232,0.9085968732833862,0.6212546825408936,0.6732833981513977,0.39942270517349243,0.5397453308105469,0.8618204593658447,0.21873123943805695,0.6938158869743347,0.1429877132177353,0.2835336923599243,0.606106162071228,0.3423982262611389,0.5412497520446777,0.4547690153121948,0.44444936513900757,0.2601281404495239,0.379117488861084,0.2263621985912323,0.8694412708282471,0.1146152913570404,0.0798192247748375,0.5310149788856506,0.578372597694397,0.5604696273803711,0.31262779235839844,0.2565690875053406,0.9108563661575317,0.6502894163131714,0.9502283930778503,0.6689860224723816,0.06422024965286255,0.3059772253036499,0.8546854853630066,0.5183473825454712,0.06778162717819214,0.9270969033241272,0.39075803756713867,0.06227653846144676,0.30012306571006775,0.8568114042282104,0.8973416686058044,0.23164002597332,0.3473910093307495,0.7428212761878967,0.1099044606089592,0.6063141226768494,0.6185388565063477,0.5887333154678345,0.38879233598709106,0.04991042613983154,0.06886669993400574,0.48994842171669006,0.6001085638999939,0.3496972620487213,0.6861311197280884,0.4806860685348511,0.628329873085022,0.7514786720275879,0.06831831485033035,0.23028472065925598,0.33050277829170227,0.5605593323707581,0.2586814761161804,0.35846468806266785,0.8079406023025513,0.511958122253418,0.3540954291820526,0.6128107905387878,0.16180412471294403,0.22509728372097015,0.30122336745262146,0.6399756073951721,0.7349879741668701,0.7585083246231079,0.03946470096707344,0.7963162064552307,0.3606651723384857,0.4233818054199219,0.40575510263442993,0.364168643951416,0.7832924127578735,0.03254008665680885,0.02433634363114834,0.3589992821216583,0.4579504728317261,0.135215625166893,0.24405519664287567,0.024490799754858017,0.10834219306707382,0.43978965282440186,0.17937040328979492,0.8450270891189575,0.526348888874054,0.7619038224220276,0.31989356875419617]},{\"name\":\"timestamp/weekday/sin_list_trim\",\"shape\":[10,20],\"datatype\":\"FP32\",\"data\":[0.6244166493415833,0.5125443935394287,0.3762165606021881,0.8952085971832275,0.9068506360054016,0.9731537103652954,0.5579488277435303,0.6520795822143555,0.3852776288986206,0.8890060782432556,0.08195222914218903,0.5696254968643188,0.9332199096679688,0.5476006865501404,0.32622647285461426,0.7267142534255981,0.24897855520248413,0.47578123211860657,0.0008068957249633968,0.46019285917282104,0.06354861706495285,0.7576889991760254,0.8743491172790527,0.4724162518978119,0.08690625429153442,0.24635538458824158,0.5355157852172852,0.23180416226387024,0.8039683699607849,0.9779424667358398,0.4773024022579193,0.8484941720962524,0.008647537790238857,0.6847969889640808,0.15642936527729034,0.2037723809480667,0.7677013278007507,0.9036431908607483,0.08697392046451569,0.7641768455505371,0.6583806276321411,0.9247837066650391,0.6163990497589111,0.8016511797904968,0.35220611095428467,0.051793769001960754,0.8230871558189392,0.9102367162704468,0.32506439089775085,0.5284184813499451,0.05986979603767395,0.33394044637680054,0.34734052419662476,0.1125108003616333,0.6974676847457886,0.22288234531879425,0.6555132269859314,0.15181702375411987,0.5807850956916809,0.9785410761833191,0.5335744023323059,0.8635724186897278,0.7746976017951965,0.1408214569091797,0.24416232109069824,0.5809419751167297,0.49701425433158875,0.18660055100917816,0.06247160583734512,0.016837093979120255,0.930440366268158,0.7458260655403137,0.5126701593399048,0.46489623188972473,0.43139615654945374,0.11234112083911896,0.4030693471431732,0.8396540284156799,0.7923707962036133,0.03943971171975136,0.12544260919094086,0.410582959651947,0.29096490144729614,0.7990632057189941,0.9590730667114258,0.7000360488891602,0.5474207997322083,0.8123688697814941,0.24094611406326294,0.6282142400741577,0.3292294144630432,0.6827068328857422,0.41082364320755005,0.7082382440567017,0.5111360549926758,0.7835955023765564,0.27865070104599,0.9928478002548218,0.6823504567146301,0.9388836026191711,0.12554426491260529,0.2732124924659729,0.9145069718360901,0.9523723125457764,0.2245996594429016,0.2381589412689209,0.3236795961856842,0.33143654465675354,0.1563451588153839,0.01001523807644844,0.2815154194831848,0.15992380678653717,0.6263651251792908,0.9804516434669495,0.48691439628601074,0.43685683608055115,0.11718058586120605,0.8017848134040833,0.5351977944374084,0.014724950306117535,0.1991901993751526,0.9007626175880432,0.403489887714386,0.6666746139526367,0.0832522064447403,0.1794958859682083,0.36102885007858276,0.275154173374176,0.5431892275810242,0.8351057171821594,0.5566554069519043,0.4311867952346802,0.9778134822845459,0.4852965176105499,0.42007187008857727,0.7980610728263855,0.759709358215332,0.2224491536617279,0.9649732112884521,0.8986269235610962,0.22954148054122925,0.310305118560791,0.05851713940501213,0.7408515214920044,0.6387979984283447,0.7228016257286072,0.45691829919815063,0.048624128103256226,0.7106961607933044,0.27981844544410706,0.6359574198722839,0.6816352605819702,0.7221217751502991,0.07241931557655334,0.7887168526649475,0.13829463720321655,0.9579290151596069,0.37632063031196594,0.7463400363922119,0.7668516039848328,0.22884246706962585,0.656243622303009,0.03772709146142006,0.811372697353363,0.560132622718811,0.5419301986694336,0.6404716968536377,0.13121642172336578,0.8675134778022766,0.8511757254600525,0.22972595691680908,0.6402599215507507,0.9217158555984497,0.9122608304023743,0.9133689403533936,0.40644603967666626,0.11551233381032944,0.8740079998970032,0.8042885661125183,0.7683959603309631,0.48523759841918945,0.5608126521110535,0.9355731010437012,0.8530344367027283,0.22874581813812256,0.844150960445404,0.054022230207920074,0.03009650856256485,0.2072300761938095,0.32743239402770996,0.6703290939331055,0.2704848051071167,0.42305609583854675,0.013345678336918354,0.6975612044334412,0.5041499137878418,0.5643260478973389,0.1964295655488968,0.19931666553020477,0.9814296960830688]}],\"outputs\":[{\"name\":\"output_1\",\"parameters\":{\"binary_data\":false}}]}\n",
      "<HTTPSocketPoolResponse status=200 headers={'content-type': 'application/json', 'content-length': '95826'}>\n",
      "bytearray(b'{\"model_name\":\"tf4rec_tf\",\"model_version\":\"1\",\"outputs\":[{\"name\":\"output_1\",\"datatype\":\"FP32\",\"shape\":[10,506],\"data\":[-8.485235214233399,-9.01782512664795,-6.982794761657715,-6.972109317779541,-8.640204429626465,-7.347133636474609,-8.926233291625977,-8.538540840148926,-7.993409633636475,-9.931063652038575,-5.0467529296875,-8.428797721862793,-8.046929359436036,-8.92641544342041,-7.4459052085876469,-7.5942230224609379,-7.090347766876221,-5.362616539001465,-6.863885879516602,-0.20489796996116639,-8.267088890075684,-8.45116138458252,-7.4905524253845219,-4.760299205780029,-7.9538679122924809,-8.948945045471192,-6.142117977142334,-8.024088859558106,-7.824329853057861,-9.98244857788086,-6.13594913482666,-8.940837860107422,-6.186960697174072,-8.2568941116333,-7.8528032302856449,-8.384227752685547,-8.113423347473145,-7.709530353546143,-8.388025283813477,-7.4454450607299809,-8.077309608459473,-6.577002048492432,-7.635613918304443,-7.2461724281311039,-6.568151473999023,-10.155680656433106,-7.6364617347717289,-6.030029296875,-7.048549175262451,-8.46634292602539,-7.030512809753418,-8.265799522399903,-7.20867919921875,-8.223979949951172,-8.72289752960205,-8.209138870239258,-8.508575439453125,-7.998871326446533,-8.668893814086914,-8.063672065734864,-8.197685241699219,-6.97869873046875,-6.653282642364502,-6.3061347007751469,-6.546930313110352,-7.8524169921875,-7.030917167663574,-9.133346557617188,-8.09793758392334,-8.416401863098145,-7.939509868621826,-8.303178787231446,-8.66916275024414,-7.484880447387695,-7.881373405456543,-6.612880706787109,-6.939531326293945,-7.98498010635376,-9.450484275817871,-6.832823753356934,-7.467922210693359,-9.918913841247559,-8.433354377746582,-8.160493850708008,-9.70267105102539,-7.175820350646973,-7.1367692947387699,-5.9967451095581059,-7.080382823944092,-7.720321178436279,-9.383060455322266,-7.98607063293457,-7.151647090911865,-7.225305080413818,-7.13127326965332,-7.518298149108887,-7.75073766708374,-8.312586784362793,-7.119229316711426,-7.016448497772217,-9.268866539001465,-6.71382474899292,-7.447237491607666,-7.972061634063721,-8.614328384399414,-9.500143051147461,-10.072598457336426,-8.446537017822266,-8.485487937927246,-8.213628768920899,-10.139217376708985,-9.055481910705567,-7.16707181930542,-7.59934663772583,-7.625208854675293,-8.106058120727539,-7.5581865310668949,-7.6908111572265629,-7.5336737632751469,-7.972434043884277,-8.18450927734375,-8.560809135437012,-7.950404167175293,-7.379181385040283,-8.341212272644043,-6.556242942810059,-7.398303985595703,-9.935087203979493,-8.55176830291748,-8.276327133178711,-8.695533752441407,-7.666525363922119,-8.87483024597168,-8.500829696655274,-7.388252258300781,-7.605437278747559,-8.0618314743042,-8.866564750671387,-8.182887077331543,-9.619855880737305,-9.348397254943848,-5.48876428604126,-8.72179889678955,-8.81243896484375,-7.063006401062012,-8.213370323181153,-6.8807759284973148,-7.929510116577148,-7.900864124298096,-9.736961364746094,-9.090315818786621,-6.602801322937012,-7.993652820587158,-7.771567344665527,-7.980645179748535,-7.826632976531982,-9.539902687072754,-7.906651973724365,-8.192354202270508,-7.141528129577637,-5.972232818603516,-8.261529922485352,-8.394347190856934,-7.813857555389404,-8.515189170837403,-8.598603248596192,-8.823787689208985,-9.150826454162598,-8.025045394897461,-8.445080757141114,-8.298547744750977,-9.478947639465332,-8.096646308898926,-7.810006618499756,-8.310077667236329,-8.931938171386719,-7.81350564956665,-10.349268913269043,-9.17818832397461,-8.304081916809082,-8.659089088439942,-8.486598014831543,-9.605070114135743,-9.04375171661377,-9.641945838928223,-7.44187068939209,-9.228046417236329,-9.144286155700684,-8.711503028869629,-7.916171550750732,-8.539742469787598,-8.566276550292969,-9.203913688659668,-8.280343055725098,-8.880555152893067,-8.59444522857666,-7.553004741668701,-8.588383674621582,-8.684524536132813,-10.211594581604004,-7.44072961807251,-9.877483367919922,-7.922510147094727,-8.878199577331543,-8.815950393676758,-8.782111167907715,-9.531997680664063,-7.776172161102295,-9.630401611328125,-8.854144096374512,-9.641422271728516,-9.172313690185547,-8.749451637268067,-7.635824680328369,-8.344854354858399,-7.83922815322876,-9.873098373413086,-9.548558235168457,-7.558485507965088,-8.667549133300782,-8.451347351074219,-9.486988067626954,-7.320775032043457,-7.205543041229248,-8.128827095031739,-8.451981544494629,-9.040212631225586,-10.84636402130127,-9.18847370147705,-8.706624984741211,-9.144881248474121,-8.168539047241211,-7.409393310546875,-8.31165599822998,-8.611763000488282,-8.6831636428833,-8.046489715576172,-8.643360137939454,-8.079878807067871,-9.794830322265625,-8.462003707885743,-9.420421600341797,-9.768577575683594,-8.27854061126709,-10.594040870666504,-8.539070129394532,-8.07159423828125,-8.550172805786133,-8.984851837158204,-9.523412704467774,-9.320279121398926,-9.196316719055176,-9.90488338470459,-8.863858222961426,-8.426226615905762,-6.799342155456543,-9.05180549621582,-8.345026969909668,-8.130596160888672,-8.51527214050293,-8.034817695617676,-8.365209579467774,-8.111188888549805,-8.770600318908692,-9.207893371582032,-8.263481140136719,-8.231371879577637,-9.276678085327149,-9.806987762451172,-9.756522178649903,-9.415294647216797,-9.909090995788575,-9.026406288146973,-8.732819557189942,-9.12479305267334,-9.139730453491211,-8.20593547821045,-8.379137992858887,-8.402815818786621,-8.979068756103516,-7.981049060821533,-8.075197219848633,-9.937555313110352,-8.788045883178711,-9.391823768615723,-8.742445945739746,-7.532094955444336,-8.15890884399414,-7.18418550491333,-8.21473503112793,-9.384627342224121,-9.743014335632325,-7.236841201782227,-7.7927422523498539,-8.02790641784668,-9.568828582763672,-9.35019302368164,-8.06045150756836,-8.821165084838868,-8.937156677246094,-9.882132530212403,-8.69672966003418,-8.733288764953614,-7.935799598693848,-9.673222541809082,-6.906263828277588,-9.539185523986817,-7.9732537269592289,-8.251297950744629,-7.919478893280029,-8.925957679748536,-7.413320064544678,-11.169692993164063,-9.783852577209473,-10.430877685546875,-8.98341178894043,-8.688895225524903,-8.658768653869629,-8.912504196166993,-7.911259651184082,-9.848333358764649,-8.678947448730469,-8.073014259338379,-7.782026290893555,-7.906033039093018,-8.588301658630371,-9.04273509979248,-7.638808727264404,-9.431180953979493,-9.052814483642579,-8.67210578918457,-9.169387817382813,-8.387995719909668,-7.788876056671143,-9.759170532226563,-7.290329456329346,-9.897160530090332,-8.895979881286621,-8.200174331665039,-9.458730697631836,-7.630890846252441,-10.562430381774903,-9.122018814086914,-8.98322582244873,-7.831236839294434,-9.403448104858399,-9.484955787658692,-9.702424049377442,-7.812297344207764,-9.159379005432129,-8.449660301208496,-9.026138305664063,-8.312816619873047,-8.482422828674317,-8.601503372192383,-9.443278312683106,-8.035666465759278,-7.90420389175415,-8.517868995666504,-7.7902984619140629,-8.742655754089356,-8.554238319396973,-8.16081428527832,-7.788475036621094,-8.542515754699707,-6.962967872619629,-10.78606128692627,-7.9307074546813969,-9.576089859008789,-9.392948150634766,-8.543866157531739,-8.100639343261719,-10.267151832580567,-8.025349617004395,-9.442827224731446,-8.505590438842774,-8.171696662902832,-10.336337089538575,-7.922187328338623,-6.802525043487549,-9.050397872924805,-7.5812482833862309,-7.0778374671936039,-7.49987268447876,-9.768404960632325,-9.14121150970459,-8.063323974609375,-8.857242584228516,-8.057843208312989,-8.438942909240723,-8.357499122619629,-8.800737380981446,-9.086990356445313,-8.418423652648926,-7.619737148284912,-7.362889766693115,-8.005745887756348,-9.215836524963379,-7.931705951690674,-8.058917999267579,-7.845130443572998,-8.555646896362305,-7.351522922515869,-9.348483085632325,-9.319721221923829,-7.746921062469482,-8.836398124694825,-8.378028869628907,-8.456921577453614,-7.520269870758057,-8.097879409790039,-9.643564224243164,-10.055912971496582,-10.01440715789795,-8.174882888793946,-8.365923881530762,-8.79708194732666,-8.501372337341309,-9.253419876098633,-6.899501800537109,-7.562638759613037,-9.245412826538086,-9.14526081085205,-9.407764434814454,-8.765125274658204,-7.963767051696777,-8.937081336975098,-9.981844902038575,-8.529374122619629,-9.713940620422364,-10.298089981079102,-9.833237648010254,-7.849524021148682,-7.937961578369141,-8.834729194641114,-8.483746528625489,-9.77231502532959,-9.802143096923829,-8.191291809082032,-8.391916275024414,-7.942024230957031,-7.838147163391113,-8.629304885864258,-8.53380012512207,-7.478886604309082,-8.499046325683594,-8.457660675048829,-9.118800163269043,-7.004299640655518,-8.671595573425293,-9.52535343170166,-9.059233665466309,-8.677484512329102,-8.221961975097657,-7.907538890838623,-7.469542503356934,-8.56229019165039,-7.206087589263916,-8.383319854736329,-9.1976318359375,-9.197673797607422,-9.05632495880127,-9.055815696716309,-8.820476531982422,-9.437661170959473,-8.04485034942627,-8.586959838867188,-8.858010292053223,-8.074718475341797,-9.521085739135743,-8.993382453918457,-9.426617622375489,-7.647982120513916,-10.379244804382325,-9.106863975524903,-8.240205764770508,-8.297979354858399,-8.742807388305664,-8.160514831542969,-9.143426895141602,-8.065171241760254,-9.225914001464844,-8.397303581237793,-9.443381309509278,-9.425514221191407,-8.77473258972168,-9.324679374694825,-7.931271076202393,-8.577092170715332,-10.43823528289795,-8.420252799987793,-9.469769477844239,-7.62753438949585,-9.062124252319336,-9.814014434814454,-9.947586059570313,-7.698625087738037,-9.909805297851563,-7.812926769256592,-7.027133941650391,-7.451661586761475,-7.320322036743164,-7.592090606689453,-8.269795417785645,-9.366973876953125,-8.534415245056153,-9.220784187316895,-9.690337181091309,-7.015092372894287,-6.895107269287109,-5.652608394622803,-8.917587280273438,-9.434418678283692,-8.147235870361329,-10.168981552124024,-7.739739418029785,-0.1714559644460678,-6.490119457244873,-8.423009872436524,-7.226388931274414,-8.973057746887207,-7.642312526702881,-6.730633735656738,-7.469374656677246,-7.396471977233887,-5.8015971183776859,-8.914387702941895,-9.129707336425782,-7.702455520629883,-5.774450778961182,-8.294211387634278,-7.668957233428955,-10.023177146911621,-9.015555381774903,-10.114551544189454,-5.809227466583252,-7.7990827560424809,-7.788043022155762,-7.736270427703857,-9.783409118652344,-8.23509693145752,-8.319064140319825,-6.931272029876709,-6.847548961639404,-8.182817459106446,-6.198437213897705,-6.256164073944092,-8.420289039611817,-7.662049770355225,-7.740927219390869,-6.59869384765625,-8.729512214660645,-6.682101249694824,-7.294475555419922,-9.602800369262696,-6.818563938140869,-6.680324077606201,-9.159244537353516,-7.616426944732666,-9.148513793945313,-7.702118396759033,-6.892917633056641,-7.423125267028809,-8.84740924835205,-8.60119342803955,-8.438015937805176,-8.735897064208985,-7.576765537261963,-7.553623676300049,-7.787729740142822,-7.903234481811523,-7.338252067565918,-6.76814603805542,-9.43858814239502,-8.451705932617188,-9.2487211227417,-9.684309959411621,-6.300641059875488,-7.859238147735596,-9.405516624450684,-6.776201248168945,-7.826904296875,-8.584696769714356,-6.762639045715332,-7.418437957763672,-6.284281253814697,-6.4561543464660648,-9.319039344787598,-8.233925819396973,-6.260861396789551,-9.852210998535157,-9.675007820129395,-8.61799430847168,-6.710351467132568,-8.278336524963379,-6.2241082191467289,-8.286730766296387,-7.770656585693359,-7.633902549743652,-6.266183376312256,-7.270289897918701,-7.090069770812988,-7.903432846069336,-8.639323234558106,-8.39998722076416,-8.765045166015625,-8.81971263885498,-7.895364284515381,-9.025614738464356,-8.561176300048829,-8.973023414611817,-10.181036949157715,-10.828875541687012,-10.846296310424805,-8.799388885498047,-8.728418350219727,-9.533411979675293,-8.101768493652344,-10.43432331085205,-7.335473537445068,-8.769969940185547,-7.439485549926758,-9.448936462402344,-8.421196937561036,-8.231511116027832,-8.882164001464844,-8.080689430236817,-8.770615577697754,-8.1612548828125,-7.192840576171875,-9.446516990661621,-9.137970924377442,-8.708767890930176,-6.6834187507629398,-8.683308601379395,-7.2638325691223148,-7.567071914672852,-7.955840587615967,-9.283914566040039,-9.964728355407715,-9.071813583374024,-8.348065376281739,-9.190350532531739,-9.849061012268067,-9.402534484863282,-9.249602317810059,-8.791177749633789,-7.6086249351501469,-9.84212589263916,-8.607368469238282,-8.03138542175293,-8.962468147277832,-8.08410930633545,-9.680914878845215,-9.466797828674317,-8.438375473022461,-8.178947448730469,-8.031488418579102,-7.706794738769531,-8.488619804382325,-8.934249877929688,-8.439322471618653,-8.935315132141114,-7.856860637664795,-8.524202346801758,-7.0886077880859379,-7.867730140686035,-8.524874687194825,-7.336337566375732,-8.187248229980469,-8.26513671875,-8.095663070678711,-8.40591812133789,-8.9478120803833,-8.479260444641114,-8.381133079528809,-8.704133033752442,-8.814031600952149,-7.911550045013428,-8.22872257232666,-8.869890213012696,-7.394399642944336,-9.907927513122559,-9.357762336730957,-9.15556812286377,-7.456090450286865,-9.293025016784668,-8.007392883300782,-9.226815223693848,-9.806559562683106,-9.1521577835083,-9.28927230834961,-9.143312454223633,-8.554557800292969,-8.309358596801758,-9.031719207763672,-7.928778648376465,-9.091486930847168,-8.799419403076172,-8.032437324523926,-7.2798662185668949,-10.283989906311036,-8.762057304382325,-8.733500480651856,-8.828670501708985,-8.562812805175782,-10.72908878326416,-9.710115432739258,-7.383580207824707,-9.153139114379883,-9.630534172058106,-7.977889537811279,-9.101950645446778,-7.089462757110596,-9.60548210144043,-8.868452072143555,-9.244877815246582,-8.656787872314454,-8.528372764587403,-8.886643409729004,-7.377805233001709,-7.590645790100098,-8.422825813293457,-8.878494262695313,-9.483227729797364,-9.185234069824219,-7.368004322052002,-8.158944129943848,-8.36330795288086,-8.083576202392579,-7.6925506591796879,-7.454594135284424,-8.139473915100098,-8.986842155456543,-8.698195457458496,-8.635323524475098,-8.742340087890625,-8.913501739501954,-7.271595478057861,-7.2607316970825199,-8.457205772399903,-7.156221389770508,-8.255962371826172,-8.783921241760254,-9.500436782836914,-9.666277885437012,-7.547214508056641,-8.62454605102539,-9.43874740600586,-9.557639122009278,-8.770620346069336,-9.539636611938477,-9.205778121948243,-8.323057174682618,-9.156786918640137,-9.62830638885498,-10.160540580749512,-9.815929412841797,-7.288784027099609,-9.502347946166993,-7.692695617675781,-9.748343467712403,-8.420280456542969,-9.198590278625489,-8.255657196044922,-8.127118110656739,-8.765739440917969,-9.035758018493653,-8.28115177154541,-7.241106033325195,-7.799436569213867,-8.70536994934082,-10.275527954101563,-8.902362823486329,-9.506026268005371,-7.632820129394531,-8.786569595336914,-10.187499046325684,-7.856194972991943,-8.546931266784668,-8.833243370056153,-9.336783409118653,-9.336910247802735,-9.698991775512696,-9.54145336151123,-9.99267864227295,-8.730238914489746,-9.009819030761719,-8.56983470916748,-9.123263359069825,-8.305707931518555,-9.243584632873536,-8.42518138885498,-9.325089454650879,-8.128617286682129,-9.785282135009766,-9.025130271911621,-10.135981559753418,-9.169960021972657,-8.122186660766602,-7.5519700050354,-8.793598175048829,-8.880030632019043,-9.325989723205567,-7.956411838531494,-10.091033935546875,-8.54423999786377,-9.074085235595704,-9.306307792663575,-7.911907196044922,-9.526052474975586,-8.580960273742676,-8.942500114440918,-7.954756259918213,-8.149615287780762,-9.248785018920899,-8.362001419067383,-8.773345947265625,-10.350095748901368,-9.79937744140625,-8.948311805725098,-9.474743843078614,-7.916905879974365,-9.668770790100098,-10.030486106872559,-9.313020706176758,-9.542608261108399,-10.220732688903809,-8.855156898498536,-9.181796073913575,-8.924920082092286,-9.03682804107666,-7.8943023681640629,-8.218552589416504,-8.771315574645996,-7.856411933898926,-8.851551055908204,-8.333706855773926,-8.353267669677735,-8.019664764404297,-9.598550796508789,-7.928870677947998,-7.514060974121094,-9.54110050201416,-9.08416748046875,-9.404601097106934,-8.398146629333496,-8.484561920166016,-9.19489574432373,-8.804768562316895,-6.828179836273193,-9.608771324157715,-8.830948829650879,-9.003599166870118,-8.879348754882813,-9.549246788024903,-10.378541946411133,-7.748128414154053,-7.608314037322998,-8.134697914123536,-7.916207313537598,-9.270624160766602,-8.991122245788575,-7.467716217041016,-8.931736946105957,-7.824987888336182,-10.261556625366211,-9.358529090881348,-7.639955520629883,-9.646439552307129,-9.243071556091309,-7.056136608123779,-9.337912559509278,-8.370563507080079,-9.130603790283204,-9.646228790283204,-9.422006607055664,-8.921472549438477,-9.464032173156739,-9.204708099365235,-10.740307807922364,-9.505392074584961,-8.023383140563965,-9.027314186096192,-9.906463623046875,-8.890572547912598,-9.230655670166016,-9.033506393432618,-8.867063522338868,-8.69509220123291,-8.07954216003418,-8.508051872253418,-7.619901180267334,-8.977367401123047,-8.782011032104493,-7.514288902282715,-7.874622821807861,-8.160834312438965,-8.168635368347168,-8.384439468383789,-8.348810195922852,-9.130656242370606,-8.972789764404297,-8.149100303649903,-8.114352226257325,-7.334040641784668,-9.079869270324707,-9.38419246673584,-6.807344436645508,-8.53722095489502,-8.929996490478516,-7.472710132598877,-9.480196952819825,-8.115391731262207,-8.520023345947266,-8.394573211669922,-9.204148292541504,-9.280455589294434,-9.044572830200196,-9.034588813781739,-7.769988059997559,-9.268773078918457,-8.60684871673584,-6.86003303527832,-9.205949783325196,-8.681273460388184,-7.525005340576172,-8.041006088256836,-8.689830780029297,-9.605498313903809,-8.456990242004395,-7.807276725769043,-9.36483383178711,-8.472864151000977,-8.374031066894532,-8.621397972106934,-8.816128730773926,-10.150790214538575,-8.699313163757325,-8.553851127624512,-7.386773586273193,-8.300566673278809,-8.88222885131836,-10.549781799316407,-9.321582794189454,-9.57678508758545,-8.380188941955567,-9.337387084960938,-8.223100662231446,-6.793124675750732,-9.03528118133545,-9.876008987426758,-8.243122100830079,-8.594038009643555,-7.929464817047119,-9.791773796081543,-8.874434471130371,-9.095486640930176,-8.189128875732422,-8.85027027130127,-9.319209098815918,-9.204258918762207,-8.329863548278809,-8.210701942443848,-10.147666931152344,-10.061742782592774,-9.514763832092286,-8.14776611328125,-8.730027198791504,-9.630038261413575,-9.240665435791016,-8.084739685058594,-8.826631546020508,-9.711716651916504,-7.656517028808594,-8.13244342803955,-8.55505657196045,-9.057251930236817,-8.611915588378907,-9.389416694641114,-8.822153091430664,-7.968997001647949,-9.293817520141602,-7.711406707763672,-9.291735649108887,-8.92603588104248,-7.977242946624756,-9.26969051361084,-9.10350513458252,-8.534013748168946,-9.567997932434082,-8.822312355041504,-10.631882667541504,-6.918782711029053,-8.162666320800782,-9.872309684753418,-9.957511901855469,-9.512651443481446,-8.024884223937989,-7.920936584472656,-9.316471099853516,-7.7025885581970219,-7.479390621185303,-9.83390998840332,-7.555903434753418,-8.722107887268067,-9.017356872558594,-6.72726583480835,-9.210124969482422,-8.307517051696778,-9.336737632751465,-8.855138778686524,-9.57752799987793,-7.275555610656738,-6.906867027282715,-8.782386779785157,-7.470625400543213,-5.629340171813965,-8.023381233215332,-0.18266943097114564,-8.545065879821778,-9.806448936462403,-7.8496413230896,-7.447941303253174,-9.1586332321167,-7.9901628494262699,-6.710113525390625,-10.305113792419434,-7.30449914932251,-7.994808673858643,-10.719156265258789,-8.652240753173829,-7.514718532562256,-9.003777503967286,-6.321880340576172,-6.123076438903809,-8.732614517211914,-7.716205596923828,-5.9938812255859379,-7.144329071044922,-8.095808982849121,-9.873299598693848,-8.900341987609864,-5.270576477050781,-7.653777122497559,-7.368332862854004,-8.471379280090332,-7.313129425048828,-8.598459243774414,-4.981605529785156,-8.191283226013184,-7.15518856048584,-9.40534496307373,-7.377101898193359,-8.271145820617676,-8.512201309204102,-8.547282218933106,-6.907126426696777,-8.083101272583008,-9.05931282043457,-9.621447563171387,-8.28588581085205,-8.462577819824219,-6.6293134689331059,-8.243685722351075,-8.02739143371582,-9.47276496887207,-9.587658882141114,-7.862434387207031,-6.051445007324219,-10.135819435119629,-7.829021453857422,-9.466132164001465,-9.139856338500977,-8.164817810058594,-8.122983932495118,-6.452259063720703,-7.625755786895752,-8.022798538208008,-7.47950553894043,-8.34249496459961,-7.586165428161621,-6.832551002502441,-10.478239059448243,-8.515034675598145,-9.212566375732422,-7.588944435119629,-8.156000137329102,-8.299395561218262,-9.9591064453125,-8.456689834594727,-6.3492937088012699,-7.613008499145508,-8.503998756408692,-8.383345603942871,-8.761319160461426,-6.553030014038086,-10.26943588256836,-8.464190483093262,-8.243857383728028,-9.852581977844239,-7.356052875518799,-9.985334396362305,-8.61247444152832,-8.241168975830079,-8.591465950012207,-7.326669216156006,-7.654462814331055,-9.69653606414795,-7.618015289306641,-9.283123970031739,-8.700251579284668,-8.674466133117676,-8.33561897277832,-7.850049018859863,-8.377108573913575,-8.239089012145996,-8.41054916381836,-8.439475059509278,-9.781335830688477,-8.358048439025879,-7.8581767082214359,-8.856008529663086,-7.9353837966918949,-7.841735363006592,-7.80953311920166,-8.662213325500489,-9.37086009979248,-7.950394153594971,-8.183147430419922,-9.669292449951172,-7.2599406242370609,-8.7090425491333,-7.112111568450928,-7.641246795654297,-9.225564002990723,-10.673140525817871,-9.105981826782227,-8.107872009277344,-9.00119686126709,-9.998881340026856,-8.597816467285157,-8.327195167541504,-8.94001293182373,-8.969050407409668,-7.326399326324463,-8.07247543334961,-7.596141815185547,-9.643975257873536,-8.187349319458008,-7.7677531242370609,-8.281577110290528,-8.471116065979004,-8.961661338806153,-9.054563522338868,-9.085206031799317,-6.9466233253479,-8.130476951599121,-7.966739654541016,-7.611110687255859,-8.16738224029541,-9.962611198425293,-6.857065200805664,-7.819849491119385,-8.260448455810547,-7.611599922180176,-9.360219955444336,-7.90874719619751,-7.687702178955078,-7.996038913726807,-8.535139083862305,-7.579100131988525,-8.355932235717774,-8.690682411193848,-7.415062427520752,-9.049993515014649,-9.585495948791504,-7.081719875335693,-10.012264251708985,-8.274609565734864,-9.56561279296875,-8.649227142333985,-7.167154312133789,-7.827759742736816,-7.648439884185791,-9.406551361083985,-9.294711112976075,-7.089108467102051,-8.010046005249024,-9.733036041259766,-8.63780403137207,-8.73521900177002,-9.490087509155274,-8.660551071166993,-6.706301212310791,-7.412652492523193,-7.474161624908447,-8.267223358154297,-7.301146030426025,-6.932511329650879,-7.988378047943115,-9.470921516418457,-7.765413284301758,-7.209105491638184,-8.886606216430664,-8.27550220489502,-8.691290855407715,-8.731366157531739,-8.890422821044922,-8.296168327331543,-9.67728328704834,-9.723648071289063,-9.698287963867188,-8.348206520080567,-8.297704696655274,-9.124333381652832,-7.213673114776611,-7.537629127502441,-8.756260871887207,-7.853924751281738,-9.514184951782227,-9.28750991821289,-8.408456802368164,-9.43188190460205,-8.476082801818848,-8.145614624023438,-7.351092338562012,-9.168803215026856,-8.748344421386719,-7.378828048706055,-7.678967475891113,-8.252588272094727,-9.50105094909668,-7.805173397064209,-8.193642616271973,-8.569374084472657,-8.89432430267334,-9.235037803649903,-8.375460624694825,-7.885415077209473,-9.615782737731934,-7.553652286529541,-8.348576545715332,-7.87118673324585,-8.03915023803711,-9.113656997680664,-9.096665382385254,-7.184683799743652,-7.963313579559326,-7.45100736618042,-9.487469673156739,-9.025321006774903,-7.658401012420654,-7.87672233581543,-8.743098258972168,-8.126386642456055,-7.751433372497559,-9.646722793579102,-8.490716934204102,-8.261519432067871,-8.496028900146485,-8.744902610778809,-7.825159072875977,-8.726139068603516,-7.824919700622559,-8.603558540344239,-9.25194263458252,-7.603603363037109,-8.781913757324219,-8.911446571350098,-7.631496906280518,-7.909120082855225,-8.228804588317871,-8.30030345916748,-8.806215286254883,-8.969480514526368,-8.542780876159668,-8.768925666809082,-7.822192668914795,-9.337448120117188,-9.037363052368164,-7.0349249839782719,-8.44991683959961,-9.062125205993653,-9.258322715759278,-9.522879600524903,-7.878875732421875,-7.705804824829102,-9.249191284179688,-9.489779472351075,-8.07701301574707,-9.041065216064454,-6.561728477478027,-9.488612174987793,-8.275750160217286,-9.058857917785645,-9.057174682617188,-8.725977897644043,-9.282395362854004,-7.756291389465332,-9.757676124572754,-9.724353790283204,-8.667619705200196,-8.788183212280274,-7.369971752166748,-9.746051788330079,-10.440716743469239,-8.120344161987305,-8.46484088897705,-9.514969825744629,-8.11247730255127,-8.844449996948243,-10.15437126159668,-9.796167373657227,-8.27460765838623,-9.960609436035157,-8.790273666381836,-8.282549858093262,-7.645844459533691,-7.874013423919678,-8.676529884338379,-9.004148483276368,-9.73968505859375,-8.34914779663086,-7.283268928527832,-8.862137794494629,-9.415220260620118,-8.061841011047364,-8.140655517578125,-8.239776611328125,-8.557177543640137,-8.28933334350586,-7.105237007141113,-8.449694633483887,-9.06564712524414,-8.999809265136719,-8.067774772644043,-9.274214744567871,-7.827624797821045,-9.346505165100098,-7.523076057434082,-7.944955825805664,-9.428565979003907,-9.62710952758789,-9.290523529052735,-8.972617149353028,-7.696719646453857,-8.504216194152832,-7.72398042678833,-9.613912582397461,-8.7037935256958,-9.606293678283692,-7.827969074249268,-8.774147987365723,-9.486225128173829,-8.60745620727539,-8.457261085510254,-9.120954513549805,-8.43813705444336,-8.771939277648926,-8.701892852783204,-8.503584861755371,-7.805558681488037,-8.144391059875489,-7.988701343536377,-8.171298027038575,-8.359235763549805,-9.277660369873047,-8.814043998718262,-9.809672355651856,-10.698719024658204,-8.231342315673829,-8.739588737487793,-9.230935096740723,-8.59669017791748,-8.09955883026123,-7.82651424407959,-9.254938125610352,-7.725642681121826,-8.159008979797364,-9.26494026184082,-9.50600528717041,-9.431854248046875,-9.618916511535645,-8.301589965820313,-8.919892311096192,-8.7276611328125,-8.912477493286133,-8.499720573425293,-8.183932304382325,-8.873448371887207,-9.306857109069825,-7.270840167999268,-8.645425796508789,-9.707883834838868,-8.747049331665039,-7.917635917663574,-8.828636169433594,-7.017693519592285,-8.726531028747559,-7.956217288970947,-8.34699535369873,-9.089859008789063,-8.393860816955567,-9.085458755493164,-8.909749031066895,-9.937031745910645,-9.395149230957032,-9.587203979492188,-9.671066284179688,-10.258371353149414,-7.1342597007751469,-9.741562843322754,-7.692882061004639,-8.910484313964844,-7.843716144561768,-9.3984956741333,-8.689472198486329,-8.179305076599121,-7.265826225280762,-9.8323392868042,-7.613117218017578,-7.858290195465088,-7.070788860321045,-7.3895392417907719,-9.024770736694336,-9.002132415771485,-7.620970249176025,-7.145208358764648,-9.572432518005371,-8.388792991638184,-10.316006660461426,-6.715885639190674,-8.579620361328125,-8.58048152923584,-9.398688316345215,-8.608537673950196,-8.768318176269532,-7.620502948760986,-8.490013122558594,-9.650634765625,-7.820428371429443,-7.9069929122924809,-8.642727851867676,-9.330621719360352,-7.427233695983887,-8.125301361083985,-7.108467102050781,-8.675047874450684,-9.480429649353028,-8.635360717773438,-7.564719200134277,-8.699348449707032,-9.1784086227417,-9.14146614074707,-7.68073034286499,-8.868682861328125,-8.365948677062989,-6.643669128417969,-9.806900978088379,-8.272289276123047,-9.503734588623047,-9.028491973876954,-9.668707847595215,-9.47075366973877,-8.57158088684082,-9.838366508483887,-8.480259895324707,-8.863319396972657,-10.145988464355469,-7.885000705718994,-8.891947746276856,-8.63294506072998,-7.753351211547852,-7.610589981079102,-7.246279239654541,-7.748653888702393,-8.844635009765625,-9.057321548461914,-7.588692665100098,-8.127594947814942,-7.194005012512207,-8.230904579162598,-10.156471252441407,-7.593385696411133,-9.040969848632813,-9.089873313903809,-8.652344703674317,-8.02171802520752,-9.248029708862305,-9.567169189453125,-8.797733306884766,-8.271138191223145,-8.310110092163086,-10.155776977539063,-8.800498962402344,-7.3935933113098148,-8.15305233001709,-9.832198143005371,-9.338458061218262,-9.998887062072754,-8.432075500488282,-7.888425350189209,-8.75493335723877,-10.21521282196045,-8.552903175354004,-7.604633331298828,-9.440763473510743,-8.561930656433106,-7.1909918785095219,-9.04865550994873,-9.436345100402832,-8.332772254943848,-8.259346961975098,-9.125486373901368,-7.2030134201049809,-8.94604778289795,-9.925275802612305,-8.549388885498047,-7.563398361206055,-7.26718807220459,-4.9088006019592289,-8.426109313964844,-6.469967365264893,-0.19711615145206452,-6.909302711486816,-8.201748847961426,-8.114720344543457,-9.110308647155762,-9.668022155761719,-7.23427152633667,-5.661558628082275,-6.7024617195129398,-6.94205904006958,-9.074210166931153,-8.911239624023438,-7.842538833618164,-8.372050285339356,-6.944511890411377,-7.674227237701416,-9.04179573059082,-9.23507308959961,-8.295583724975586,-6.394789218902588,-7.901182651519775,-7.226527214050293,-5.82016134262085,-6.401271820068359,-6.319422721862793,-6.1085991859436039,-8.421255111694336,-4.4151177406311039,-6.62984037399292,-8.75644302368164,-7.606809616088867,-8.32152271270752,-8.943000793457032,-7.019907474517822,-8.60413646697998,-9.729045867919922,-7.532642364501953,-8.805057525634766,-8.004502296447754,-9.166776657104493,-8.00108528137207,-9.437272071838379,-8.416467666625977,-7.1244730949401859,-7.688943862915039,-7.920010089874268,-7.6638503074646,-8.318796157836914,-6.896310329437256,-7.848236560821533,-8.445760726928711,-8.124863624572754,-8.268235206604004,-9.018669128417969,-8.265225410461426,-9.147228240966797,-10.51788330078125,-9.331018447875977,-7.220242977142334,-7.508501052856445,-7.0526556968688969,-8.853143692016602,-7.6837053298950199,-7.574827194213867,-9.068394660949707,-8.763564109802246,-6.6627960205078129,-7.017101287841797,-7.52523946762085,-8.636160850524903,-6.727877616882324,-8.45144271850586,-8.459858894348145,-10.2349271774292,-7.499293327331543,-7.376064777374268,-8.817691802978516,-8.715958595275879,-7.896873950958252,-8.457837104797364,-6.121793270111084,-8.814046859741211,-8.6239652633667,-8.946677207946778,-9.292793273925782,-8.295974731445313,-9.28305721282959,-9.019383430480957,-7.6600847244262699,-9.105989456176758,-8.503277778625489,-8.139068603515625,-8.005500793457032,-8.307366371154786,-9.166838645935059,-7.635472297668457,-7.122655391693115,-9.195956230163575,-8.193361282348633,-6.976491928100586,-9.22083854675293,-7.04778528213501,-9.518938064575196,-8.648776054382325,-9.352992057800293,-9.816083908081055,-7.130886554718018,-9.608373641967774,-9.732036590576172,-7.372281074523926,-7.997135639190674,-9.075944900512696,-9.722248077392579,-8.811744689941407,-9.225088119506836,-7.297729015350342,-8.052713394165039,-9.162013053894043,-7.660642623901367,-9.172652244567871,-8.725444793701172,-9.411375999450684,-9.065439224243164,-8.151041030883789,-8.858068466186524,-8.774918556213379,-8.253451347351075,-8.587160110473633,-7.730348587036133,-9.096294403076172,-7.620664119720459,-9.435534477233887,-8.373279571533204,-9.550183296203614,-8.991496086120606,-8.327754974365235,-7.738996505737305,-8.488572120666504,-7.322723865509033,-8.677343368530274,-10.460043907165528,-8.287520408630371,-8.543336868286133,-8.382142066955567,-8.451624870300293,-7.691994667053223,-8.606710433959961,-7.505519390106201,-10.025467872619629,-8.034330368041993,-8.894326210021973,-8.698463439941407,-8.351690292358399,-9.585338592529297,-8.956127166748047,-9.085037231445313,-8.679475784301758,-7.589994430541992,-7.378371715545654,-7.488835334777832,-10.223475456237793,-8.880331039428711,-10.520394325256348,-7.9399333000183109,-8.388928413391114,-8.8480224609375,-8.670717239379883,-8.344022750854493,-8.057943344116211,-8.618098258972168,-9.641741752624512,-8.201598167419434,-6.4127678871154789,-8.329073905944825,-6.9819865226745609,-8.986139297485352,-8.319209098815918,-8.436752319335938,-9.02596664428711,-7.380771160125732,-7.503711223602295,-8.319150924682618,-6.944972515106201,-8.339980125427246,-7.509615421295166,-8.42112922668457,-9.28250789642334,-8.194457054138184,-8.365182876586914,-7.8327131271362309,-9.824502944946289,-8.637031555175782,-9.263701438903809,-7.638612747192383,-6.602329730987549,-9.05069637298584,-10.736260414123536,-10.845295906066895,-9.05898380279541,-7.667288780212402,-8.643221855163575,-8.432454109191895,-8.42739200592041,-9.565189361572266,-9.99133586883545,-8.542360305786133,-7.62444543838501,-7.9072794914245609,-8.294272422790528,-9.071640968322754,-8.333183288574219,-9.691702842712403,-8.799276351928711,-8.736162185668946,-9.922569274902344,-8.46290111541748,-7.9118733406066898,-6.959102153778076,-9.933395385742188,-8.501243591308594,-10.599305152893067,-7.125585079193115,-8.955445289611817,-10.275092124938965,-6.9705095291137699,-7.253294467926025,-8.665613174438477,-9.273326873779297,-8.693602561950684,-7.5101494789123539,-8.371986389160157,-9.050192832946778,-7.8578925132751469,-9.244336128234864,-8.096264839172364,-7.03342866897583,-9.441914558410645,-9.2346830368042,-8.107495307922364,-7.429287433624268,-8.847551345825196,-8.676095962524414,-9.233054161071778,-6.852688789367676,-7.720372676849365,-8.40487289428711,-7.074464321136475,-8.663490295410157,-9.350432395935059,-9.110486030578614,-7.279499053955078,-8.86642074584961,-8.463525772094727,-7.708035945892334,-8.738096237182618,-7.535620212554932,-9.001172065734864,-8.928878784179688,-8.292838096618653,-9.337685585021973,-8.890974998474121,-8.217089653015137,-10.135069847106934,-8.721673011779786,-8.945802688598633,-7.410043716430664,-7.014334201812744,-9.12615966796875,-9.309673309326172,-8.875783920288086,-8.715643882751465,-9.083440780639649,-9.430438041687012,-9.035290718078614,-8.824665069580079,-8.76243782043457,-8.629501342773438,-9.250127792358399,-7.964800834655762,-9.316856384277344,-8.957393646240235,-7.498358249664307,-9.099696159362793,-6.677840709686279,-8.690019607543946,-9.339835166931153,-8.058314323425293,-9.218565940856934,-7.6212615966796879,-7.593685626983643,-8.962018966674805,-8.271832466125489,-7.576406002044678,-9.91895580291748,-8.097533226013184,-8.541715621948243,-8.47872257232666,-7.2507758140563969,-8.455368995666504,-12.106011390686036,-8.711139678955079,-9.8115816116333,-6.822543621063232,-7.992959976196289,-10.135183334350586,-9.317418098449707,-8.312959671020508,-9.000038146972657,-8.855904579162598,-8.80652141571045,-8.852458000183106,-9.452718734741211,-7.573511123657227,-9.132502555847168,-6.559718608856201,-8.536259651184082,-7.291964054107666,-9.174135208129883,-6.750935077667236,-9.34082317352295,-8.279951095581055,-8.841915130615235,-8.817764282226563,-7.024141311645508,-9.306628227233887,-7.786778450012207,-8.716676712036133,-8.563133239746094,-9.108777046203614,-8.257128715515137,-8.541768074035645,-8.443318367004395,-9.68481731414795,-7.969106197357178,-8.538922309875489,-10.053343772888184,-9.538227081298829,-9.772191047668457,-9.297786712646485,-6.804229259490967,-8.617744445800782,-9.504568099975586,-9.577195167541504,-7.4314422607421879,-8.36695384979248,-7.915156364440918,-8.134788513183594,-7.297445774078369,-8.997096061706543,-8.815889358520508,-8.48704719543457,-8.55710506439209,-9.257190704345704,-8.095527648925782,-8.921614646911621,-8.574673652648926,-8.062252044677735,-8.55537223815918,-8.4063720703125,-8.733789443969727,-9.198665618896485,-9.455413818359375,-9.928126335144043,-8.37868595123291,-8.21178150177002,-7.286633014678955,-7.9723076820373539,-9.395216941833496,-10.057512283325196,-8.537424087524414,-8.373089790344239,-9.01918888092041,-9.279497146606446,-7.315380096435547,-8.81827163696289,-8.070136070251465,-9.363607406616211,-9.533827781677246,-9.651301383972168,-8.82895278930664,-10.00407600402832,-7.6265387535095219,-8.043085098266602,-8.908330917358399,-7.494882583618164,-9.8190336227417,-9.860861778259278,-7.8715901374816898,-9.275121688842774,-7.8771820068359379,-8.8506441116333,-9.932271003723145,-10.320903778076172,-7.954870223999023,-8.304251670837403,-8.004448890686036,-9.313501358032227,-8.836576461791993,-8.529845237731934,-8.650014877319336,-7.273578643798828,-7.91352653503418,-8.458477020263672,-9.852822303771973,-7.84113883972168,-7.815896511077881,-6.492016792297363,-8.399667739868164,-8.465977668762207,-7.67307710647583,-7.983148097991943,-8.666348457336426,-8.958239555358887,-9.876744270324707,-9.307632446289063,-9.133524894714356,-8.45215129852295,-8.219484329223633,-7.976783275604248,-7.6100640296936039,-8.089071273803711,-9.555788040161133,-9.42870044708252,-10.496074676513672,-9.122536659240723,-8.651070594787598,-9.463004112243653,-10.058232307434082,-7.515512943267822,-8.016898155212403,-8.773513793945313,-8.361669540405274,-8.972200393676758,-8.525144577026368,-8.715246200561524,-8.535449028015137,-9.274770736694336,-10.01677417755127,-8.864349365234375,-8.456899642944336,-8.359378814697266,-8.711137771606446,-9.129347801208496,-8.096288681030274,-9.582047462463379,-10.588932991027832,-8.437049865722657,-9.228459358215332,-8.677644729614258,-8.758179664611817,-8.280179023742676,-9.65571117401123,-9.637001991271973,-9.074501037597657,-7.645536422729492,-8.259129524230957,-9.744503021240235,-8.420821189880371,-7.455937385559082,-9.933467864990235,-8.13620662689209,-8.893918991088868,-8.944052696228028,-8.732281684875489,-7.771620273590088,-7.824863433837891,-7.641406536102295,-7.589441299438477,-9.218140602111817,-8.429783821105957,-9.353804588317871,-9.054235458374024,-7.1684160232543949,-7.927992343902588,-8.766022682189942,-10.235381126403809,-7.817459583282471,-9.130663871765137,-8.2205171585083,-8.810873985290528,-9.444565773010254,-7.191967964172363,-8.268160820007325,-8.352920532226563,-8.02786922454834,-8.188047409057618,-9.254044532775879,-9.377277374267579,-7.205121994018555,-8.319035530090332,-8.484122276306153,-7.376968860626221,-7.881497383117676,-8.824252128601075,-8.099344253540039,-8.29561710357666,-9.417231559753418,-8.632600784301758,-8.787582397460938,-9.192749977111817,-9.588271141052246,-7.286740303039551,-6.895094871520996,-8.7804594039917,-7.478607177734375,-5.6279497146606449,-8.027275085449219,-0.1827792525291443,-8.562187194824219,-9.818037033081055,-7.836833477020264,-7.4506516456604,-9.170208930969239,-7.995070934295654,-6.712682247161865,-10.308162689208985,-7.3041157722473148,-7.997755527496338,-10.713659286499024,-8.650197982788086,-7.506234169006348,-9.015399932861329,-6.33617639541626,-6.116878032684326,-8.732612609863282,-7.7101287841796879,-5.991957664489746,-7.1478776931762699,-8.100042343139649,-9.868282318115235,-8.908637046813965,-5.276466369628906,-7.661701679229736,-7.371844291687012,-8.475285530090332,-7.316593647003174,-8.604913711547852,-4.976078033447266,-8.200366973876954,-7.153687000274658,-9.416041374206543,-7.367927074432373,-8.274507522583008,-8.512211799621582,-8.550812721252442,-6.906627655029297,-8.088692665100098,-9.062426567077637,-9.633321762084961,-8.275428771972657,-8.463516235351563,-6.621133804321289,-8.243722915649414,-8.022624015808106,-9.467613220214844,-9.59752368927002,-7.863732814788818,-6.061985015869141,-10.13268756866455,-7.824404716491699,-9.472977638244629,-9.145427703857422,-8.17121410369873,-8.125000953674317,-6.456335067749023,-7.615895748138428,-8.018172264099121,-7.479091167449951,-8.348501205444336,-7.588209629058838,-6.842414855957031,-10.481023788452149,-8.517634391784668,-9.221015930175782,-7.599720478057861,-8.16164493560791,-8.30084228515625,-9.963109016418457,-8.455245971679688,-6.3404388427734379,-7.6088433265686039,-8.511222839355469,-8.381906509399414,-8.754559516906739,-6.56024694442749,-10.269058227539063,-8.474319458007813,-8.23377513885498,-9.855307579040528,-7.357721328735352,-9.987500190734864,-8.605226516723633,-8.240922927856446,-8.585794448852539,-7.328599452972412,-7.6507463455200199,-9.69438362121582,-7.622752666473389,-9.288421630859375,-8.705646514892579,-8.685807228088379,-8.329353332519532,-7.8490753173828129,-8.372584342956543,-8.244566917419434,-8.410722732543946,-8.448775291442871,-9.777734756469727,-8.349660873413086,-7.844031810760498,-8.859283447265625,-7.9352922439575199,-7.847411155700684,-7.802346229553223,-8.65895938873291,-9.374526977539063,-7.948211669921875,-8.179423332214356,-9.672690391540528,-7.257652759552002,-8.708975791931153,-7.1151628494262699,-7.6472392082214359,-9.221171379089356,-10.674219131469727,-9.105156898498536,-8.1119384765625,-9.005809783935547,-9.999205589294434,-8.596149444580079,-8.321427345275879,-8.943280220031739,-8.975384712219239,-7.331057071685791,-8.071120262145996,-7.594508647918701,-9.647175788879395,-8.186283111572266,-7.767363548278809,-8.28501033782959,-8.47657299041748,-8.960761070251465,-9.053744316101075,-9.081404685974121,-6.934016704559326,-8.127242088317871,-7.952278137207031,-7.617833614349365,-8.170638084411621,-9.9650239944458,-6.856619834899902,-7.826749801635742,-8.255069732666016,-7.614771366119385,-9.36358642578125,-7.913949012756348,-7.6905670166015629,-7.989699840545654,-8.540634155273438,-7.573084354400635,-8.354558944702149,-8.695597648620606,-7.408979415893555,-9.044882774353028,-9.583096504211426,-7.085698127746582,-10.017666816711426,-8.281930923461914,-9.566415786743164,-8.649502754211426,-7.159957408905029,-7.830246925354004,-7.6463446617126469,-9.405418395996094,-9.295842170715332,-7.080282211303711,-8.01290512084961,-9.736963272094727,-8.641214370727539,-8.7338285446167,-9.487918853759766,-8.655257225036621,-6.7100653648376469,-7.420934677124023,-7.475009918212891,-8.26758098602295,-7.299367904663086,-6.936602592468262,-7.985812664031982,-9.4707670211792,-7.7644500732421879,-7.208009719848633,-8.87653923034668,-8.265522956848145,-8.698124885559082,-8.7399320602417,-8.891509056091309,-8.295476913452149,-9.674510955810547,-9.726977348327637,-9.69355583190918,-8.35032844543457,-8.296552658081055,-9.122748374938965,-7.2113776206970219,-7.532825946807861,-8.756407737731934,-7.856354713439941,-9.512091636657715,-9.288850784301758,-8.401531219482422,-9.435513496398926,-8.466741561889649,-8.145720481872559,-7.352133274078369,-9.170242309570313,-8.748367309570313,-7.374337673187256,-7.678038597106934,-8.251935958862305,-9.503247261047364,-7.808696269989014,-8.191056251525879,-8.57729721069336,-8.886438369750977,-9.230087280273438,-8.375852584838868,-7.8935699462890629,-9.62393569946289,-7.552404880523682,-8.346968650817871,-7.866092205047607,-8.037781715393067,-9.106668472290039,-9.101691246032715,-7.183304786682129,-7.95862340927124,-7.44758415222168,-9.485581398010254,-9.028115272521973,-7.653951168060303,-7.8685479164123539,-8.748086929321289,-8.130522727966309,-7.746591567993164,-9.642704010009766,-8.490686416625977,-8.264833450317383,-8.513493537902832,-8.756121635437012,-7.827470302581787,-8.725188255310059,-7.821386814117432,-8.60841178894043,-9.25306224822998,-7.613364219665527,-8.779121398925782,-8.916486740112305,-7.624820232391357,-7.905405044555664,-8.22821044921875,-8.304961204528809,-8.806924819946289,-8.968025207519532,-8.545465469360352,-8.769149780273438,-7.827813148498535,-9.335577011108399,-9.0404052734375,-7.025151252746582,-8.444730758666993,-9.05944538116455,-9.245322227478028,-9.513747215270996,-7.880252838134766,-7.698043346405029,-9.252205848693848,-9.498248100280762,-8.07408332824707,-9.040997505187989,-6.555974960327148,-9.49704647064209,-8.276754379272461,-9.05591106414795,-9.063352584838868,-8.720232009887696,-9.276083946228028,-7.761988639831543,-9.761690139770508,-9.727076530456543,-8.678897857666016,-8.786680221557618,-7.370638370513916,-9.75042724609375,-10.44640827178955,-8.117631912231446,-8.461339950561524,-9.515816688537598,-8.11078929901123,-8.846755981445313,-10.150238990783692,-9.797196388244629,-8.270468711853028,-9.9575777053833,-8.792900085449219,-8.274971008300782,-7.641607284545898,-7.866678237915039,-8.673943519592286,-9.007305145263672,-9.737689018249512,-8.34678840637207,-7.288934230804443,-8.864300727844239,-9.410614013671875,-8.063506126403809,-8.13770580291748,-8.237431526184082,-8.559062957763672,-8.28994369506836,-7.104422569274902,-8.435264587402344,-9.06047534942627,-8.994245529174805,-8.067987442016602,-9.268182754516602,-7.824597358703613,-9.348973274230957,-7.526993751525879,-7.93997049331665,-9.433558464050293,-9.630221366882325,-9.29296588897705,-8.976516723632813,-7.698324203491211,-8.50663948059082,-7.718516826629639,-9.616701126098633,-8.697395324707032,-9.605352401733399,-7.826744079589844,-8.768302917480469,-9.486743927001954,-8.610982894897461,-8.4596529006958,-9.122381210327149,-8.433808326721192,-8.775643348693848,-8.695795059204102,-8.504770278930664,-7.811922073364258,-8.147836685180664,-7.99232292175293,-8.174278259277344,-8.364006042480469,-9.280977249145508,-8.817108154296875,-9.801783561706543,-10.701882362365723,-8.223782539367676,-8.743539810180664,-9.22921085357666,-8.596471786499024,-8.097253799438477,-7.824563503265381,-9.2523832321167,-7.720817565917969,-8.149874687194825,-9.266402244567871,-9.506486892700196,-9.425901412963868,-9.612504959106446,-8.297465324401856,-8.914555549621582,-8.7304105758667,-8.911956787109375,-8.487946510314942,-8.182056427001954,-8.873044967651368,-9.31166934967041,-7.276333332061768,-8.646483421325684,-9.710195541381836,-8.747703552246094,-7.910189151763916,-8.828825950622559,-7.00372314453125,-8.719965934753418,-7.948925018310547,-8.348982810974121,-9.083264350891114,-8.389018058776856,-9.083048820495606,-8.911373138427735,-9.942212104797364,-9.382861137390137,-9.585960388183594,-9.659523010253907,-10.248823165893555,-7.13798713684082,-9.736516952514649,-7.693464756011963,-8.89854621887207,-7.842403411865234,-9.398151397705079,-8.687912940979004,-8.187365531921387,-7.267305850982666,-9.815497398376465,-7.6144490242004398,-7.8560638427734379,-7.077814102172852,-7.390497207641602,-9.02326774597168,-9.006731033325196,-7.619027137756348,-7.145047187805176,-9.566322326660157,-8.384072303771973,-10.307718276977539,-6.705920219421387,-8.579777717590332,-8.5684175491333,-9.391437530517579,-8.608824729919434,-8.766919136047364,-7.618049144744873,-8.480232238769532,-9.642922401428223,-7.815927982330322,-7.903166770935059,-8.646659851074219,-9.32933235168457,-7.427002906799316,-8.128235816955567,-7.105454921722412,-8.6705961227417,-9.477468490600586,-8.631455421447754,-7.565573692321777,-8.698307037353516,-9.180952072143555,-9.141175270080567,-7.669717788696289,-8.863870620727539,-8.354979515075684,-6.640519142150879,-9.80811882019043,-8.265432357788086,-9.498872756958008,-9.010859489440918,-9.666037559509278,-9.461725234985352,-8.566886901855469,-9.841033935546875,-8.483419418334961,-8.859480857849121,-10.141369819641114,-7.898127555847168,-8.894549369812012,-8.62725830078125,-7.745686054229736,-7.606723785400391,-7.248610496520996,-7.743893623352051,-8.843681335449219,-9.045307159423829,-7.587223052978516,-8.129460334777832,-7.188573837280273,-8.235553741455079,-10.156410217285157,-7.59328031539917,-9.045272827148438,-9.094132423400879,-8.646998405456543,-8.015331268310547,-9.23941707611084,-9.571991920471192,-8.801337242126465,-8.269742965698243,-8.30970287322998,-10.15990161895752,-8.787823677062989,-7.391751766204834,-8.151290893554688,-9.829815864562989,-9.331650733947754,-9.999692916870118,-8.436885833740235,-7.889931678771973,-8.754162788391114,-10.212509155273438,-8.556504249572754,-7.5989789962768559,-9.433393478393555,-8.556878089904786,-7.19310998916626,-9.041203498840332,-9.43752670288086,-8.326339721679688,-8.26235580444336,-9.120878219604493,-7.19990873336792,-8.943168640136719,-9.921358108520508,-8.551481246948243,-7.562816143035889,-7.230820178985596,-4.90385103225708,-8.413567543029786,-6.466854095458984,-0.19755849242210389,-6.886242389678955,-8.218789100646973,-8.128560066223145,-9.091814041137696,-9.668554306030274,-7.250030994415283,-5.657279014587402,-6.697530746459961,-6.947826385498047,-9.080256462097168,-8.901337623596192,-7.848858833312988,-8.354854583740235,-6.94677209854126,-7.678334712982178,-9.035326957702637,-9.219008445739746,-8.288874626159668,-6.383204460144043,-7.89149284362793,-7.236107349395752,-5.837640762329102,-6.400252342224121,-6.319089412689209,-6.105160713195801,-8.421201705932618,-4.413397789001465,-6.627385139465332,-8.768186569213868,-7.601905345916748,-8.294129371643067,-8.949079513549805,-7.002213478088379,-8.59846019744873,-9.722214698791504,-7.513425827026367,-8.791560173034668,-7.997425079345703,-9.172904968261719,-7.9975786209106449,-9.437734603881836,-8.434844970703125,-7.116384983062744,-7.685107707977295,-7.9145073890686039,-7.651059627532959,-8.312411308288575,-6.896214008331299,-7.844663619995117,-8.438928604125977,-8.112154960632325,-8.278076171875,-9.013983726501465,-8.262298583984375,-9.150766372680664,-10.514483451843262,-9.323188781738282,-7.220789909362793,-7.495354175567627,-7.044747352600098,-8.846518516540528,-7.692063331604004,-7.565522193908691,-9.06508731842041,-8.777270317077637,-6.664500713348389,-7.017738342285156,-7.5212721824646,-8.632345199584961,-6.708678722381592,-8.455416679382325,-8.464303970336914,-10.22390079498291,-7.497493267059326,-7.376646995544434,-8.813075065612793,-8.709898948669434,-7.890314102172852,-8.461395263671875,-6.124231815338135,-8.806962966918946,-8.616104125976563,-8.942164421081543,-9.299226760864258,-8.290411949157715,-9.263734817504883,-9.023488998413086,-7.647352695465088,-9.10526180267334,-8.499080657958985,-8.138143539428711,-8.009842872619629,-8.304944038391114,-9.170001983642579,-7.622052192687988,-7.11544132232666,-9.199073791503907,-8.19638442993164,-6.991471290588379,-9.225310325622559,-7.050104141235352,-9.509865760803223,-8.63826847076416,-9.371471405029297,-9.809932708740235,-7.136298656463623,-9.602038383483887,-9.73362922668457,-7.364390850067139,-8.003889083862305,-9.063108444213868,-9.734621047973633,-8.812631607055664,-9.229145050048829,-7.286546230316162,-8.044174194335938,-9.153812408447266,-7.664816379547119,-9.16790771484375,-8.722454071044922,-9.408166885375977,-9.065556526184082,-8.14332389831543,-8.85457992553711,-8.777737617492676,-8.248893737792969,-8.579679489135743,-7.716583251953125,-9.097098350524903,-7.622280597686768,-9.432150840759278,-8.367218971252442,-9.561527252197266,-9.001114845275879,-8.31420612335205,-7.737816333770752,-8.487855911254883,-7.312589645385742,-8.674590110778809,-10.451807022094727,-8.286385536193848,-8.534839630126954,-8.386272430419922,-8.450663566589356,-7.681168079376221,-8.599042892456055,-7.497989177703857,-10.025452613830567,-8.033018112182618,-8.893914222717286,-8.680936813354493,-8.353779792785645,-9.584431648254395,-8.954578399658204,-9.070712089538575,-8.67443561553955,-7.583963871002197,-7.38723087310791,-7.478359222412109,-10.226305961608887,-8.877645492553711,-10.518157005310059,-7.933990001678467,-8.390201568603516,-8.845038414001465,-8.662559509277344,-8.335043907165528,-8.065267562866211,-8.597817420959473,-9.635286331176758,-8.205669403076172,-6.415212154388428,-8.328603744506836,-6.998683452606201,-8.989794731140137,-8.329394340515137,-8.438055038452149,-9.02358341217041,-7.379099369049072,-7.496405124664307,-8.309103965759278,-6.951886177062988,-8.333279609680176,-7.50521183013916,-8.427419662475586,-9.283876419067383,-8.195508003234864,-8.375849723815918,-7.827099800109863,-9.82214069366455,-8.639754295349121,-9.266338348388672,-7.648451805114746,-6.603062629699707,-9.048545837402344,-10.734938621520996,-10.844679832458496,-9.053025245666504,-7.665311336517334,-8.644120216369629,-8.431251525878907,-8.419304847717286,-9.563305854797364,-9.978104591369629,-8.549590110778809,-7.626166820526123,-7.90788459777832,-8.285673141479493,-9.063199043273926,-8.353743553161621,-9.684967041015625,-8.79421329498291,-8.739083290100098,-9.925177574157715,-8.455293655395508,-7.91457986831665,-6.964214324951172,-9.92693042755127,-8.496562004089356,-10.601107597351075,-7.115574836730957,-8.963717460632325,-10.27580738067627,-6.968979835510254,-7.241308212280273,-8.661050796508789,-9.276376724243164,-8.701410293579102,-7.508828163146973,-8.370711326599121,-9.038941383361817,-7.854795455932617,-9.24337100982666,-8.074655532836914,-7.034371852874756,-9.450651168823243,-9.22667121887207,-8.104670524597168,-7.438747406005859,-8.854035377502442,-8.677753448486329,-9.228228569030762,-6.856229782104492,-7.714424133300781,-8.4077730178833,-7.075229167938232,-8.661093711853028,-9.35014820098877,-9.116454124450684,-7.28040885925293,-8.867072105407715,-8.458346366882325,-7.700758934020996,-8.724072456359864,-7.5395917892456059,-9.010038375854493,-8.923874855041504,-8.2891263961792,-9.336156845092774,-8.894306182861329,-8.228251457214356,-10.143409729003907,-8.705550193786621,-8.942859649658204,-7.415639400482178,-6.997692108154297,-9.124805450439454,-9.30982494354248,-8.868367195129395,-8.717794418334961,-9.081257820129395,-9.426939964294434,-9.032047271728516,-8.826353073120118,-8.756524085998536,-8.627091407775879,-9.254878997802735,-7.966134071350098,-9.317975997924805,-8.958813667297364,-7.496808052062988,-9.095852851867676,-6.681553363800049,-8.686624526977539,-9.33376693725586,-8.062874794006348,-9.237327575683594,-7.622351169586182,-7.595053672790527,-8.950648307800293,-8.267877578735352,-7.563277244567871,-9.918854713439942,-8.109973907470704,-8.547137260437012,-8.481980323791504,-7.250569820404053,-8.45769214630127,-12.099106788635254,-8.69875431060791,-9.810003280639649,-6.815584659576416,-7.9915642738342289,-10.1244478225708,-9.319927215576172,-8.30486011505127,-9.005217552185059,-8.869797706604004,-8.80589771270752,-8.856521606445313,-9.458368301391602,-7.5767364501953129,-9.127758026123047,-6.554880619049072,-8.538106918334961,-7.2811665534973148,-9.172492980957032,-6.743476867675781,-9.338353157043457,-8.283255577087403,-8.842456817626954,-8.811591148376465,-7.022639751434326,-9.297432899475098,-7.785886287689209,-8.71296501159668,-8.564386367797852,-9.111446380615235,-8.25763988494873,-8.538290977478028,-8.444707870483399,-9.683647155761719,-7.9791083335876469,-8.53862476348877,-10.044134140014649,-9.54544448852539,-9.769994735717774,-9.285846710205079,-6.810965538024902,-8.609289169311524,-9.517768859863282,-9.578317642211914,-7.425328254699707,-8.3727388381958,-7.912741184234619,-8.133291244506836,-7.295766353607178,-8.983551025390625,-8.824353218078614,-8.479166030883789,-8.547003746032715,-9.249066352844239,-8.083178520202637,-8.928229331970215,-8.571281433105469,-8.062028884887696,-8.54953384399414,-8.39938735961914,-8.73981761932373,-9.192469596862793,-9.445769309997559,-9.926482200622559,-8.377142906188965,-8.221810340881348,-7.281468391418457,-7.964444637298584,-9.386619567871094,-10.059893608093262,-8.537727355957032,-8.358724594116211,-9.009940147399903,-9.272521018981934,-7.3187665939331059,-8.819026947021485,-8.07053279876709,-9.359413146972657,-9.52966022491455,-9.639001846313477,-8.824163436889649,-9.997642517089844,-7.625145435333252,-8.051430702209473,-8.899482727050782,-7.497405052185059,-9.810660362243653,-9.861773490905762,-7.867494583129883,-9.276843070983887,-7.868108749389648,-8.852669715881348,-9.935648918151856,-10.324572563171387,-7.9432291984558109,-8.312910079956055,-8.007741928100586,-9.310416221618653,-8.835349082946778,-8.544395446777344,-8.640253067016602,-7.273839950561523,-7.911279678344727,-8.456636428833008,-9.838138580322266,-7.835452556610107,-7.808644771575928,-6.485317707061768,-8.395342826843262,-8.462646484375,-7.665412425994873,-7.976979732513428,-8.664170265197754,-8.953768730163575,-9.884969711303711,-9.299763679504395,-9.136399269104004,-8.460367202758789,-8.21696662902832,-7.981252193450928,-7.593307018280029,-8.090255737304688,-9.557318687438965,-9.418370246887207,-10.498393058776856,-9.127703666687012,-8.650961875915528,-9.48015022277832,-10.05317211151123,-7.511116981506348,-8.01148796081543,-8.783358573913575,-8.35969352722168,-8.97041130065918,-8.525811195373536,-8.699423789978028,-8.540729522705079,-9.28197956085205,-10.007043838500977,-8.860759735107422,-8.453633308410645,-8.357630729675293,-8.70321273803711,-9.118308067321778,-8.097952842712403,-9.581716537475586,-10.592362403869629,-8.439343452453614,-9.222604751586914,-8.691216468811036,-8.753961563110352,-8.272424697875977,-9.652754783630371,-9.634560585021973,-9.066740989685059,-7.639025688171387,-8.251264572143555,-9.749663352966309,-8.41891860961914,-7.451510906219482,-9.931849479675293,-8.141069412231446,-8.894566535949707,-8.935523986816407,-8.724363327026368,-7.766432762145996,-7.836260795593262,-7.628395080566406,-7.596114635467529,-9.218294143676758,-8.423669815063477,-9.345656394958496,-9.04177474975586,-7.169205665588379,-7.935028553009033,-8.766850471496582,-10.23098087310791,-7.816788196563721,-9.127923011779786,-8.209508895874024,-8.801831245422364,-9.453937530517579,-7.189762592315674,-8.27295970916748,-8.349990844726563,-8.029716491699219,-8.182486534118653,-9.265236854553223,-9.375314712524414,-7.2092108726501469,-8.316924095153809,-8.480116844177246,-7.3736042976379398,-7.876795291900635,-8.832297325134278,-8.100608825683594,-8.29790210723877,-9.420564651489258,-8.635016441345215,-8.782511711120606,-9.188220977783204,-6.935737609863281,-7.192629814147949,-7.898836135864258,-7.025033950805664,-6.212082862854004,-9.63252067565918,-8.126660346984864,-6.721765518188477,-6.807919502258301,-4.224359512329102,-5.103315353393555,-5.3188371658325199,-7.525357246398926,-5.791274070739746,-9.074090003967286,-9.097725868225098,-7.501420974731445,-3.377424955368042,-6.43314266204834,-6.557795524597168,-6.73439884185791,-5.088651657104492,-4.4233551025390629,-5.7916460037231449,-8.567172050476075,-8.424124717712403,-10.380594253540039,-5.498954772949219,-8.20783519744873,-5.055951118469238,-7.3267364501953129,-6.861702919006348,-4.445137977600098,-8.456513404846192,-5.276105880737305,-7.345858573913574,-6.9022369384765629,-6.621903419494629,-4.032569885253906,-4.4878621101379398,-0.9021494388580322,-8.744680404663086,-5.965634346008301,-7.397363662719727,-6.454972267150879,-8.297675132751465,-4.704618453979492,-6.259157180786133,-7.981646537780762,-6.135970115661621,-5.878787994384766,-6.163124084472656,-5.559037208557129,-7.938442230224609,-8.556537628173829,-7.479269027709961,-7.588963508605957,-7.16799259185791,-8.310553550720215,-7.923671722412109,-6.770779609680176,-6.692695617675781,-5.593198776245117,-5.904233932495117,-7.215412139892578,-6.739611625671387,-7.5749406814575199,-7.3635358810424809,-6.542855262756348,-7.249149322509766,-6.786809921264648,-6.200037002563477,-8.14491081237793,-5.5827531814575199,-6.20668888092041,-7.462986946105957,-6.923800468444824,-5.365544319152832,-6.313610076904297,-8.318928718566895,-6.190625190734863,-5.306403160095215,-5.540142059326172,-6.0058441162109379,-7.802058219909668,-8.907655715942383,-6.7338104248046879,-6.611827850341797,-6.398194313049316,-5.934043884277344,-5.790144920349121,-7.140111923217773,-7.232639312744141,-7.880359649658203,-5.539880752563477,-7.749065399169922,-6.362889289855957,-8.361645698547364,-6.7748308181762699,-6.932156562805176,-6.257837295532227,-9.44595718383789,-8.047043800354004,-6.884136199951172,-7.341357231140137,-8.258737564086914,-7.653093338012695,-8.177449226379395,-7.205544471740723,-9.383308410644532,-8.818047523498536,-5.773907661437988,-8.052714347839356,-7.669044494628906,-7.13240909576416,-5.097234725952148,-7.94113826751709,-7.143730163574219,-9.721403121948243,-6.315532684326172,-7.9177656173706059,-5.907867431640625,-6.912174224853516,-7.967364311218262,-7.065037727355957,-6.879395484924316,-7.237850189208984,-6.238534927368164,-8.794709205627442,-7.3663434982299809,-7.4016265869140629,-6.794894218444824,-8.190766334533692,-7.988618850708008,-8.986586570739746,-6.756125450134277,-7.122564315795898,-7.821512222290039,-7.595781326293945,-7.35577392578125,-7.094010353088379,-7.879228591918945,-6.589662551879883,-8.061626434326172,-9.024590492248536,-8.26040267944336,-7.166295051574707,-6.763772964477539,-7.415334701538086,-7.767267227172852,-6.754935264587402,-7.552946090698242,-8.71123218536377,-6.552288055419922,-5.589334487915039,-6.729763031005859,-6.548140525817871,-8.445876121520996,-6.110333442687988,-7.008875846862793,-7.073728561401367,-6.3565673828125,-6.6326446533203129,-8.156399726867676,-6.436248779296875,-7.1045427322387699,-5.47141170501709,-6.8885955810546879,-6.160140037536621,-7.587736129760742,-6.381589889526367,-6.014345169067383,-7.359291076660156,-6.522835731506348,-8.767271995544434,-7.748186111450195,-8.086160659790039,-6.736294746398926,-7.639178276062012,-6.80668830871582,-7.610918045043945,-7.13629150390625,-7.889495849609375,-7.372010231018066,-8.103792190551758,-8.940927505493164,-6.57600212097168,-6.802933692932129,-6.004326820373535,-7.3660125732421879,-6.902807235717773,-7.558091163635254,-7.557847023010254,-8.512327194213868,-5.805379867553711,-7.795196533203125,-7.524219512939453,-6.576841354370117,-7.538825035095215,-8.393778800964356,-8.549189567565918,-7.603532791137695,-7.563746452331543,-7.675780296325684,-6.706011772155762,-7.84781551361084,-6.040114402770996,-6.539849281311035,-8.433771133422852,-6.144733428955078,-7.972958564758301,-7.328409194946289,-7.656332015991211,-8.698836326599121,-7.380498886108398,-5.535591125488281,-8.055042266845704,-6.8451337814331059,-7.59480094909668,-8.477717399597168,-5.594216346740723,-7.100244522094727,-6.77603816986084,-5.536187171936035,-6.6365814208984379,-7.925848007202148,-7.227519989013672,-7.628767013549805,-7.143093109130859,-5.8961591720581059,-6.457789421081543,-8.3685884475708,-8.299227714538575,-7.035276412963867,-8.514689445495606,-6.659673690795898,-7.5654802322387699,-7.415949821472168,-8.10100269317627,-7.331194877624512,-6.793426513671875,-7.497903823852539,-8.1099214553833,-7.551772117614746,-8.441360473632813,-9.5140380859375,-7.706356048583984,-6.71754264831543,-6.762666702270508,-7.024350166320801,-8.083465576171875,-7.861347198486328,-6.809537887573242,-7.924489974975586,-5.274614334106445,-5.732282638549805,-7.791180610656738,-8.081442832946778,-7.792339324951172,-8.395400047302246,-7.622193336486816,-7.30717658996582,-6.270709037780762,-7.101502418518066,-7.651017189025879,-7.135329246520996,-8.623273849487305,-6.8713274002075199,-6.819591522216797,-7.891640663146973,-7.974206924438477,-7.321388244628906,-7.93557071685791,-8.152485847473145,-7.644411087036133,-7.865472793579102,-8.222724914550782,-6.990497589111328,-7.981541633605957,-8.60414981842041,-7.732107162475586,-7.291947364807129,-8.449362754821778,-7.05372428894043,-7.478240013122559,-8.009723663330079,-6.258159637451172,-6.406496047973633,-6.696035385131836,-6.957118034362793,-5.740778923034668,-9.029109954833985,-7.970108985900879,-6.6026105880737309,-7.466032981872559,-7.754627227783203,-7.201998710632324,-6.843039512634277,-7.2178754806518559,-8.084654808044434,-8.028531074523926,-7.513967514038086,-8.021514892578125,-8.051778793334961,-7.117524147033691,-7.48361873626709,-7.125397682189941,-7.313803672790527,-6.7605485916137699,-7.609760284423828,-7.440503120422363,-7.629010200500488,-8.097511291503907,-8.640791893005371,-8.167169570922852,-7.131814002990723,-7.3544111251831059,-7.898848533630371,-7.563366889953613,-7.353509902954102,-7.772756576538086,-8.940987586975098,-7.045805931091309,-8.615151405334473,-6.905492782592773,-7.120851516723633,-5.806094169616699,-8.526873588562012,-7.312349319458008,-7.923562049865723,-7.310375213623047,-7.879209518432617,-6.7531538009643559,-6.343445777893066,-6.943159103393555,-7.392327308654785,-7.197400093078613,-7.610133171081543,-7.061594009399414,-7.321084976196289,-6.695680618286133,-7.444014549255371,-7.8246612548828129,-7.226118087768555,-6.686729431152344,-8.084372520446778,-8.120453834533692,-7.959597587585449,-7.462579727172852,-7.599088668823242,-9.284403800964356,-6.626422882080078,-7.287570953369141,-6.130078315734863,-5.046416282653809,-7.604118347167969,-7.0823869705200199,-7.404860496520996,-7.846157073974609,-8.174028396606446,-6.806491851806641,-7.410655975341797,-6.625338554382324,-8.225089073181153,-7.723402976989746,-6.9233856201171879,-6.987671852111816,-7.004848480224609,-7.509645462036133,-7.099692344665527,-7.77667236328125,-7.447265625,-7.049222946166992,-7.493766784667969,-7.777560234069824,-8.48362922668457,-8.528084754943848,-8.419612884521485,-7.711889266967773,-7.727826118469238,-7.489561080932617,-6.966094970703125,-8.02454662322998,-5.638442039489746,-7.107298851013184,-8.033032417297364,-8.917730331420899,-8.038604736328125,-7.709589004516602,-5.981139183044434,-8.560308456420899,-8.054258346557618,-6.46690559387207,-7.517813682556152,-6.680453300476074,-8.809503555297852,-7.189814567565918,-7.823770523071289,-8.112820625305176,-6.55312442779541,-7.840907096862793,-8.024429321289063,-7.650561332702637,-7.28502082824707,-7.710034370422363,-8.220881462097168,-6.6917619705200199,-7.653095245361328,-7.927427291870117,-7.462100028991699,-7.816827774047852,-7.998439788818359,-7.416904449462891,-7.615154266357422,-7.04746150970459,-7.540210723876953,-7.845480918884277,-8.888410568237305,-6.29149055480957,-8.879731178283692,-8.214126586914063,-5.944300651550293,-8.741904258728028,-6.738184928894043,-6.736309051513672,-7.873663902282715,-7.548731803894043,-6.333705902099609,-7.595249176025391,-6.275371551513672,-6.843902587890625,-7.695756912231445,-7.4725446701049809,-6.766013145446777,-6.996804237365723,-7.6498517990112309,-8.492626190185547,-7.875328063964844,-7.57432746887207,-8.978967666625977,-6.9492387771606449,-8.759377479553223,-7.451123237609863,-7.469376564025879,-7.874762535095215,-8.587489128112793,-7.501276969909668,-5.654294967651367,-7.550681114196777,-9.235847473144532,-9.461983680725098,-6.449984550476074,-9.23337459564209,-7.506516456604004,-8.336996078491211,-7.116241455078125,-6.347334861755371,-6.0939435958862309,-7.601313591003418,-7.507755279541016,-7.659266471862793,-8.814719200134278,-7.622328758239746,-7.80912971496582,-8.622625350952149,-7.302858352661133,-7.2430830001831059,-7.823442459106445,-7.461172103881836,-6.4558820724487309,-6.169009208679199,-9.354413032531739,-7.0824432373046879,-7.360588073730469,-7.624778747558594,-8.114994049072266,-7.121992111206055,-6.80972957611084,-7.871433258056641,-8.156639099121094,-6.768061637878418,-6.737868309020996,-7.262362480163574,-6.949040412902832,-7.035378456115723,-8.014349937438965,-9.66529655456543,-7.185127258300781,-7.627577781677246,-5.376568794250488,-7.365633010864258,-8.573769569396973,-7.348979949951172,-7.460526466369629,-8.193302154541016,-8.008462905883789,-6.397713661193848,-7.251713752746582,-8.943986892700196,-7.348667144775391,-7.6658735275268559,-5.460248947143555,-8.499443054199219,-8.029960632324219,-6.954063415527344,-8.532130241394043,-8.458239555358887,-7.591318607330322,-7.672422409057617,-5.279886722564697,-8.628215789794922,-6.41623592376709,-0.1921953707933426,-6.9586687088012699,-7.722048282623291,-8.155335426330567,-9.493321418762207,-9.78972339630127,-7.267931938171387,-5.837915897369385,-6.598850727081299,-7.0365471839904789,-8.693791389465332,-8.847559928894043,-7.903265953063965,-8.638654708862305,-6.549911975860596,-7.598767280578613,-9.298465728759766,-9.441622734069825,-8.512198448181153,-6.423621654510498,-7.772231578826904,-7.047889709472656,-5.65268087387085,-6.622419357299805,-6.679579734802246,-6.140537738800049,-8.616929054260254,-4.527517318725586,-6.54694128036499,-8.457188606262207,-7.759415626525879,-8.571612358093262,-8.829947471618653,-7.539523124694824,-8.734135627746582,-9.985690116882325,-7.942011833190918,-8.772927284240723,-8.137020111083985,-8.8898344039917,-7.952042102813721,-9.52013111114502,-8.215523719787598,-7.152439594268799,-7.804410457611084,-7.671578407287598,-7.59462833404541,-7.990515232086182,-6.934549331665039,-8.145037651062012,-8.608345985412598,-8.13583755493164,-8.168570518493653,-8.892228126525879,-8.23099136352539,-9.14523696899414,-10.487677574157715,-9.565579414367676,-7.266164302825928,-7.772611618041992,-7.19835901260376,-8.74103832244873,-7.631466865539551,-7.652193069458008,-9.033590316772461,-8.6702241897583,-6.724494457244873,-6.888537406921387,-7.614015579223633,-8.764484405517579,-7.006086826324463,-8.531771659851075,-8.294478416442871,-10.321407318115235,-7.472787857055664,-7.236641883850098,-8.774530410766602,-8.832298278808594,-8.08135986328125,-8.356480598449707,-6.05302095413208,-8.854571342468262,-8.8875150680542,-9.235821723937989,-9.124985694885254,-8.210234642028809,-9.480966567993164,-8.965617179870606,-7.972836971282959,-9.028071403503418,-8.352036476135254,-7.962615013122559,-7.864377498626709,-8.426519393920899,-9.391368865966797,-7.647122859954834,-7.220763683319092,-9.066384315490723,-8.109950065612793,-6.764091968536377,-8.9870023727417,-6.894558429718018,-9.61192512512207,-8.533119201660157,-8.923543930053711,-9.781716346740723,-7.120126724243164,-9.820003509521485,-9.81594467163086,-7.690974712371826,-7.88370943069458,-9.304242134094239,-9.236605644226075,-8.907227516174317,-8.930771827697754,-7.507927417755127,-8.315275192260743,-9.151556015014649,-7.878536701202393,-9.422112464904786,-8.7240571975708,-9.525359153747559,-8.986726760864258,-8.332158088684082,-8.825780868530274,-8.728065490722657,-8.108207702636719,-8.541149139404297,-7.989563941955566,-9.144126892089844,-7.462065696716309,-9.377742767333985,-8.334537506103516,-9.29802131652832,-8.692985534667969,-8.640656471252442,-7.572448253631592,-8.564119338989258,-7.344882011413574,-8.614364624023438,-10.34447956085205,-8.28876781463623,-8.404601097106934,-8.292278289794922,-8.422444343566895,-8.113155364990235,-8.790021896362305,-7.8525800704956059,-9.842474937438965,-7.918199062347412,-8.800549507141114,-9.127263069152832,-8.483711242675782,-9.57579231262207,-8.797412872314454,-9.458244323730469,-8.914021492004395,-7.7173380851745609,-7.322455406188965,-7.585013389587402,-10.210719108581543,-8.747354507446289,-10.399332046508789,-8.161707878112793,-8.25794506072998,-8.755834579467774,-8.565008163452149,-8.627786636352539,-7.953197002410889,-8.71253490447998,-9.736933708190918,-8.266656875610352,-6.3831000328063969,-8.37732982635498,-6.754673004150391,-8.839570045471192,-8.118366241455079,-8.43710708618164,-8.972561836242676,-7.315286636352539,-7.600332260131836,-8.220356941223145,-6.695586204528809,-8.267208099365235,-7.625584602355957,-8.273198127746582,-9.246644020080567,-8.140426635742188,-8.462178230285645,-7.911903381347656,-9.8095121383667,-8.562933921813965,-9.354710578918457,-7.417184352874756,-6.586972713470459,-9.040498733520508,-10.521224021911621,-10.772295951843262,-8.97776985168457,-7.668417930603027,-8.474055290222168,-8.509369850158692,-8.357905387878418,-9.590353012084961,-10.15544605255127,-8.432839393615723,-7.56691312789917,-7.809610366821289,-8.434839248657227,-9.376778602600098,-8.09238052368164,-9.664063453674317,-8.79312515258789,-8.600008964538575,-10.079252243041993,-8.496354103088379,-7.820509433746338,-6.7945427894592289,-10.065216064453125,-8.425443649291993,-10.401734352111817,-7.462944984436035,-8.790406227111817,-10.328646659851075,-6.994094371795654,-7.311612129211426,-8.610377311706543,-9.184765815734864,-8.404073715209961,-7.537289619445801,-8.305480003356934,-9.206430435180664,-7.843079566955566,-9.092174530029297,-8.383549690246582,-7.016122341156006,-9.14026927947998,-9.325119972229004,-8.137495994567871,-7.226490497589111,-8.594393730163575,-8.57504653930664,-9.366371154785157,-6.71851110458374,-7.788334369659424,-8.47469425201416,-6.978518962860107,-8.697587966918946,-9.346272468566895,-8.991741180419922,-7.171977519989014,-8.929445266723633,-8.280327796936036,-7.777579307556152,-8.719993591308594,-7.626834392547607,-8.765558242797852,-8.906864166259766,-8.292022705078125,-9.381237983703614,-8.616006851196289,-8.132460594177246,-9.971019744873047,-8.780696868896485,-8.94798469543457,-7.192245960235596,-7.299415111541748,-9.18673324584961,-9.147473335266114,-8.820340156555176,-8.491683006286621,-9.011015892028809,-9.339605331420899,-9.080278396606446,-8.701677322387696,-8.80093765258789,-8.54825210571289,-9.131853103637696,-7.757102012634277,-9.455842971801758,-8.936984062194825,-7.53853178024292,-9.382084846496582,-6.569070816040039,-8.628902435302735,-9.428601264953614,-7.8676838874816898,-9.023249626159668,-7.803718566894531,-7.583114147186279,-9.086352348327637,-8.125176429748536,-7.700922012329102,-9.86299991607666,-8.017911911010743,-8.549212455749512,-8.440130233764649,-7.266573905944824,-8.514494895935059,-12.288716316223145,-9.020482063293457,-9.759369850158692,-6.924900054931641,-8.179779052734375,-10.438547134399414,-9.394001007080079,-8.227832794189454,-8.802083015441895,-8.416102409362793,-8.649151802062989,-8.679189682006836,-9.354985237121582,-7.412790775299072,-9.40634536743164,-6.432319641113281,-8.640849113464356,-7.597573280334473,-9.25279426574707,-6.892823696136475,-9.252381324768067,-8.251322746276856,-8.807402610778809,-8.88135051727295,-7.040753364562988,-9.275069236755371,-7.882004261016846,-8.84501838684082,-8.591504096984864,-8.885754585266114,-8.20772647857666,-8.413765907287598,-8.402942657470704,-9.828361511230469,-7.802669525146484,-8.373689651489258,-10.144084930419922,-9.204839706420899,-9.837356567382813,-9.60289192199707,-6.742817401885986,-8.743634223937989,-9.047135353088379,-9.6041898727417,-7.570257663726807,-8.28336238861084,-7.946185111999512,-8.070314407348633,-7.269888401031494,-9.243330955505371,-8.809769630432129,-8.608144760131836,-8.727655410766602,-9.489296913146973,-8.347661972045899,-8.80746841430664,-8.582954406738282,-8.132328033447266,-8.585199356079102,-8.275174140930176,-8.590453147888184,-8.998675346374512,-9.671356201171875,-9.89955997467041,-8.471388816833496,-8.163056373596192,-7.2957539558410648,-7.8880181312561039,-9.526861190795899,-10.012948989868164,-8.466089248657227,-8.516983985900879,-8.979012489318848,-9.576022148132325,-7.334091663360596,-8.533855438232422,-7.91698694229126,-9.468567848205567,-9.643484115600586,-10.023563385009766,-8.909103393554688,-9.846531867980957,-7.599944114685059,-7.773637294769287,-8.957536697387696,-7.45997953414917,-9.929716110229493,-9.781927108764649,-7.902829647064209,-9.303752899169922,-8.063608169555664,-8.923604965209961,-9.931164741516114,-10.183177947998047,-7.928525447845459,-8.085674285888672,-8.01995849609375,-9.32014274597168,-8.90338134765625,-8.243961334228516,-8.7615327835083,-7.411229610443115,-7.860995292663574,-8.459497451782227,-9.80321979522705,-7.7563652992248539,-7.736172676086426,-6.589169979095459,-8.525105476379395,-8.625321388244629,-7.980658531188965,-7.893365383148193,-8.673486709594727,-8.960545539855957,-9.81700611114502,-9.361896514892579,-9.208012580871582,-8.313741683959961,-8.484221458435059,-7.951956272125244,-7.87983512878418,-8.068158149719239,-9.342315673828125,-9.586730003356934,-10.224170684814454,-8.798056602478028,-8.359477996826172,-9.069779396057129,-9.860922813415528,-7.650874614715576,-8.15398120880127,-8.49011516571045,-8.355015754699707,-8.963265419006348,-8.50747299194336,-8.899526596069336,-8.47718620300293,-9.070448875427246,-10.184486389160157,-8.907346725463868,-8.532160758972168,-8.408296585083008,-8.8270902633667,-9.399150848388672,-8.068560600280762,-9.4390869140625,-10.548584938049317,-8.473956108093262,-9.367364883422852,-8.469738006591797,-8.880814552307129,-8.577775955200196,-9.905915260314942,-9.534570693969727,-8.96255874633789,-7.575753688812256,-8.107646942138672,-9.4927978515625,-8.304092407226563,-7.555304527282715,-10.181619644165039,-8.140631675720215,-8.866848945617676,-9.109742164611817,-8.782228469848633,-7.830226898193359,-7.510563373565674,-7.936872482299805,-7.490532875061035,-9.146824836730957,-8.425983428955079,-9.445440292358399,-9.356067657470704,-7.211034297943115,-7.70305871963501,-8.839940071105957,-10.290608406066895,-7.654242038726807,-9.152867317199707,-8.364298820495606,-9.005727767944336,-9.147551536560059,-7.20796537399292,-8.294451713562012,-8.380885124206543,-7.984317779541016,-8.358208656311036,-9.302647590637207,-9.399059295654297,-7.105968475341797,-8.518190383911133,-8.470335006713868,-7.408644199371338,-8.015664100646973,-8.699070930480957,-7.918643474578857,-8.330984115600586,-9.509689331054688,-8.509450912475586,-8.716337203979493,-9.153687477111817,-7.4180006980896,-8.073152542114258,-8.186111450195313,-6.170614719390869,-4.46065616607666,-7.805558204650879,-5.546769142150879,-8.420985221862793,-7.918219566345215,-6.842300891876221,-5.2111921310424809,-6.941666126251221,-6.510007381439209,-4.054635524749756,-7.97668981552124,-6.212881565093994,-7.085188865661621,-6.695319652557373,-5.618957996368408,-8.786328315734864,-6.812364101409912,-6.713632106781006,-7.920515537261963,-8.0926513671875,-6.740172863006592,-6.310003280639648,-9.540225982666016,-7.31509256362915,-8.569682121276856,-0.3635160028934479,-7.707864284515381,-6.4425368309021,-9.02503490447998,-8.086504936218262,-7.229022979736328,-7.8430304527282719,-7.266047477722168,-9.121659278869629,-6.623813152313232,-5.6163554191589359,-5.621762752532959,-9.676569938659668,-8.206049919128418,-8.017261505126954,-7.109903335571289,-7.832816123962402,-6.0947465896606449,-7.070658206939697,-9.821233749389649,-5.222724914550781,-6.690403461456299,-6.887238502502441,-6.943879127502441,-7.488755226135254,-7.200081825256348,-6.906431674957275,-7.953410625457764,-8.998918533325196,-5.984017848968506,-7.989663124084473,-7.662595272064209,-8.482451438903809,-7.130152702331543,-9.989862442016602,-9.06399917602539,-7.453166484832764,-7.113163471221924,-7.021341323852539,-8.02730655670166,-7.49730110168457,-8.954874992370606,-5.974755764007568,-7.821547508239746,-7.930316925048828,-7.404289722442627,-8.546603202819825,-8.548965454101563,-6.518150806427002,-5.500974178314209,-8.821977615356446,-6.071986198425293,-7.446946620941162,-6.128714084625244,-5.845620155334473,-7.837689399719238,-10.177526473999024,-7.145090103149414,-8.762234687805176,-8.360836029052735,-7.109930038452148,-6.5927276611328129,-6.703261852264404,-8.224404335021973,-7.70577335357666,-7.743832111358643,-6.503488540649414,-6.906482219696045,-7.371896743774414,-7.469083786010742,-8.516374588012696,-8.149251937866211,-8.497883796691895,-8.718603134155274,-7.6536149978637699,-8.01464557647705,-6.895841121673584,-7.507701873779297,-9.0894775390625,-7.708407402038574,-8.010286331176758,-7.444983959197998,-7.241678714752197,-9.26990032196045,-7.787362575531006,-9.082670211791993,-7.4817657470703129,-8.485865592956543,-8.237347602844239,-9.115676879882813,-8.97404956817627,-8.784719467163086,-8.066492080688477,-8.284968376159668,-7.629507541656494,-8.473787307739258,-9.115551948547364,-8.834421157836914,-7.014664173126221,-7.071558952331543,-7.406469821929932,-7.588634014129639,-7.861710548400879,-9.703792572021485,-9.447610855102539,-8.944174766540528,-8.103818893432618,-7.816275119781494,-9.163586616516114,-8.409181594848633,-7.781723976135254,-6.210545539855957,-8.125391960144043,-6.74965763092041,-8.341833114624024,-8.30134391784668,-8.97132682800293,-8.682587623596192,-8.776079177856446,-7.422487735748291,-6.897661209106445,-7.615553855895996,-8.810701370239258,-9.403373718261719,-8.014388084411621,-8.71274471282959,-8.060132026672364,-9.04448127746582,-8.41716480255127,-7.691559791564941,-6.264354705810547,-7.836452484130859,-7.671963214874268,-9.016985893249512,-7.6596360206604,-7.975936412811279,-6.610398769378662,-7.785388469696045,-7.22149658203125,-9.133735656738282,-8.339397430419922,-7.954617023468018,-8.484619140625,-9.102381706237793,-7.431273460388184,-7.891951084136963,-7.425229549407959,-9.81690788269043,-6.799483299255371,-6.588187217712402,-7.536548137664795,-7.100292205810547,-8.782047271728516,-7.95985746383667,-8.432732582092286,-9.143802642822266,-8.904881477355957,-8.366582870483399,-8.270648956298829,-5.621077060699463,-7.9727020263671879,-8.326273918151856,-7.255046844482422,-8.112958908081055,-7.998626708984375,-6.70137882232666,-8.674057960510254,-8.36913013458252,-7.499783992767334,-7.532197952270508,-6.1513590812683109,-7.945296764373779,-8.839630126953125,-8.897979736328125,-8.494308471679688,-9.583045959472657,-8.245340347290039,-6.354559898376465,-6.86533260345459,-8.357522964477539,-7.207448482513428,-8.91454792022705,-7.2402119636535648,-6.388858795166016,-8.241412162780762,-8.449352264404297,-7.1204423904418949,-7.869159698486328,-8.413031578063965,-9.161408424377442,-9.762542724609375,-6.793597221374512,-8.461621284484864,-7.2194952964782719,-7.2429728507995609,-7.910582542419434,-7.235324859619141,-8.044925689697266,-8.057646751403809,-7.507867813110352,-7.787952899932861,-6.477725982666016,-7.616013050079346,-7.389565467834473,-6.956992149353027,-7.765557289123535,-7.075124740600586,-7.536843299865723,-8.24510383605957,-8.139749526977539,-8.054769515991211,-6.67478609085083,-6.659541130065918,-8.393342971801758,-9.040191650390625,-7.888705730438232,-7.67922306060791,-8.922796249389649,-8.616579055786133,-8.17219352722168,-7.106074333190918,-9.219712257385254,-8.694686889648438,-6.727717876434326,-8.507884979248047,-7.051955223083496,-9.348919868469239,-7.390376091003418,-9.216300010681153,-8.319562911987305,-7.4399285316467289,-7.695730209350586,-8.51209545135498,-7.927889823913574,-6.283029556274414,-6.907681465148926,-9.642163276672364,-9.795429229736329,-7.43985652923584,-8.003374099731446,-7.7324628829956059,-8.91845703125,-6.821933746337891,-8.155062675476075,-7.245067119598389,-8.17941665649414,-7.990732669830322,-8.612524032592774,-8.179759979248047,-9.080748558044434,-9.640321731567383,-8.332859992980957,-9.116172790527344,-8.754642486572266,-8.63589859008789,-7.696497440338135,-9.867304801940918,-7.707513809204102,-7.2071685791015629,-8.419346809387207,-7.418087005615234,-7.080568790435791,-9.465694427490235,-8.982643127441407,-8.978955268859864,-7.4587082862854,-6.292691230773926,-7.521644592285156,-7.191188335418701,-6.736511707305908,-10.13673210144043,-7.047239303588867,-7.971283912658691,-7.797811508178711,-7.580437183380127,-7.5710344314575199,-10.494152069091797,-7.669098377227783,-8.706718444824219,-8.133491516113282,-8.61028003692627,-7.870708465576172,-9.492916107177735,-7.831095218658447,-8.660325050354004,-6.869818210601807,-8.622733116149903,-6.823427677154541,-9.354645729064942,-7.831371784210205,-9.574957847595215,-6.279467582702637,-9.451562881469727,-8.266412734985352,-9.0618257522583,-8.381707191467286,-8.42988109588623,-7.616215229034424,-8.038315773010254,-8.02629280090332,-6.788917541503906,-6.705282688140869,-7.6346588134765629,-7.820297718048096,-7.351708889007568,-8.289305686950684,-9.174559593200684,-7.459875106811523,-8.991573333740235,-7.822718620300293,-7.263855934143066,-8.00000286102295,-8.725565910339356,-7.832516193389893,-8.806103706359864,-7.145307540893555,-7.613608360290527,-9.28679370880127,-8.726061820983887,-8.939061164855957,-8.622809410095215,-9.984522819519043,-7.383492469787598,-8.141200065612793,-7.216730117797852,-6.87962532043457,-7.949179172515869,-8.492947578430176,-7.689577579498291,-8.747858047485352,-7.9857497215271,-8.101407051086426,-9.451827049255371,-6.898624420166016,-7.550993919372559,-8.548219680786133,-7.624932289123535,-7.79276704788208,-8.6800537109375,-9.340296745300293,-8.592402458190918,-7.869585037231445,-7.681553840637207,-7.5506720542907719,-8.691035270690918,-8.34400463104248,-8.943842887878418,-9.759772300720215,-6.307143211364746,-9.755660057067871,-8.304361343383789,-8.94615364074707,-8.219286918640137,-7.6185526847839359,-8.462236404418946,-8.580986976623536,-8.208450317382813,-8.666040420532227,-8.15431022644043,-7.769938945770264,-7.406304836273193,-7.27867317199707,-8.32669734954834,-7.405160903930664,-8.158099174499512,-7.616129398345947,-8.627245903015137,-8.565105438232422,-8.194578170776368,-8.36070728302002,-5.655324935913086,-8.575885772705079,-8.7648286819458,-7.556922435760498,-8.648502349853516,-8.266377449035645,-9.227701187133789,-7.418116569519043,-7.074976921081543,-7.993311405181885,-7.618872165679932,-8.015521049499512,-8.988988876342774,-6.663794040679932,-9.082868576049805,-7.238824367523193,-8.539219856262207,-8.70112419128418,-8.310545921325684,-6.62429141998291,-8.67347240447998,-7.73498010635376,-7.010748863220215,-8.129415512084961,-7.1857686042785648,-8.542155265808106,-6.995321750640869,-7.9858808517456059,-7.843338489532471,-8.73935604095459,-8.69140338897705,-8.051432609558106,-8.838248252868653,-7.903798580169678,-8.2610445022583,-7.001756191253662,-7.05519437789917,-8.449549674987793,-7.992011547088623,-8.727279663085938,-10.239124298095704,-8.431072235107422,-8.452345848083496,-7.98268461227417,-7.711741924285889,-8.730978012084961,-8.813648223876954,-7.602365970611572,-8.11695384979248,-8.501174926757813,-9.78632926940918,-7.7224860191345219,-7.561551570892334,-8.08961296081543,-9.179092407226563,-9.666267395019532,-7.977820873260498,-8.100119590759278,-8.0560884475708,-8.63466739654541,-8.17177677154541,-7.7593464851379398,-7.812971591949463,-7.617608070373535,-8.947954177856446,-7.995366096496582,-8.222770690917969,-8.15764331817627,-8.568860054016114,-7.920516014099121,-7.976472854614258,-7.723530292510986,-7.812366008758545,-8.474136352539063,-7.908750534057617,-8.490866661071778,-8.15002155303955,-7.821891784667969,-6.47206449508667,-8.632092475891114,-8.003262519836426,-6.682662010192871,-9.471281051635743,-7.276867866516113,-9.094285011291504,-9.036600112915039,-7.568068027496338,-9.321849822998047,-7.04682731628418,-6.908395290374756,-7.2976226806640629,-8.714224815368653,-8.369020462036133,-8.36808967590332,-7.376294136047363,-7.4105143547058109,-7.250776767730713,-7.8557329177856449,-7.248524188995361,-7.657224655151367,-8.268945693969727,-8.338460922241211,-7.187220573425293,-8.530656814575196,-10.251941680908204,-9.014874458312989,-8.478141784667969,-8.361289024353028,-8.316621780395508,-6.103732585906982,-6.842520713806152,-8.218488693237305,-5.519894123077393,-7.380786895751953,-5.757773399353027,-7.121065139770508,-10.57712173461914,-8.97102165222168,-7.825954914093018,-7.416272163391113,-8.183483123779297,-5.510575294494629,-5.9255523681640629,-7.4672136306762699,-8.917028427124024,-7.927708148956299,-5.912388801574707,-7.21650505065918,-9.449319839477539,-8.084490776062012,-8.590475082397461,-6.274686813354492,-6.453672409057617,-0.2236078828573227,-6.910566806793213,-7.162850856781006,-9.897899627685547,-6.016833782196045,-6.349526882171631,-7.67105770111084,-6.25560188293457,-8.278828620910645,-8.19733715057373,-9.2579984664917,-6.7675557136535648,-8.506107330322266,-8.820727348327637,-11.17709732055664,-6.072460651397705,-8.000432014465332,-7.243650436401367,-8.878824234008789,-8.20974349975586,-9.44715690612793,-6.784542083740234,-6.987757205963135,-8.582530975341797,-8.4609375,-6.369695663452148,-6.179902076721191,-7.721480369567871,-8.219008445739746,-7.7538347244262699,-7.048892498016357,-6.789600372314453,-7.461398124694824,-8.139300346374512,-8.025428771972657,-8.84798526763916,-9.106696128845215,-8.769813537597657,-6.850618362426758,-7.437621116638184,-7.333044052124023,-8.327919006347657,-8.63142204284668,-6.469910621643066,-7.256738662719727,-8.677223205566407,-7.718512535095215,-6.519766330718994,-8.411323547363282,-7.7351765632629398,-6.98076057434082,-10.325910568237305,-9.062334060668946,-7.015303611755371,-8.783538818359375,-9.23594856262207,-8.555912017822266,-8.769248008728028,-7.7647881507873539,-7.284441947937012,-8.838756561279297,-8.600980758666993,-7.706696510314941,-9.239337921142579,-10.192420959472657,-9.095966339111329,-6.940809726715088,-8.020330429077149,-7.161898612976074,-6.735374450683594,-8.661040306091309,-6.63660192489624,-8.877055168151856,-8.071928024291993,-7.922816276550293,-7.744394302368164,-6.382465362548828,-8.030845642089844,-9.163537979125977,-7.528006076812744,-7.60764741897583,-7.739869594573975,-8.70433235168457,-6.512587070465088,-8.33365535736084,-9.130060195922852,-6.912144660949707,-7.780490398406982,-9.198812484741211,-8.763032913208008,-7.485939025878906,-8.465415954589844,-7.572586536407471,-7.795084476470947,-7.747013092041016,-7.853079319000244,-8.064525604248047,-7.970235347747803,-7.775718688964844,-8.672051429748536,-7.3902459144592289,-9.44674301147461,-8.564115524291993,-7.953193664550781,-9.738587379455567,-7.776932239532471,-7.739206314086914,-8.394339561462403,-7.209464073181152,-7.849001407623291,-7.928214073181152,-6.422643661499023,-7.923652648925781,-9.400259017944336,-7.804851055145264,-6.339848518371582,-8.728333473205567,-9.465594291687012,-6.892261028289795,-7.2156243324279789,-7.949086666107178,-8.400480270385743,-7.487663745880127,-9.54520320892334,-7.842637538909912,-6.642043113708496,-8.711950302124024,-8.393813133239746,-8.763145446777344,-7.706149578094482,-8.246209144592286,-8.436622619628907,-8.55894660949707,-7.663381576538086,-7.735305309295654,-9.947803497314454,-7.815969944000244,-8.04333209991455,-9.785355567932129,-7.221349716186523,-9.889122009277344,-8.782401084899903,-9.364434242248536,-8.654271125793457,-8.402824401855469,-9.111023902893067,-8.82040786743164,-8.712545394897461,-7.920035362243652,-7.930874824523926,-6.867499828338623,-8.175867080688477,-7.1990861892700199,-8.938109397888184,-9.060979843139649,-8.3551664352417,-8.6182861328125,-8.405369758605957,-7.672006130218506,-7.761965274810791,-8.360213279724121,-8.697343826293946,-8.471534729003907,-8.444808006286621,-9.129993438720704,-7.300901889801025,-8.998881340026856,-8.356545448303223,-9.878396987915039,-7.258845329284668,-8.683479309082032,-9.100374221801758,-8.07700252532959,-9.09192180633545,-7.452850341796875,-10.017232894897461,-9.507646560668946,-6.592454433441162,-8.832816123962403,-7.943295001983643,-7.847100734710693,-7.5915350914001469,-8.778332710266114,-8.983786582946778,-7.973241806030273,-7.625160217285156,-7.677886962890625,-6.687117099761963,-8.864180564880371,-9.335630416870118,-10.578757286071778,-9.3927001953125,-6.819372653961182,-8.384204864501954,-10.584505081176758,-8.080031394958496,-7.503856658935547,-8.45255184173584,-7.690741539001465,-8.965921401977539,-7.341768741607666,-7.901857852935791,-8.4277925491333,-8.604175567626954,-8.603909492492676,-8.31224250793457,-6.874728679656982,-9.426545143127442,-7.716597080230713,-8.739935874938965,-8.853320121765137,-8.120670318603516,-7.35490608215332,-8.12468433380127,-7.657876968383789,-8.968700408935547,-9.213994979858399,-8.214433670043946,-9.350556373596192,-8.25356388092041,-8.712250709533692,-9.220914840698243,-7.683107852935791,-8.998462677001954,-7.285148620605469,-9.016064643859864,-9.671233177185059,-7.896791934967041,-9.651701927185059,-6.588701248168945,-8.735319137573243,-7.01595401763916,-6.91649055480957,-8.31368350982666,-8.54488468170166,-7.885142803192139,-8.626150131225586,-8.048995018005371,-8.67759895324707,-7.536801338195801,-6.584072589874268,-8.704122543334961,-9.557087898254395,-8.42569351196289,-8.526434898376465,-8.15678882598877,-7.989858150482178,-8.793416976928711,-8.481117248535157,-8.083687782287598,-8.790427207946778,-7.708278656005859,-7.45143461227417,-7.390944480895996,-7.083802700042725,-7.979727745056152,-8.444999694824219,-7.779477596282959,-8.977087020874024,-7.799976348876953,-8.33454418182373,-8.290688514709473,-8.367855072021485,-9.240680694580079,-8.888283729553223,-8.31071949005127,-6.748110771179199,-8.542724609375,-9.92891788482666,-6.819431304931641,-8.254051208496094,-8.667023658752442,-8.702027320861817,-8.487801551818848,-9.967564582824707,-9.070146560668946,-8.55634593963623,-8.922239303588868,-8.572121620178223,-7.901512622833252,-8.836462020874024,-8.918902397155762,-8.855074882507325,-7.613553524017334,-7.867787837982178,-7.179414749145508,-8.131004333496094,-9.378253936767579,-8.512314796447754,-8.318814277648926,-9.504016876220704,-7.519540786743164,-7.864925384521484,-7.293944835662842,-7.984706401824951,-7.879776954650879,-7.698012351989746,-8.193160057067871,-7.022008895874023,-8.737256050109864,-9.199338912963868,-8.207730293273926,-8.229811668395996,-7.64747428894043,-7.691596031188965,-9.581260681152344,-9.396727561950684,-9.245962142944336,-8.013721466064454,-8.312010765075684,-9.638660430908204,-8.9613676071167,-8.330998420715332,-9.361088752746582,-8.755111694335938,-9.087200164794922,-9.651103973388672,-8.495899200439454,-9.00059986114502,-7.78796911239624,-8.160320281982422,-8.803910255432129,-8.323909759521485,-8.004436492919922,-6.743252277374268,-7.879344940185547,-8.000860214233399,-9.4710693359375,-8.828743934631348,-7.974161624908447,-7.466307640075684,-8.966151237487793,-8.94923210144043,-8.40911865234375,-8.056198120117188,-9.5452880859375,-9.507559776306153,-7.027686595916748,-6.76782751083374,-9.382201194763184,-8.812776565551758,-8.843914031982422,-9.929332733154297,-9.95978832244873,-10.275819778442383,-8.813828468322754,-8.990188598632813,-8.750948905944825,-8.54891300201416,-6.772886753082275,-8.407695770263672,-8.894487380981446,-8.204573631286621,-7.767050266265869,-8.094276428222657,-8.601250648498536,-7.174397945404053,-7.789834976196289,-8.641094207763672,-8.755942344665528,-6.721891403198242,-8.862506866455079,-7.832739353179932,-9.254266738891602,-8.317471504211426,-8.163649559020996,-9.892936706542969,-8.055334091186524,-9.097320556640625,-7.726273059844971,-7.550567150115967,-10.312420845031739,-9.391064643859864,-8.465860366821289,-8.521524429321289,-8.200759887695313,-8.479472160339356,-9.273845672607422,-9.302441596984864,-7.844628810882568,-9.683399200439454,-9.09559440612793,-9.381423950195313,-8.165975570678711,-7.365659236907959,-7.744377613067627,-8.634664535522461,-7.865830421447754,-9.371169090270996,-8.412497520446778,-7.896256923675537,-9.616032600402832,-8.213971138000489,-7.419753074645996,-7.396520137786865,-9.37551212310791,-7.941961288452148,-10.060579299926758,-9.721089363098145,-8.518922805786133,-7.7203898429870609,-9.479009628295899,-8.69580364227295,-8.888731956481934,-8.87221622467041,-8.377985000610352,-9.133976936340332,-8.477212905883789,-9.180903434753418,-7.934357166290283,-8.523929595947266,-8.404708862304688,-8.51481819152832,-8.162263870239258,-8.41781997680664,-7.03891134262085,-7.8918962478637699,-8.718996047973633,-8.913198471069336,-8.355284690856934,-7.781738758087158,-10.463682174682618,-7.348896503448486,-7.756197929382324,-7.538888454437256,-8.737624168395996,-8.637627601623536,-8.981634140014649,-9.351240158081055,-8.58539867401123,-8.652957916259766,-8.98752212524414,-7.084904670715332,-7.996774196624756,-8.584047317504883,-8.5233793258667,-7.878381729125977,-9.256511688232422,-7.28749942779541,-8.464780807495118,-9.217079162597657,-7.270691394805908,-7.6792073249816898,-8.550745964050293,-9.423754692077637,-8.358842849731446,-7.920168876647949,-8.873929977416993,-9.182562828063965,-9.187641143798829,-7.713348865509033,-8.51081657409668,-10.41386604309082,-8.949426651000977,-9.777050018310547,-8.995494842529297,-9.557270050048829,-9.273805618286133,-8.817951202392579,-8.508161544799805,-8.034812927246094,-9.184344291687012,-9.537389755249024,-9.546879768371582,-6.8423943519592289,-8.050375938415528,-9.17497444152832,-9.532247543334961,-8.918024063110352,-9.46856689453125,-8.932116508483887,-7.513637542724609,-8.846039772033692,-7.89832067489624,-8.089273452758789,-9.701751708984375,-7.710528373718262,-9.193757057189942,-9.545865058898926,-9.474740982055664]}]}')\n"
     ]
    }
   ],
   "source": [
    "results = triton_client.infer(modelName, inputs, outputs=outputs)"
   ]
  },
  {
   "cell_type": "code",
   "execution_count": 26,
   "id": "cef0cc7e",
   "metadata": {},
   "outputs": [
    {
     "data": {
      "text/plain": [
       "(5060,)"
      ]
     },
     "execution_count": 26,
     "metadata": {},
     "output_type": "execute_result"
    }
   ],
   "source": [
    "import numpy as np\n",
    "np.array(results.get_response()['outputs'][0]['data']).shape"
   ]
  },
  {
   "cell_type": "code",
   "execution_count": 27,
   "id": "1772de02",
   "metadata": {},
   "outputs": [],
   "source": [
    "output0_data = results.as_numpy('output_1')"
   ]
  },
  {
   "cell_type": "code",
   "execution_count": 28,
   "id": "d7822cbe",
   "metadata": {},
   "outputs": [
    {
     "data": {
      "text/plain": [
       "(10, 506)"
      ]
     },
     "execution_count": 28,
     "metadata": {},
     "output_type": "execute_result"
    }
   ],
   "source": [
    "output0_data.shape"
   ]
  },
  {
   "cell_type": "code",
   "execution_count": 31,
   "id": "c16ccd32",
   "metadata": {},
   "outputs": [
    {
     "data": {
      "text/plain": [
       "array([[ -8.485235 ,  -9.017825 ,  -6.982795 , ...,  -8.269795 ,\n",
       "         -9.366974 ,  -8.534415 ],\n",
       "       [ -9.220784 ,  -9.690337 ,  -7.0150924, ...,  -8.307517 ,\n",
       "         -9.336738 ,  -8.855139 ],\n",
       "       [ -9.577528 ,  -7.2755556,  -6.906867 , ...,  -7.2030134,\n",
       "         -8.946048 ,  -9.925276 ],\n",
       "       ...,\n",
       "       [ -8.45824  ,  -7.5913186,  -7.6724224, ...,  -8.509451 ,\n",
       "         -8.716337 ,  -9.1536875],\n",
       "       [ -7.4180007,  -8.073153 ,  -8.186111 , ..., -10.251942 ,\n",
       "         -9.014874 ,  -8.478142 ],\n",
       "       [ -8.361289 ,  -8.316622 ,  -6.1037326, ...,  -9.193757 ,\n",
       "         -9.545865 ,  -9.474741 ]], dtype=float32)"
      ]
     },
     "execution_count": 31,
     "metadata": {},
     "output_type": "execute_result"
    }
   ],
   "source": [
    "output0_data"
   ]
  },
  {
   "cell_type": "code",
   "execution_count": 74,
   "id": "2533a6aa",
   "metadata": {},
   "outputs": [],
   "source": [
    "from tritonclient.utils import *\n",
    "import tritonclient.http as httpclient\n",
    "import nvtabular\n",
    "import cudf\n",
    "\n",
    "# # read in the workflow (to get input/output schema to call triton with)\n",
    "# workflow = nvtabular.Workflow.load(\"/NVTabular/NVTabular/examples/rossman/repo/rossmann/1/workflow\")\n",
    "cols = ['inputs/category-list_trim', 'inputs/item_id-list_trim']\n",
    "# read in a batch of data to get transforms for\n",
    "batch = cudf.read_parquet(\"./sessions_by_day/1/train.parquet\", num_rows=20)[['category-list_trim', 'item_id-list_trim']]\n"
   ]
  },
  {
   "cell_type": "code",
   "execution_count": 75,
   "id": "e794a332",
   "metadata": {},
   "outputs": [],
   "source": [
    "batch.columns= cols"
   ]
  },
  {
   "cell_type": "code",
   "execution_count": 76,
   "id": "95b74de0",
   "metadata": {},
   "outputs": [
    {
     "data": {
      "text/html": [
       "<div>\n",
       "<style scoped>\n",
       "    .dataframe tbody tr th:only-of-type {\n",
       "        vertical-align: middle;\n",
       "    }\n",
       "\n",
       "    .dataframe tbody tr th {\n",
       "        vertical-align: top;\n",
       "    }\n",
       "\n",
       "    .dataframe thead th {\n",
       "        text-align: right;\n",
       "    }\n",
       "</style>\n",
       "<table border=\"1\" class=\"dataframe\">\n",
       "  <thead>\n",
       "    <tr style=\"text-align: right;\">\n",
       "      <th></th>\n",
       "      <th>inputs/category-list_trim</th>\n",
       "      <th>inputs/item_id-list_trim</th>\n",
       "    </tr>\n",
       "  </thead>\n",
       "  <tbody>\n",
       "    <tr>\n",
       "      <th>0</th>\n",
       "      <td>[8, 3, 16, 5, 2, 2, 2, 25, 2, 7, 7, 8, 2, 5, 4...</td>\n",
       "      <td>[32, 8, 70, 18, 2, 5, 2, 120, 4, 26, 29, 34, 2...</td>\n",
       "    </tr>\n",
       "    <tr>\n",
       "      <th>1</th>\n",
       "      <td>[16, 8, 2, 3, 2, 2, 5, 12, 14, 7, 9, 15, 3, 2,...</td>\n",
       "      <td>[72, 35, 4, 11, 2, 2, 17, 54, 57, 26, 43, 68, ...</td>\n",
       "    </tr>\n",
       "    <tr>\n",
       "      <th>2</th>\n",
       "      <td>[9, 20, 2, 4, 4, 7, 17, 7, 4, 4, 2, 2, 3, 7, 3...</td>\n",
       "      <td>[39, 99, 5, 21, 6, 28, 81, 29, 14, 33, 3, 5, 1...</td>\n",
       "    </tr>\n",
       "    <tr>\n",
       "      <th>4</th>\n",
       "      <td>[5, 20, 5, 3, 3, 4, 7, 4, 3, 3, 7, 5, 3, 6, 2,...</td>\n",
       "      <td>[16, 96, 16, 10, 8, 33, 26, 9, 12, 10, 28, 16,...</td>\n",
       "    </tr>\n",
       "    <tr>\n",
       "      <th>5</th>\n",
       "      <td>[7, 6, 10, 3, 7, 2, 2, 49, 2, 14, 5, 3, 5, 2, ...</td>\n",
       "      <td>[28, 19, 38, 10, 26, 4, 7, 205, 7, 56, 15, 8, ...</td>\n",
       "    </tr>\n",
       "  </tbody>\n",
       "</table>\n",
       "</div>"
      ],
      "text/plain": [
       "                           inputs/category-list_trim  \\\n",
       "0  [8, 3, 16, 5, 2, 2, 2, 25, 2, 7, 7, 8, 2, 5, 4...   \n",
       "1  [16, 8, 2, 3, 2, 2, 5, 12, 14, 7, 9, 15, 3, 2,...   \n",
       "2  [9, 20, 2, 4, 4, 7, 17, 7, 4, 4, 2, 2, 3, 7, 3...   \n",
       "4  [5, 20, 5, 3, 3, 4, 7, 4, 3, 3, 7, 5, 3, 6, 2,...   \n",
       "5  [7, 6, 10, 3, 7, 2, 2, 49, 2, 14, 5, 3, 5, 2, ...   \n",
       "\n",
       "                            inputs/item_id-list_trim  \n",
       "0  [32, 8, 70, 18, 2, 5, 2, 120, 4, 26, 29, 34, 2...  \n",
       "1  [72, 35, 4, 11, 2, 2, 17, 54, 57, 26, 43, 68, ...  \n",
       "2  [39, 99, 5, 21, 6, 28, 81, 29, 14, 33, 3, 5, 1...  \n",
       "4  [16, 96, 16, 10, 8, 33, 26, 9, 12, 10, 28, 16,...  \n",
       "5  [28, 19, 38, 10, 26, 4, 7, 205, 7, 56, 15, 8, ...  "
      ]
     },
     "execution_count": 76,
     "metadata": {},
     "output_type": "execute_result"
    }
   ],
   "source": [
    "batch.head()"
   ]
  },
  {
   "cell_type": "code",
   "execution_count": 77,
   "id": "ad3e2a49",
   "metadata": {},
   "outputs": [],
   "source": [
    "# convert the batch to a triton inputs\n",
    "columns = [(col, batch[col]) for col in batch.columns]\n",
    "inputs = [httpclient.InferInput(name, col.shape, np_to_triton_dtype(col.dtype)) for name, col in columns]"
   ]
  },
  {
   "cell_type": "code",
   "execution_count": 78,
   "id": "cab1c193",
   "metadata": {},
   "outputs": [
    {
     "data": {
      "text/plain": [
       "{'name': 'inputs/category-list_trim', 'shape': (20,), 'datatype': None}"
      ]
     },
     "execution_count": 78,
     "metadata": {},
     "output_type": "execute_result"
    }
   ],
   "source": [
    "inputs[0]._get_tensor()"
   ]
  },
  {
   "cell_type": "code",
   "execution_count": 50,
   "id": "7dfdc651",
   "metadata": {},
   "outputs": [
    {
     "ename": "AttributeError",
     "evalue": "'Series' object has no attribute 'reshape'",
     "output_type": "error",
     "traceback": [
      "\u001b[0;31m---------------------------------------------------------------------------\u001b[0m",
      "\u001b[0;31mAttributeError\u001b[0m                            Traceback (most recent call last)",
      "\u001b[0;32m/tmp/ipykernel_1006/1985904021.py\u001b[0m in \u001b[0;36m<module>\u001b[0;34m\u001b[0m\n\u001b[0;32m----> 1\u001b[0;31m \u001b[0mcol\u001b[0m \u001b[0;34m=\u001b[0m \u001b[0mcol\u001b[0m\u001b[0;34m.\u001b[0m\u001b[0mreshape\u001b[0m\u001b[0;34m(\u001b[0m\u001b[0mlen\u001b[0m\u001b[0;34m(\u001b[0m\u001b[0mcol\u001b[0m\u001b[0;34m)\u001b[0m\u001b[0;34m,\u001b[0m \u001b[0;36m1\u001b[0m\u001b[0;34m)\u001b[0m\u001b[0;34m\u001b[0m\u001b[0;34m\u001b[0m\u001b[0m\n\u001b[0m\u001b[1;32m      2\u001b[0m \u001b[0;31m# input_tensor = input_class(name, col.shape, np_to_triton_dtype(col.dtype))\u001b[0m\u001b[0;34m\u001b[0m\u001b[0;34m\u001b[0m\u001b[0;34m\u001b[0m\u001b[0m\n\u001b[1;32m      3\u001b[0m \u001b[0;31m# input_tensor.set_data_from_numpy(col)\u001b[0m\u001b[0;34m\u001b[0m\u001b[0;34m\u001b[0m\u001b[0;34m\u001b[0m\u001b[0m\n",
      "\u001b[0;31mAttributeError\u001b[0m: 'Series' object has no attribute 'reshape'"
     ]
    }
   ],
   "source": [
    "# col = col.reshape(len(col), 1)\n",
    "# input_tensor = input_class(name, col.shape, np_to_triton_dtype(col.dtype))\n",
    "# input_tensor.set_data_from_numpy(col)"
   ]
  },
  {
   "cell_type": "code",
   "execution_count": null,
   "id": "d330010e",
   "metadata": {},
   "outputs": [],
   "source": [
    "# placeholder variables for the output\n",
    "outputs = [httpclient.InferRequestedOutput(name) for name in workflow.column_group.columns]\n",
    "\n",
    "# make the request\n",
    "with httpclient.InferenceServerClient(\"localhost:8000\") as client:\n",
    "    response = client.infer(\"rossmann\", inputs, request_id=\"1\",outputs=outputs)\n",
    "\n",
    "# convert output from triton back to a nvt dataframe  \n",
    "output = cudf.DataFrame({col: response.as_numpy(col) for col in workflow.column_group.columns})\n",
    "print(output)"
   ]
  },
  {
   "cell_type": "code",
   "execution_count": null,
   "id": "6f935740",
   "metadata": {},
   "outputs": [],
   "source": [
    "from tritonclient.utils import *\n",
    "import tritonclient.http as httpclient\n",
    "import nvtabular\n",
    "import cudf\n",
    "from timeit import default_timer as timer\n",
    "from datetime import timedelta\n",
    "\n",
    "\n",
    "# # read in a batch of data to get transforms for\n",
    "# batch = cudf.read_parquet(\"/working_dir/Models_TF/Data/movielens/train.parquet\", nrows=2)\n",
    "\n",
    "\n",
    "\n",
    "inputs = [] \n",
    "\n",
    "for i, col in enumerate(batch.columns):\n",
    "    print(col)\n",
    "    d = batch[col].values_host.astype(np.int64)\n",
    "    d = d.reshape(len(d),1)\n",
    "    inputs.append(httpclient.InferInput(col, d.shape, np_to_triton_dtype(np.int64)))\n",
    "    inputs[i].set_data_from_numpy(d)\n"
   ]
  },
  {
   "cell_type": "code",
   "execution_count": 107,
   "id": "eddbef16",
   "metadata": {},
   "outputs": [
    {
     "data": {
      "text/plain": [
       "0     [8, 3, 16, 5, 2, 2, 2, 25, 2, 7, 7, 8, 2, 5, 4...\n",
       "1     [16, 8, 2, 3, 2, 2, 5, 12, 14, 7, 9, 15, 3, 2,...\n",
       "2     [9, 20, 2, 4, 4, 7, 17, 7, 4, 4, 2, 2, 3, 7, 3...\n",
       "4     [5, 20, 5, 3, 3, 4, 7, 4, 3, 3, 7, 5, 3, 6, 2,...\n",
       "5     [7, 6, 10, 3, 7, 2, 2, 49, 2, 14, 5, 3, 5, 2, ...\n",
       "6     [34, 3, 3, 2, 6, 11, 2, 8, 4, 8, 11, 2, 4, 24,...\n",
       "8     [8, 2, 10, 14, 2, 7, 35, 3, 3, 6, 6, 3, 7, 8, ...\n",
       "9     [5, 8, 2, 8, 35, 4, 2, 2, 2, 19, 2, 37, 3, 9, ...\n",
       "10    [3, 3, 6, 7, 8, 11, 7, 2, 9, 2, 7, 7, 5, 119, ...\n",
       "11    [16, 24, 21, 5, 2, 2, 4, 2, 10, 3, 4, 61, 34, ...\n",
       "12    [8, 4, 6, 2, 6, 8, 3, 3, 9, 9, 12, 5, 7, 6, 13...\n",
       "13    [4, 7, 6, 8, 2, 2, 2, 2, 7, 3, 9, 2, 5, 11, 2,...\n",
       "15    [6, 8, 12, 6, 64, 7, 4, 10, 6, 17, 11, 2, 13, ...\n",
       "16    [2, 7, 15, 28, 2, 3, 2, 6, 2, 9, 2, 18, 3, 3, ...\n",
       "17    [2, 3, 2, 6, 2, 6, 8, 12, 10, 24, 9, 2, 26, 8,...\n",
       "18    [11, 10, 4, 5, 3, 2, 7, 6, 11, 7, 3, 4, 13, 3,...\n",
       "19    [2, 5, 2, 2, 6, 11, 10, 18, 3, 14, 3, 4, 5, 4,...\n",
       "20    [43, 12, 3, 2, 3, 2, 4, 8, 4, 15, 24, 7, 2, 3,...\n",
       "22    [3, 2, 2, 5, 4, 21, 4, 7, 6, 3, 5, 24, 3, 4, 8...\n",
       "23    [3, 3, 8, 6, 42, 2, 8, 39, 2, 11, 2, 5, 57, 2,...\n",
       "Name: inputs/category-list_trim, dtype: list"
      ]
     },
     "execution_count": 107,
     "metadata": {},
     "output_type": "execute_result"
    }
   ],
   "source": [
    "import cupy\n",
    "batch[col]"
   ]
  },
  {
   "cell_type": "code",
   "execution_count": null,
   "id": "07b64cbb",
   "metadata": {},
   "outputs": [],
   "source": [
    "outputs = [httpclient.InferRequestedOutput(\"dense_3\")]\n",
    "\n",
    "with httpclient.InferenceServerClient(\"localhost:8000\") as client:\n",
    "    response = client.infer(\"movielens\", inputs, request_id=\"1\",outputs=outputs)\n",
    "\n",
    "print(response.as_numpy(\"dense_3\"))"
   ]
  }
 ],
 "metadata": {
  "interpreter": {
   "hash": "7b543a88d374ac88bf8df97911b380f671b13649694a5b49eb21e60fd27eb479"
  },
  "kernelspec": {
   "display_name": "Python 3 (ipykernel)",
   "language": "python",
   "name": "python3"
  },
  "language_info": {
   "codemirror_mode": {
    "name": "ipython",
    "version": 3
   },
   "file_extension": ".py",
   "mimetype": "text/x-python",
   "name": "python",
   "nbconvert_exporter": "python",
   "pygments_lexer": "ipython3",
   "version": "3.8.10"
  }
 },
 "nbformat": 4,
 "nbformat_minor": 5
}
